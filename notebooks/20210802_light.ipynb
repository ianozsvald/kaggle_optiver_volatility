{
 "cells": [
  {
   "cell_type": "code",
   "execution_count": 1,
   "id": "c8b07f27-26af-4f9f-a474-4f4ed0a155a1",
   "metadata": {},
   "outputs": [
    {
     "name": "stdout",
     "output_type": "stream",
     "text": [
      "In [1] used 0.0000 MiB RAM in 0.10s, peaked 0.00 MiB above current, total RAM usage 134.02 MiB\n"
     ]
    }
   ],
   "source": [
    "import os\n",
    "import pandas as pd\n",
    "import matplotlib.pyplot as plt\n",
    "from pprint import pprint\n",
    "import numpy as np\n",
    "\n",
    "import random\n",
    "#import memory_profiler\n",
    "import altair as alt\n",
    "from tqdm import tqdm\n",
    "import datetime\n",
    "\n",
    "USE_ALL_STOCK_IDS = True\n",
    "TEST_SIZE = 0.25\n",
    "\n",
    "ENV_HOME = True\n",
    "if os.environ.get('USER') == 'ian':\n",
    "    import ipython_memory_usage\n",
    "    %ipython_memory_usage_start\n",
    "    USE_TEST_LOCAL_6_ITEMS = True # robust local testing at home\n",
    "else:\n",
    "    USE_ALL_STOCK_IDS = False\n",
    "    ENV_HOME = False\n",
    "    USE_TEST_LOCAL_6_ITEMS = False\n",
    "    # kaggle notes:\n",
    "    # You can write up to 20GB to the current directory (/kaggle/working/) that gets preserved as output when you create a version using \"Save & Run All\" \n",
    "    # You can also write temporary files to /kaggle/temp/, but they won't be saved outside of the current session"
   ]
  },
  {
   "cell_type": "code",
   "execution_count": 2,
   "id": "a686d343-962d-45ab-90d1-cfeaf5a310c5",
   "metadata": {},
   "outputs": [
    {
     "name": "stdout",
     "output_type": "stream",
     "text": [
      "Utility says ROOT is /home/ian/data/kaggle/optiver_volatility/\n",
      "In [2] used 0.2422 MiB RAM in 0.13s, peaked 0.00 MiB above current, total RAM usage 134.26 MiB\n"
     ]
    }
   ],
   "source": [
    "# OR PASTE IN UTILITY CODE HERE FOR KAGGLE\n",
    "from utility import make_unique_time_ids, get_data, get_training_stock_ids\n",
    "from utility import ROOT, TEST_CSV, TRAIN_CSV\n"
   ]
  },
  {
   "cell_type": "markdown",
   "id": "d5bebae2-9f9f-44b4-ac8a-6681b4866674",
   "metadata": {},
   "source": [
    "## Load train set"
   ]
  },
  {
   "cell_type": "code",
   "execution_count": 3,
   "id": "c2e64472-3e9e-4362-8479-15ca8c632db7",
   "metadata": {},
   "outputs": [
    {
     "name": "stdout",
     "output_type": "stream",
     "text": [
      "In [3] used 0.0000 MiB RAM in 0.11s, peaked 0.00 MiB above current, total RAM usage 134.26 MiB\n"
     ]
    }
   ],
   "source": [
    "stock_ids = get_training_stock_ids('book_train.parquet') # all stocks by default\n",
    "if not USE_ALL_STOCK_IDS:\n",
    "    # choose a random subset\n",
    "    print(\"Using a subset\")\n",
    "    random.shuffle(stock_ids)\n",
    "    stock_ids = stock_ids[:30]"
   ]
  },
  {
   "cell_type": "code",
   "execution_count": 4,
   "id": "333d41e0-407c-4ffe-ab6e-f6a3e0550e55",
   "metadata": {},
   "outputs": [
    {
     "name": "stdout",
     "output_type": "stream",
     "text": [
      "(428932, 1)\n"
     ]
    },
    {
     "data": {
      "text/plain": [
       "3830"
      ]
     },
     "execution_count": 4,
     "metadata": {},
     "output_type": "execute_result"
    },
    {
     "name": "stdout",
     "output_type": "stream",
     "text": [
      "In [4] used 23.1875 MiB RAM in 0.30s, peaked 4.80 MiB above current, total RAM usage 157.45 MiB\n"
     ]
    }
   ],
   "source": [
    "df_train_all = pd.read_csv(TRAIN_CSV)\n",
    "df_train_all = df_train_all.set_index(['stock_id', 'time_id'])\n",
    "print(df_train_all.shape)\n",
    "rows_for_stock_id_0 = df_train_all.query('stock_id == 0').shape[0]\n",
    "rows_for_stock_id_0"
   ]
  },
  {
   "cell_type": "code",
   "execution_count": 5,
   "id": "b448e906-0279-4bde-962e-16736fbf6743",
   "metadata": {},
   "outputs": [
    {
     "name": "stdout",
     "output_type": "stream",
     "text": [
      "In [5] used -6.3750 MiB RAM in 0.12s, peaked 6.59 MiB above current, total RAM usage 151.07 MiB\n"
     ]
    }
   ],
   "source": [
    "time_ids_train = list(df_train_all.reset_index()['time_id'].unique())\n",
    "time_ids_test = []"
   ]
  },
  {
   "cell_type": "code",
   "execution_count": 6,
   "id": "079f3c35-eda1-43c1-bcc5-6c9d60ff5ce1",
   "metadata": {},
   "outputs": [
    {
     "name": "stdout",
     "output_type": "stream",
     "text": [
      "In [6] used 0.0000 MiB RAM in 0.11s, peaked 0.00 MiB above current, total RAM usage 151.07 MiB\n"
     ]
    }
   ],
   "source": [
    "# make feature columns\n",
    "def make_features1(df_book, agg_type, cols):\n",
    "    features_var1 = df_book.groupby(['stock_id', 'time_id'])[cols].agg(agg_type)\n",
    "    features_var1_col_names = [f\"{col}_{agg_type}\" for col in cols]\n",
    "    features_var1.columns = features_var1_col_names\n",
    "    #features_var1\n",
    "    return features_var1"
   ]
  },
  {
   "cell_type": "code",
   "execution_count": 7,
   "id": "dedafc9d-155b-4b71-8d96-ef3c843fda92",
   "metadata": {},
   "outputs": [
    {
     "name": "stdout",
     "output_type": "stream",
     "text": [
      "Iterating over 112 stocks:\n"
     ]
    },
    {
     "name": "stderr",
     "output_type": "stream",
     "text": [
      "100%|███████████████████████████████████████████████████████████████████████████████████████████████████████████████████████████████████████████████████████████████████████████████████████████████████████| 112/112 [01:27<00:00,  1.28it/s]"
     ]
    },
    {
     "name": "stdout",
     "output_type": "stream",
     "text": [
      "In [7] used 495.7344 MiB RAM in 87.85s, peaked 223.16 MiB above current, total RAM usage 646.81 MiB\n"
     ]
    },
    {
     "name": "stderr",
     "output_type": "stream",
     "text": [
      "\n"
     ]
    }
   ],
   "source": [
    "print(f'Iterating over {len(stock_ids)} stocks:')\n",
    "all_train_merged = []\n",
    "for stock_id in tqdm(stock_ids):\n",
    "    assert isinstance(stock_id, int)\n",
    "    df_book_train_stock_X = pd.read_parquet(\n",
    "        os.path.join(ROOT, f\"book_train.parquet/stock_id={stock_id}\")\n",
    "    )\n",
    "    df_book_train_stock_X[\"stock_id\"] = stock_id\n",
    "    df_book_train_stock_X = df_book_train_stock_X.set_index(['stock_id', 'time_id'])\n",
    "    assert df_book_train_stock_X.shape[0] > rows_for_stock_id_0, (df_book_train_stock_X.shape[0], rows_for_stock_id_0)\n",
    "    \n",
    "    cols = ['bid_price1', 'ask_price1', 'bid_price2', 'ask_price2', 'bid_size1', 'ask_size1']\n",
    "    features_var1 = make_features1(df_book_train_stock_X, 'var', cols)\n",
    "    #print(f\"{features_var1.memory_usage().sum() / 1_000_000:0.1f} MB\")\n",
    "    features_mean1 = make_features1(df_book_train_stock_X, 'mean', cols)\n",
    "\n",
    "    # inner join, so we just get the subset\n",
    "    train_merged = pd.merge(df_train_all, features_var1, left_index=True, right_index=True, how='inner')\n",
    "    #assert train_merged.shape[0] == rows_for_stock_id_0 # can be 3830, 3829, not sure what a good test is here\n",
    "    assert train_merged.shape[0] == df_book_train_stock_X.reset_index()[['time_id']].nunique()[0] # i.e. check for the inner join\n",
    "    train_merged = pd.merge(train_merged, features_mean1, left_index=True, right_index=True)\n",
    "    all_train_merged.append(train_merged)"
   ]
  },
  {
   "cell_type": "code",
   "execution_count": 8,
   "id": "e41a8bbd-ea61-4121-a0f7-a303cb0940d5",
   "metadata": {},
   "outputs": [
    {
     "data": {
      "text/plain": [
       "(428932, 13)"
      ]
     },
     "execution_count": 8,
     "metadata": {},
     "output_type": "execute_result"
    },
    {
     "name": "stdout",
     "output_type": "stream",
     "text": [
      "In [8] used -46.6719 MiB RAM in 0.17s, peaked 46.67 MiB above current, total RAM usage 600.14 MiB\n"
     ]
    }
   ],
   "source": [
    "# join all the partial results back together\n",
    "train_merged = pd.concat(all_train_merged)\n",
    "train_merged.shape"
   ]
  },
  {
   "cell_type": "code",
   "execution_count": 9,
   "id": "0c8c58d2-9e7e-41a7-8ecb-035762d33e83",
   "metadata": {},
   "outputs": [
    {
     "data": {
      "text/plain": [
       "Index(['bid_price1_var', 'ask_price1_var', 'bid_price2_var', 'ask_price2_var',\n",
       "       'bid_size1_var', 'ask_size1_var', 'bid_price1_mean', 'ask_price1_mean',\n",
       "       'bid_price2_mean', 'ask_price2_mean', 'bid_size1_mean',\n",
       "       'ask_size1_mean'],\n",
       "      dtype='object')"
      ]
     },
     "execution_count": 9,
     "metadata": {},
     "output_type": "execute_result"
    },
    {
     "name": "stdout",
     "output_type": "stream",
     "text": [
      "In [9] used 1.3477 MiB RAM in 0.12s, peaked 0.00 MiB above current, total RAM usage 601.48 MiB\n"
     ]
    }
   ],
   "source": [
    "features = train_merged.drop(columns='target').columns\n",
    "features"
   ]
  },
  {
   "cell_type": "markdown",
   "id": "fa604e88-0b6f-438a-9143-9bce7289a0a1",
   "metadata": {},
   "source": [
    "# Features"
   ]
  },
  {
   "cell_type": "code",
   "execution_count": 10,
   "id": "38c715f1-d4f9-4eb3-b0f1-6942f11341e6",
   "metadata": {},
   "outputs": [
    {
     "data": {
      "text/plain": [
       "((428932, 13), (0, 13), (428932,), (0,))"
      ]
     },
     "execution_count": 10,
     "metadata": {},
     "output_type": "execute_result"
    },
    {
     "name": "stdout",
     "output_type": "stream",
     "text": [
      "In [10] used -25.7734 MiB RAM in 0.23s, peaked 25.77 MiB above current, total RAM usage 575.71 MiB\n"
     ]
    }
   ],
   "source": [
    "#time_ids_train, time_ids_test\n",
    "def train_test_split(df, target_col, time_ids_train, time_ids_test):\n",
    "    X_train = df.query('time_id in @time_ids_train').drop(columns=[target_col, 'time_id'])\n",
    "    X_test = df.query('time_id in @time_ids_test').drop(columns=[target_col, 'time_id'])\n",
    "    y_train = df.query('time_id in @time_ids_train')[target_col]\n",
    "    y_test = df.query('time_id in @time_ids_test')[target_col]\n",
    "    return X_train, X_test, y_train, y_test\n",
    "\n",
    "feature_cols = list(features) + ['stock_id']\n",
    "X_train, X_test, y_train, y_test = train_test_split(train_merged.reset_index()[feature_cols+['time_id', 'target']], 'target', time_ids_train, time_ids_test)\n",
    "X_train.shape, X_test.shape, y_train.shape, y_test.shape"
   ]
  },
  {
   "cell_type": "code",
   "execution_count": 11,
   "id": "1eeb0826-a793-495e-9096-2ccd215f32e3",
   "metadata": {},
   "outputs": [
    {
     "data": {
      "text/html": [
       "<div>\n",
       "<style scoped>\n",
       "    .dataframe tbody tr th:only-of-type {\n",
       "        vertical-align: middle;\n",
       "    }\n",
       "\n",
       "    .dataframe tbody tr th {\n",
       "        vertical-align: top;\n",
       "    }\n",
       "\n",
       "    .dataframe thead th {\n",
       "        text-align: right;\n",
       "    }\n",
       "</style>\n",
       "<table border=\"1\" class=\"dataframe\">\n",
       "  <thead>\n",
       "    <tr style=\"text-align: right;\">\n",
       "      <th></th>\n",
       "      <th>bid_price1_var</th>\n",
       "      <th>ask_price1_var</th>\n",
       "      <th>bid_price2_var</th>\n",
       "      <th>ask_price2_var</th>\n",
       "      <th>bid_size1_var</th>\n",
       "      <th>ask_size1_var</th>\n",
       "      <th>bid_price1_mean</th>\n",
       "      <th>ask_price1_mean</th>\n",
       "      <th>bid_price2_mean</th>\n",
       "      <th>ask_price2_mean</th>\n",
       "      <th>bid_size1_mean</th>\n",
       "      <th>ask_size1_mean</th>\n",
       "      <th>stock_id</th>\n",
       "    </tr>\n",
       "  </thead>\n",
       "  <tbody>\n",
       "    <tr>\n",
       "      <th>0</th>\n",
       "      <td>1.539389e-07</td>\n",
       "      <td>1.544176e-07</td>\n",
       "      <td>1.349132e-07</td>\n",
       "      <td>1.465483e-07</td>\n",
       "      <td>11855.387055</td>\n",
       "      <td>6892.936853</td>\n",
       "      <td>1.000904</td>\n",
       "      <td>1.001389</td>\n",
       "      <td>1.000779</td>\n",
       "      <td>1.001524</td>\n",
       "      <td>127.993569</td>\n",
       "      <td>111.192926</td>\n",
       "      <td>59</td>\n",
       "    </tr>\n",
       "    <tr>\n",
       "      <th>1</th>\n",
       "      <td>3.412355e-07</td>\n",
       "      <td>4.039657e-07</td>\n",
       "      <td>3.298110e-07</td>\n",
       "      <td>4.177058e-07</td>\n",
       "      <td>22438.854139</td>\n",
       "      <td>32757.977261</td>\n",
       "      <td>1.000577</td>\n",
       "      <td>1.001177</td>\n",
       "      <td>1.000439</td>\n",
       "      <td>1.001341</td>\n",
       "      <td>141.639594</td>\n",
       "      <td>199.111675</td>\n",
       "      <td>59</td>\n",
       "    </tr>\n",
       "    <tr>\n",
       "      <th>2</th>\n",
       "      <td>5.515992e-07</td>\n",
       "      <td>5.405377e-07</td>\n",
       "      <td>5.369475e-07</td>\n",
       "      <td>5.369036e-07</td>\n",
       "      <td>10481.927458</td>\n",
       "      <td>12315.572839</td>\n",
       "      <td>0.999024</td>\n",
       "      <td>0.999396</td>\n",
       "      <td>0.998933</td>\n",
       "      <td>0.999480</td>\n",
       "      <td>150.673077</td>\n",
       "      <td>168.711538</td>\n",
       "      <td>59</td>\n",
       "    </tr>\n",
       "  </tbody>\n",
       "</table>\n",
       "</div>"
      ],
      "text/plain": [
       "   bid_price1_var  ask_price1_var  bid_price2_var  ask_price2_var  \\\n",
       "0    1.539389e-07    1.544176e-07    1.349132e-07    1.465483e-07   \n",
       "1    3.412355e-07    4.039657e-07    3.298110e-07    4.177058e-07   \n",
       "2    5.515992e-07    5.405377e-07    5.369475e-07    5.369036e-07   \n",
       "\n",
       "   bid_size1_var  ask_size1_var  bid_price1_mean  ask_price1_mean  \\\n",
       "0   11855.387055    6892.936853         1.000904         1.001389   \n",
       "1   22438.854139   32757.977261         1.000577         1.001177   \n",
       "2   10481.927458   12315.572839         0.999024         0.999396   \n",
       "\n",
       "   bid_price2_mean  ask_price2_mean  bid_size1_mean  ask_size1_mean  stock_id  \n",
       "0         1.000779         1.001524      127.993569      111.192926        59  \n",
       "1         1.000439         1.001341      141.639594      199.111675        59  \n",
       "2         0.998933         0.999480      150.673077      168.711538        59  "
      ]
     },
     "execution_count": 11,
     "metadata": {},
     "output_type": "execute_result"
    },
    {
     "name": "stdout",
     "output_type": "stream",
     "text": [
      "In [11] used 0.2578 MiB RAM in 0.13s, peaked 0.00 MiB above current, total RAM usage 575.97 MiB\n"
     ]
    }
   ],
   "source": [
    "X_train.head(3)"
   ]
  },
  {
   "cell_type": "code",
   "execution_count": 12,
   "id": "d7d9c065-3d86-4708-a9fc-06e7438471cd",
   "metadata": {},
   "outputs": [
    {
     "data": {
      "text/plain": [
       "((428932, 13), (0, 13), (428932,), (0,))"
      ]
     },
     "execution_count": 12,
     "metadata": {},
     "output_type": "execute_result"
    },
    {
     "name": "stdout",
     "output_type": "stream",
     "text": [
      "In [12] used -5.4922 MiB RAM in 0.11s, peaked 5.49 MiB above current, total RAM usage 570.48 MiB\n"
     ]
    }
   ],
   "source": [
    "X_train.shape, X_test.shape, y_train.shape, y_test.shape"
   ]
  },
  {
   "cell_type": "markdown",
   "id": "3e707413-28fc-4963-8281-f5c6a9d49cd7",
   "metadata": {},
   "source": [
    "# ML on a train/test split"
   ]
  },
  {
   "cell_type": "code",
   "execution_count": 13,
   "id": "5fee6800-336e-4e6e-84f9-ff513a424f50",
   "metadata": {},
   "outputs": [
    {
     "name": "stdout",
     "output_type": "stream",
     "text": [
      "In [13] used 20.6758 MiB RAM in 0.60s, peaked 0.00 MiB above current, total RAM usage 591.15 MiB\n"
     ]
    }
   ],
   "source": [
    "from sklearn.linear_model import LinearRegression\n",
    "from sklearn.ensemble import RandomForestRegressor"
   ]
  },
  {
   "cell_type": "code",
   "execution_count": 14,
   "id": "847d785c-fb6b-4421-a939-9c88f9a5774c",
   "metadata": {},
   "outputs": [
    {
     "name": "stdout",
     "output_type": "stream",
     "text": [
      "In [14] used 0.0000 MiB RAM in 0.10s, peaked 0.00 MiB above current, total RAM usage 591.15 MiB\n"
     ]
    }
   ],
   "source": [
    "#est = LinearRegression()\n",
    "est = RandomForestRegressor(n_estimators=10) # default n_estimators==100"
   ]
  },
  {
   "cell_type": "code",
   "execution_count": 15,
   "id": "a970a958-e749-4bc4-aeb0-b6ba36e10139",
   "metadata": {},
   "outputs": [
    {
     "data": {
      "text/plain": [
       "RandomForestRegressor(n_estimators=10)"
      ]
     },
     "execution_count": 15,
     "metadata": {},
     "output_type": "execute_result"
    },
    {
     "name": "stdout",
     "output_type": "stream",
     "text": [
      "In [15] used 334.4414 MiB RAM in 102.82s, peaked 0.00 MiB above current, total RAM usage 925.59 MiB\n"
     ]
    }
   ],
   "source": [
    "est.fit(X_train, y_train)"
   ]
  },
  {
   "cell_type": "code",
   "execution_count": 16,
   "id": "0eb6411a-242a-4377-83cc-e1efc0dd12ba",
   "metadata": {},
   "outputs": [
    {
     "data": {
      "text/html": [
       "<div>\n",
       "<style scoped>\n",
       "    .dataframe tbody tr th:only-of-type {\n",
       "        vertical-align: middle;\n",
       "    }\n",
       "\n",
       "    .dataframe tbody tr th {\n",
       "        vertical-align: top;\n",
       "    }\n",
       "\n",
       "    .dataframe thead th {\n",
       "        text-align: right;\n",
       "    }\n",
       "</style>\n",
       "<table border=\"1\" class=\"dataframe\">\n",
       "  <thead>\n",
       "    <tr style=\"text-align: right;\">\n",
       "      <th></th>\n",
       "      <th>feature</th>\n",
       "    </tr>\n",
       "    <tr>\n",
       "      <th>importance</th>\n",
       "      <th></th>\n",
       "    </tr>\n",
       "  </thead>\n",
       "  <tbody>\n",
       "    <tr>\n",
       "      <th>0.271529</th>\n",
       "      <td>ask_price2_mean</td>\n",
       "    </tr>\n",
       "    <tr>\n",
       "      <th>0.260803</th>\n",
       "      <td>bid_price2_mean</td>\n",
       "    </tr>\n",
       "    <tr>\n",
       "      <th>0.090943</th>\n",
       "      <td>bid_size1_mean</td>\n",
       "    </tr>\n",
       "    <tr>\n",
       "      <th>0.053607</th>\n",
       "      <td>ask_price2_var</td>\n",
       "    </tr>\n",
       "    <tr>\n",
       "      <th>0.045695</th>\n",
       "      <td>bid_price2_var</td>\n",
       "    </tr>\n",
       "    <tr>\n",
       "      <th>0.041194</th>\n",
       "      <td>ask_size1_mean</td>\n",
       "    </tr>\n",
       "    <tr>\n",
       "      <th>0.039360</th>\n",
       "      <td>bid_price1_mean</td>\n",
       "    </tr>\n",
       "    <tr>\n",
       "      <th>0.037611</th>\n",
       "      <td>ask_price1_mean</td>\n",
       "    </tr>\n",
       "    <tr>\n",
       "      <th>0.036861</th>\n",
       "      <td>bid_price1_var</td>\n",
       "    </tr>\n",
       "    <tr>\n",
       "      <th>0.035397</th>\n",
       "      <td>ask_price1_var</td>\n",
       "    </tr>\n",
       "    <tr>\n",
       "      <th>0.030676</th>\n",
       "      <td>ask_size1_var</td>\n",
       "    </tr>\n",
       "    <tr>\n",
       "      <th>0.030307</th>\n",
       "      <td>bid_size1_var</td>\n",
       "    </tr>\n",
       "    <tr>\n",
       "      <th>0.026019</th>\n",
       "      <td>stock_id</td>\n",
       "    </tr>\n",
       "  </tbody>\n",
       "</table>\n",
       "</div>"
      ],
      "text/plain": [
       "                    feature\n",
       "importance                 \n",
       "0.271529    ask_price2_mean\n",
       "0.260803    bid_price2_mean\n",
       "0.090943     bid_size1_mean\n",
       "0.053607     ask_price2_var\n",
       "0.045695     bid_price2_var\n",
       "0.041194     ask_size1_mean\n",
       "0.039360    bid_price1_mean\n",
       "0.037611    ask_price1_mean\n",
       "0.036861     bid_price1_var\n",
       "0.035397     ask_price1_var\n",
       "0.030676      ask_size1_var\n",
       "0.030307      bid_size1_var\n",
       "0.026019           stock_id"
      ]
     },
     "execution_count": 16,
     "metadata": {},
     "output_type": "execute_result"
    },
    {
     "name": "stdout",
     "output_type": "stream",
     "text": [
      "In [16] used 0.0703 MiB RAM in 0.20s, peaked 0.00 MiB above current, total RAM usage 925.66 MiB\n"
     ]
    }
   ],
   "source": [
    "if 'feature_importances_' in dir(est):\n",
    "    feature_col = 'feature_importances_'\n",
    "if 'coef_' in dir(est):\n",
    "    feature_col = 'coef_'\n",
    "df_features = pd.DataFrame(zip(getattr(est, feature_col), feature_cols), columns=['importance', 'feature']).set_index('importance')\n",
    "df_features.sort_index(ascending=False)"
   ]
  },
  {
   "cell_type": "markdown",
   "id": "22d4f4d0-f8ee-41b2-bd0b-4d82359c54a9",
   "metadata": {},
   "source": [
    "# Make predictions"
   ]
  },
  {
   "cell_type": "code",
   "execution_count": 17,
   "id": "7adc3039-b6b6-4891-8366-cc9bdda5099b",
   "metadata": {},
   "outputs": [
    {
     "data": {
      "text/plain": [
       "112"
      ]
     },
     "execution_count": 17,
     "metadata": {},
     "output_type": "execute_result"
    },
    {
     "name": "stdout",
     "output_type": "stream",
     "text": [
      "In [17] used 0.0000 MiB RAM in 0.11s, peaked 0.00 MiB above current, total RAM usage 925.66 MiB\n"
     ]
    }
   ],
   "source": [
    "len(stock_ids) # expecting 112"
   ]
  },
  {
   "cell_type": "code",
   "execution_count": 18,
   "id": "a9fd51f1-5583-4718-8edc-066c6bf9b74b",
   "metadata": {},
   "outputs": [
    {
     "name": "stdout",
     "output_type": "stream",
     "text": [
      "/home/ian/data/kaggle/optiver_volatility/ book_test_local.parquet\n",
      "In [18] used 1.3359 MiB RAM in 0.14s, peaked 0.00 MiB above current, total RAM usage 927.00 MiB\n"
     ]
    }
   ],
   "source": [
    "if USE_TEST_LOCAL_6_ITEMS: # True if debugging\n",
    "    # book train as a substitute\n",
    "    df_test_all = pd.read_csv(os.path.join(ROOT, 'test_local.csv'))\n",
    "    df_test_all = df_test_all.rename(columns={'target': 'train_target'})\n",
    "    TEST_FOLDER = 'book_test_local.parquet'\n",
    "    assert ENV_HOME == True\n",
    "else:\n",
    "    df_test_all = pd.read_csv(TEST_CSV)\n",
    "    if df_test_all.shape[0] == 3: # kaggle test data\n",
    "        df_test_all = df_test_all[:1] # cut out 2 rows so predictions work    \n",
    "    TEST_FOLDER = 'book_test.parquet'\n",
    "print(ROOT, TEST_FOLDER)\n",
    "df_test_all = df_test_all.set_index(['stock_id', 'time_id'])"
   ]
  },
  {
   "cell_type": "code",
   "execution_count": 19,
   "id": "aceff1e3-860e-4986-bd16-9c467325eb40",
   "metadata": {},
   "outputs": [
    {
     "name": "stderr",
     "output_type": "stream",
     "text": [
      "100%|███████████████████████████████████████████████████████████████████████████████████████████████████████████████████████████████████████████████████████████████████████████████████████████████████████████| 6/6 [00:03<00:00,  1.77it/s]"
     ]
    },
    {
     "name": "stdout",
     "output_type": "stream",
     "text": [
      "In [19] used 324.2188 MiB RAM in 3.51s, peaked 334.82 MiB above current, total RAM usage 1251.22 MiB\n"
     ]
    },
    {
     "name": "stderr",
     "output_type": "stream",
     "text": [
      "\n"
     ]
    }
   ],
   "source": [
    "test_set_predictions = []\n",
    "stock_ids_test = get_training_stock_ids(TEST_FOLDER) # all stocks by default\n",
    "\n",
    "df_test_predictions = pd.DataFrame() # prediction set to build up\n",
    "for stock_id in tqdm(stock_ids_test):\n",
    "    parquet_filename = os.path.join(ROOT, f'{TEST_FOLDER}/stock_id={stock_id}')\n",
    "    #print(f\"reading {parquet_filename}\")\n",
    "    df_book_test_stock_X = pd.read_parquet(parquet_filename)\n",
    "    df_book_test_stock_X['stock_id'] = stock_id\n",
    "    features_var1_test = make_features1(df_book_test_stock_X, 'var', cols)\n",
    "    features_mean1_test = make_features1(df_book_test_stock_X, 'mean', cols)\n",
    "    \n",
    "    df_test_all_X = df_test_all.query('stock_id==@stock_id').copy()\n",
    "    test_merged = pd.merge(df_test_all_X, features_var1_test, left_index=True, right_index=True)\n",
    "    test_merged = pd.merge(test_merged, features_mean1_test, left_index=True, right_index=True)\n",
    "    #test_merged = pd.merge(df_test_all_X, features_var1_test, left_index=True, right_index=True)\n",
    "    test_set_predictions_X = est.predict(test_merged.reset_index()[list(features) + ['stock_id']])\n",
    "    df_test_all_X['target'] = test_set_predictions_X\n",
    "    df_test_predictions = pd.concat((df_test_predictions, df_test_all_X))\n",
    "    \n",
    "assert df_test_all.shape[0] == df_test_predictions.shape[0], \"Expecting all rows to be predicted\""
   ]
  },
  {
   "cell_type": "code",
   "execution_count": 20,
   "id": "d830622f-77ac-4333-9f75-b244242e4ac8",
   "metadata": {},
   "outputs": [
    {
     "name": "stdout",
     "output_type": "stream",
     "text": [
      "Writing 22980 rows to submission.csv on 2021-07-30 14:26:48.334773\n",
      "In [20] used -5.6914 MiB RAM in 0.20s, peaked 5.69 MiB above current, total RAM usage 1245.53 MiB\n"
     ]
    }
   ],
   "source": [
    "print(f\"Writing {df_test_predictions.shape[0]} rows to submission.csv on {datetime.datetime.utcnow()}\")\n",
    "df_test_predictions.reset_index()[['row_id', 'target']].to_csv('submission.csv', index=False)"
   ]
  },
  {
   "cell_type": "code",
   "execution_count": null,
   "id": "8602e701-1e85-41a7-9054-3fce950e14a0",
   "metadata": {},
   "outputs": [],
   "source": []
  },
  {
   "cell_type": "code",
   "execution_count": null,
   "id": "131d6907-122e-41c2-b3cd-193c513038b3",
   "metadata": {},
   "outputs": [],
   "source": []
  }
 ],
 "metadata": {
  "kernelspec": {
   "display_name": "Python 3 (ipykernel)",
   "language": "python",
   "name": "python3"
  },
  "language_info": {
   "codemirror_mode": {
    "name": "ipython",
    "version": 3
   },
   "file_extension": ".py",
   "mimetype": "text/x-python",
   "name": "python",
   "nbconvert_exporter": "python",
   "pygments_lexer": "ipython3",
   "version": "3.8.10"
  }
 },
 "nbformat": 4,
 "nbformat_minor": 5
}
