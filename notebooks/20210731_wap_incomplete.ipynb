{
 "cells": [
  {
   "cell_type": "code",
   "execution_count": 1,
   "id": "c8b07f27-26af-4f9f-a474-4f4ed0a155a1",
   "metadata": {},
   "outputs": [
    {
     "name": "stdout",
     "output_type": "stream",
     "text": [
      "In [1] used 0.0000 MiB RAM in 0.10s, peaked 0.00 MiB above current, total RAM usage 134.88 MiB\n"
     ]
    }
   ],
   "source": [
    "import pandas as pd\n",
    "import matplotlib.pyplot as plt\n",
    "from pprint import pprint\n",
    "import numpy as np\n",
    "\n",
    "import random\n",
    "#import memory_profiler\n",
    "import altair as alt\n",
    "from tqdm import tqdm\n",
    "import datetime\n",
    "\n",
    "USE_ALL_STOCK_IDS = False\n",
    "TEST_SIZE = 0.25\n",
    "\n",
    "import os\n",
    "ENV_HOME = True\n",
    "if os.environ.get('USER') == 'ian':\n",
    "    import ipython_memory_usage\n",
    "    %ipython_memory_usage_start\n",
    "    USE_TEST_LOCAL_6_ITEMS = True # robust local testing at home\n",
    "else:\n",
    "    assert USE_ALL_STOCK_IDS, \"Must use all stocks if on Kaggle platform\"\n",
    "    ENV_HOME = False\n",
    "    USE_TEST_LOCAL_6_ITEMS = False\n",
    "    # kaggle notes:\n",
    "    # You can write up to 20GB to the current directory (/kaggle/working/) that gets preserved as output when you create a version using \"Save & Run All\" \n",
    "    # You can also write temporary files to /kaggle/temp/, but they won't be saved outside of the current session"
   ]
  },
  {
   "cell_type": "code",
   "execution_count": 2,
   "id": "a686d343-962d-45ab-90d1-cfeaf5a310c5",
   "metadata": {},
   "outputs": [
    {
     "name": "stdout",
     "output_type": "stream",
     "text": [
      "Utility says ROOT is /home/ian/data/kaggle/optiver_volatility/\n",
      "In [2] used 0.0000 MiB RAM in 0.10s, peaked 0.00 MiB above current, total RAM usage 134.88 MiB\n"
     ]
    }
   ],
   "source": [
    "# OR PASTE IN UTILITY CODE HERE FOR KAGGLE\n",
    "from utility import make_unique_time_ids, get_data, get_training_stock_ids\n",
    "from utility import ROOT, TEST_CSV\n"
   ]
  },
  {
   "cell_type": "markdown",
   "id": "d5bebae2-9f9f-44b4-ac8a-6681b4866674",
   "metadata": {},
   "source": [
    "## Load train set"
   ]
  },
  {
   "cell_type": "code",
   "execution_count": 3,
   "id": "c2e64472-3e9e-4362-8479-15ca8c632db7",
   "metadata": {},
   "outputs": [
    {
     "name": "stdout",
     "output_type": "stream",
     "text": [
      "Using a subset\n",
      "[64, 16, 69, 56, 68, 83, 87, 95, 30, 75, 119, 78, 0, 17, 104, 6, 31, 85, 34, 105, 81, 59, 14, 122, 108, 123, 118, 101, 67, 4]\n",
      "In [3] used 0.3359 MiB RAM in 0.11s, peaked 0.00 MiB above current, total RAM usage 135.21 MiB\n"
     ]
    }
   ],
   "source": [
    "stock_ids = get_training_stock_ids('book_train.parquet') # all stocks by default\n",
    "if not USE_ALL_STOCK_IDS:\n",
    "    # choose a random subset\n",
    "    print(\"Using a subset\")\n",
    "    random.shuffle(stock_ids)\n",
    "    stock_ids = stock_ids[:30]\n",
    "    print(stock_ids)"
   ]
  },
  {
   "cell_type": "code",
   "execution_count": 4,
   "id": "a7d1c56b-36fd-4d16-95ce-c43b04dd0e1b",
   "metadata": {},
   "outputs": [
    {
     "name": "stdout",
     "output_type": "stream",
     "text": [
      "Loading 30 stocks\n",
      "There are 112 items in the folder and they look like ['stock_id=59', 'stock_id=58', 'stock_id=23', 'stock_id=17', 'stock_id=109']\n"
     ]
    },
    {
     "name": "stderr",
     "output_type": "stream",
     "text": [
      "100%|█████████████████████████████████████████████████████████████████████████████████████████████████████████████████████████████████████████████████████████████████████████████████████████████████████████| 30/30 [00:04<00:00,  6.78it/s]\n"
     ]
    },
    {
     "name": "stdout",
     "output_type": "stream",
     "text": [
      "Loaded 45,641,526 rows for book_train on 30 stock_ids\n",
      "**** Had 428,932 rows, now we have 114,899\n",
      "In [4] used 3986.9922 MiB RAM in 5.31s, peaked 761.29 MiB above current, total RAM usage 4122.21 MiB\n"
     ]
    }
   ],
   "source": [
    "if 'df_train_all' not in dir():\n",
    "    # only reload if necessary\n",
    "    print(f\"Loading {len(stock_ids)} stocks\")\n",
    "    df_train_all, df_book_train = get_data(stock_ids=stock_ids)\n",
    "    \n",
    "    df_train_all = df_train_all.set_index(['stock_id', 'time_id'])\n",
    "    #df_train_all"
   ]
  },
  {
   "cell_type": "code",
   "execution_count": 5,
   "id": "d82718d8-d9ff-47fe-b1e1-e7cccd1d33c3",
   "metadata": {},
   "outputs": [
    {
     "data": {
      "text/html": [
       "<div>\n",
       "<style scoped>\n",
       "    .dataframe tbody tr th:only-of-type {\n",
       "        vertical-align: middle;\n",
       "    }\n",
       "\n",
       "    .dataframe tbody tr th {\n",
       "        vertical-align: top;\n",
       "    }\n",
       "\n",
       "    .dataframe thead th {\n",
       "        text-align: right;\n",
       "    }\n",
       "</style>\n",
       "<table border=\"1\" class=\"dataframe\">\n",
       "  <thead>\n",
       "    <tr style=\"text-align: right;\">\n",
       "      <th></th>\n",
       "      <th>time_id</th>\n",
       "      <th>seconds_in_bucket</th>\n",
       "      <th>bid_price1</th>\n",
       "      <th>ask_price1</th>\n",
       "      <th>bid_price2</th>\n",
       "      <th>ask_price2</th>\n",
       "      <th>bid_size1</th>\n",
       "      <th>ask_size1</th>\n",
       "      <th>bid_size2</th>\n",
       "      <th>ask_size2</th>\n",
       "      <th>stock_id</th>\n",
       "    </tr>\n",
       "  </thead>\n",
       "  <tbody>\n",
       "    <tr>\n",
       "      <th>0</th>\n",
       "      <td>5</td>\n",
       "      <td>0</td>\n",
       "      <td>0.999847</td>\n",
       "      <td>1.000077</td>\n",
       "      <td>0.999693</td>\n",
       "      <td>1.000153</td>\n",
       "      <td>37</td>\n",
       "      <td>11</td>\n",
       "      <td>46</td>\n",
       "      <td>200</td>\n",
       "      <td>64</td>\n",
       "    </tr>\n",
       "    <tr>\n",
       "      <th>1</th>\n",
       "      <td>5</td>\n",
       "      <td>1</td>\n",
       "      <td>1.000077</td>\n",
       "      <td>1.000153</td>\n",
       "      <td>0.999847</td>\n",
       "      <td>1.000230</td>\n",
       "      <td>5</td>\n",
       "      <td>100</td>\n",
       "      <td>337</td>\n",
       "      <td>100</td>\n",
       "      <td>64</td>\n",
       "    </tr>\n",
       "    <tr>\n",
       "      <th>2</th>\n",
       "      <td>5</td>\n",
       "      <td>2</td>\n",
       "      <td>0.999847</td>\n",
       "      <td>1.000153</td>\n",
       "      <td>0.999693</td>\n",
       "      <td>1.000230</td>\n",
       "      <td>237</td>\n",
       "      <td>6</td>\n",
       "      <td>46</td>\n",
       "      <td>100</td>\n",
       "      <td>64</td>\n",
       "    </tr>\n",
       "    <tr>\n",
       "      <th>3</th>\n",
       "      <td>5</td>\n",
       "      <td>5</td>\n",
       "      <td>0.999847</td>\n",
       "      <td>1.000153</td>\n",
       "      <td>0.999693</td>\n",
       "      <td>1.000230</td>\n",
       "      <td>37</td>\n",
       "      <td>106</td>\n",
       "      <td>46</td>\n",
       "      <td>100</td>\n",
       "      <td>64</td>\n",
       "    </tr>\n",
       "    <tr>\n",
       "      <th>4</th>\n",
       "      <td>5</td>\n",
       "      <td>6</td>\n",
       "      <td>0.999923</td>\n",
       "      <td>1.000077</td>\n",
       "      <td>0.999847</td>\n",
       "      <td>1.000153</td>\n",
       "      <td>100</td>\n",
       "      <td>100</td>\n",
       "      <td>37</td>\n",
       "      <td>6</td>\n",
       "      <td>64</td>\n",
       "    </tr>\n",
       "    <tr>\n",
       "      <th>...</th>\n",
       "      <td>...</td>\n",
       "      <td>...</td>\n",
       "      <td>...</td>\n",
       "      <td>...</td>\n",
       "      <td>...</td>\n",
       "      <td>...</td>\n",
       "      <td>...</td>\n",
       "      <td>...</td>\n",
       "      <td>...</td>\n",
       "      <td>...</td>\n",
       "      <td>...</td>\n",
       "    </tr>\n",
       "    <tr>\n",
       "      <th>1073984</th>\n",
       "      <td>32767</td>\n",
       "      <td>580</td>\n",
       "      <td>0.999221</td>\n",
       "      <td>1.000035</td>\n",
       "      <td>0.999079</td>\n",
       "      <td>1.000301</td>\n",
       "      <td>100</td>\n",
       "      <td>100</td>\n",
       "      <td>25</td>\n",
       "      <td>9</td>\n",
       "      <td>4</td>\n",
       "    </tr>\n",
       "    <tr>\n",
       "      <th>1073985</th>\n",
       "      <td>32767</td>\n",
       "      <td>581</td>\n",
       "      <td>0.999221</td>\n",
       "      <td>1.000035</td>\n",
       "      <td>0.999079</td>\n",
       "      <td>1.000212</td>\n",
       "      <td>100</td>\n",
       "      <td>100</td>\n",
       "      <td>25</td>\n",
       "      <td>9</td>\n",
       "      <td>4</td>\n",
       "    </tr>\n",
       "    <tr>\n",
       "      <th>1073986</th>\n",
       "      <td>32767</td>\n",
       "      <td>582</td>\n",
       "      <td>0.999221</td>\n",
       "      <td>1.000035</td>\n",
       "      <td>0.999079</td>\n",
       "      <td>1.000212</td>\n",
       "      <td>100</td>\n",
       "      <td>108</td>\n",
       "      <td>25</td>\n",
       "      <td>9</td>\n",
       "      <td>4</td>\n",
       "    </tr>\n",
       "    <tr>\n",
       "      <th>1073987</th>\n",
       "      <td>32767</td>\n",
       "      <td>583</td>\n",
       "      <td>0.999221</td>\n",
       "      <td>1.000035</td>\n",
       "      <td>0.999079</td>\n",
       "      <td>1.000212</td>\n",
       "      <td>100</td>\n",
       "      <td>108</td>\n",
       "      <td>25</td>\n",
       "      <td>9</td>\n",
       "      <td>4</td>\n",
       "    </tr>\n",
       "    <tr>\n",
       "      <th>1073988</th>\n",
       "      <td>32767</td>\n",
       "      <td>585</td>\n",
       "      <td>0.999221</td>\n",
       "      <td>1.000035</td>\n",
       "      <td>0.999079</td>\n",
       "      <td>1.000159</td>\n",
       "      <td>100</td>\n",
       "      <td>108</td>\n",
       "      <td>25</td>\n",
       "      <td>50</td>\n",
       "      <td>4</td>\n",
       "    </tr>\n",
       "  </tbody>\n",
       "</table>\n",
       "<p>45641526 rows × 11 columns</p>\n",
       "</div>"
      ],
      "text/plain": [
       "         time_id  seconds_in_bucket  bid_price1  ask_price1  bid_price2  \\\n",
       "0              5                  0    0.999847    1.000077    0.999693   \n",
       "1              5                  1    1.000077    1.000153    0.999847   \n",
       "2              5                  2    0.999847    1.000153    0.999693   \n",
       "3              5                  5    0.999847    1.000153    0.999693   \n",
       "4              5                  6    0.999923    1.000077    0.999847   \n",
       "...          ...                ...         ...         ...         ...   \n",
       "1073984    32767                580    0.999221    1.000035    0.999079   \n",
       "1073985    32767                581    0.999221    1.000035    0.999079   \n",
       "1073986    32767                582    0.999221    1.000035    0.999079   \n",
       "1073987    32767                583    0.999221    1.000035    0.999079   \n",
       "1073988    32767                585    0.999221    1.000035    0.999079   \n",
       "\n",
       "         ask_price2  bid_size1  ask_size1  bid_size2  ask_size2  stock_id  \n",
       "0          1.000153         37         11         46        200        64  \n",
       "1          1.000230          5        100        337        100        64  \n",
       "2          1.000230        237          6         46        100        64  \n",
       "3          1.000230         37        106         46        100        64  \n",
       "4          1.000153        100        100         37          6        64  \n",
       "...             ...        ...        ...        ...        ...       ...  \n",
       "1073984    1.000301        100        100         25          9         4  \n",
       "1073985    1.000212        100        100         25          9         4  \n",
       "1073986    1.000212        100        108         25          9         4  \n",
       "1073987    1.000212        100        108         25          9         4  \n",
       "1073988    1.000159        100        108         25         50         4  \n",
       "\n",
       "[45641526 rows x 11 columns]"
      ]
     },
     "execution_count": 5,
     "metadata": {},
     "output_type": "execute_result"
    },
    {
     "name": "stdout",
     "output_type": "stream",
     "text": [
      "In [5] used -64.4766 MiB RAM in 0.14s, peaked 64.48 MiB above current, total RAM usage 4057.73 MiB\n"
     ]
    }
   ],
   "source": [
    "df_book_train"
   ]
  },
  {
   "cell_type": "code",
   "execution_count": 6,
   "id": "61126601-0938-418a-8072-1ceb43fe80c4",
   "metadata": {
    "tags": []
   },
   "outputs": [
    {
     "name": "stdout",
     "output_type": "stream",
     "text": [
      "We have 3,830 time ids\n",
      "Taking 2872 for train\n",
      "Example time ids for training, min first: [5, 11, 16, 31, 62]\n",
      "In [6] used -268.4844 MiB RAM in 0.40s, peaked 235.15 MiB above current, total RAM usage 3789.25 MiB\n"
     ]
    }
   ],
   "source": [
    "all_time_ids = df_book_train.time_id.unique()\n",
    "np.random.shuffle(all_time_ids) # shuffle the time_ids\n",
    "print(f\"We have {len(all_time_ids):,} time ids\")\n",
    "time_ids_train, time_ids_test = make_unique_time_ids(all_time_ids, test_size=TEST_SIZE)\n",
    "assert len(time_ids_train) + len(time_ids_test) == len(all_time_ids)\n",
    "assert len(time_ids_train.intersection(time_ids_test)) == 0, \"Expecting no overlap between train and test time ids\"\n",
    "print(f\"Example time ids for training, min first: {sorted(list(time_ids_train))[:5]}\")"
   ]
  },
  {
   "cell_type": "code",
   "execution_count": 7,
   "id": "850596eb-eca0-4de6-8fb4-c9fd4c48bf93",
   "metadata": {},
   "outputs": [
    {
     "data": {
      "text/html": [
       "<div>\n",
       "<style scoped>\n",
       "    .dataframe tbody tr th:only-of-type {\n",
       "        vertical-align: middle;\n",
       "    }\n",
       "\n",
       "    .dataframe tbody tr th {\n",
       "        vertical-align: top;\n",
       "    }\n",
       "\n",
       "    .dataframe thead th {\n",
       "        text-align: right;\n",
       "    }\n",
       "</style>\n",
       "<table border=\"1\" class=\"dataframe\">\n",
       "  <thead>\n",
       "    <tr style=\"text-align: right;\">\n",
       "      <th></th>\n",
       "      <th></th>\n",
       "      <th>target</th>\n",
       "    </tr>\n",
       "    <tr>\n",
       "      <th>stock_id</th>\n",
       "      <th>time_id</th>\n",
       "      <th></th>\n",
       "    </tr>\n",
       "  </thead>\n",
       "  <tbody>\n",
       "    <tr>\n",
       "      <th>118</th>\n",
       "      <th>14312</th>\n",
       "      <td>0.002191</td>\n",
       "    </tr>\n",
       "    <tr>\n",
       "      <th>67</th>\n",
       "      <th>15647</th>\n",
       "      <td>0.005844</td>\n",
       "    </tr>\n",
       "    <tr>\n",
       "      <th>118</th>\n",
       "      <th>6316</th>\n",
       "      <td>0.009636</td>\n",
       "    </tr>\n",
       "    <tr>\n",
       "      <th>78</th>\n",
       "      <th>20678</th>\n",
       "      <td>0.009242</td>\n",
       "    </tr>\n",
       "    <tr>\n",
       "      <th>16</th>\n",
       "      <th>22262</th>\n",
       "      <td>0.001439</td>\n",
       "    </tr>\n",
       "  </tbody>\n",
       "</table>\n",
       "</div>"
      ],
      "text/plain": [
       "                    target\n",
       "stock_id time_id          \n",
       "118      14312    0.002191\n",
       "67       15647    0.005844\n",
       "118      6316     0.009636\n",
       "78       20678    0.009242\n",
       "16       22262    0.001439"
      ]
     },
     "execution_count": 7,
     "metadata": {},
     "output_type": "execute_result"
    },
    {
     "name": "stdout",
     "output_type": "stream",
     "text": [
      "In [7] used -103.9062 MiB RAM in 0.13s, peaked 103.91 MiB above current, total RAM usage 3685.34 MiB\n"
     ]
    }
   ],
   "source": [
    "df_train_all.sample(5)"
   ]
  },
  {
   "cell_type": "code",
   "execution_count": 8,
   "id": "8090e979-83ab-4c68-8882-49086fdca414",
   "metadata": {},
   "outputs": [
    {
     "data": {
      "text/plain": [
       "count    3830.000000\n",
       "mean       29.999739\n",
       "std         0.016158\n",
       "min        29.000000\n",
       "25%        30.000000\n",
       "50%        30.000000\n",
       "75%        30.000000\n",
       "max        30.000000\n",
       "Name: time_id, dtype: float64"
      ]
     },
     "execution_count": 8,
     "metadata": {},
     "output_type": "execute_result"
    },
    {
     "name": "stdout",
     "output_type": "stream",
     "text": [
      "In [8] used -175.8516 MiB RAM in 0.11s, peaked 49.67 MiB above current, total RAM usage 3509.49 MiB\n"
     ]
    }
   ],
   "source": [
    "df_train_all.reset_index()['time_id'].value_counts().describe()"
   ]
  },
  {
   "cell_type": "code",
   "execution_count": 9,
   "id": "43d1e6a7-5ffd-4743-a58e-e4e2f115f27a",
   "metadata": {},
   "outputs": [
    {
     "name": "stdout",
     "output_type": "stream",
     "text": [
      "In [9] used -234.5508 MiB RAM in 0.13s, peaked 159.03 MiB above current, total RAM usage 3274.94 MiB\n"
     ]
    }
   ],
   "source": [
    "if USE_ALL_STOCK_IDS:\n",
    "    assert len(stock_ids) == 112\n",
    "    if not (df_train_all.groupby('time_id').count().max()[0] == 112 and \\\n",
    "      df_train_all.groupby('time_id').count().min()[0] == 111):\n",
    "        display(df_train_all.groupby('time_id').count().agg(['max', 'min']))\n",
    "        raise Warning('Odd! Expecting 111-112')"
   ]
  },
  {
   "cell_type": "code",
   "execution_count": 10,
   "id": "b77a2c21-d120-46c3-b27e-9fa946a343b3",
   "metadata": {},
   "outputs": [
    {
     "name": "stdout",
     "output_type": "stream",
     "text": [
      "<class 'pandas.core.frame.DataFrame'>\n",
      "MultiIndex: 114899 entries, (0, 5) to (123, 32767)\n",
      "Data columns (total 1 columns):\n",
      " #   Column  Non-Null Count   Dtype  \n",
      "---  ------  --------------   -----  \n",
      " 0   target  114899 non-null  float64\n",
      "dtypes: float64(1)\n",
      "memory usage: 1.4 MB\n",
      "In [10] used -64.2461 MiB RAM in 0.11s, peaked 64.25 MiB above current, total RAM usage 3210.69 MiB\n"
     ]
    }
   ],
   "source": [
    "df_train_all.info()"
   ]
  },
  {
   "cell_type": "code",
   "execution_count": 11,
   "id": "4fa9e67a-7a6b-42b4-8e07-6b497dc4a9fc",
   "metadata": {},
   "outputs": [
    {
     "data": {
      "text/html": [
       "<div>\n",
       "<style scoped>\n",
       "    .dataframe tbody tr th:only-of-type {\n",
       "        vertical-align: middle;\n",
       "    }\n",
       "\n",
       "    .dataframe tbody tr th {\n",
       "        vertical-align: top;\n",
       "    }\n",
       "\n",
       "    .dataframe thead th {\n",
       "        text-align: right;\n",
       "    }\n",
       "</style>\n",
       "<table border=\"1\" class=\"dataframe\">\n",
       "  <thead>\n",
       "    <tr style=\"text-align: right;\">\n",
       "      <th></th>\n",
       "      <th></th>\n",
       "      <th>target</th>\n",
       "    </tr>\n",
       "    <tr>\n",
       "      <th>stock_id</th>\n",
       "      <th>time_id</th>\n",
       "      <th></th>\n",
       "    </tr>\n",
       "  </thead>\n",
       "  <tbody>\n",
       "    <tr>\n",
       "      <th rowspan=\"5\" valign=\"top\">0</th>\n",
       "      <th>5</th>\n",
       "      <td>0.004136</td>\n",
       "    </tr>\n",
       "    <tr>\n",
       "      <th>11</th>\n",
       "      <td>0.001445</td>\n",
       "    </tr>\n",
       "    <tr>\n",
       "      <th>16</th>\n",
       "      <td>0.002168</td>\n",
       "    </tr>\n",
       "    <tr>\n",
       "      <th>31</th>\n",
       "      <td>0.002195</td>\n",
       "    </tr>\n",
       "    <tr>\n",
       "      <th>62</th>\n",
       "      <td>0.001747</td>\n",
       "    </tr>\n",
       "  </tbody>\n",
       "</table>\n",
       "</div>"
      ],
      "text/plain": [
       "                    target\n",
       "stock_id time_id          \n",
       "0        5        0.004136\n",
       "         11       0.001445\n",
       "         16       0.002168\n",
       "         31       0.002195\n",
       "         62       0.001747"
      ]
     },
     "execution_count": 11,
     "metadata": {},
     "output_type": "execute_result"
    },
    {
     "name": "stdout",
     "output_type": "stream",
     "text": [
      "In [11] used -217.4297 MiB RAM in 0.11s, peaked 217.43 MiB above current, total RAM usage 2993.26 MiB\n"
     ]
    }
   ],
   "source": [
    "df_train_all.head()"
   ]
  },
  {
   "cell_type": "markdown",
   "id": "b3bbe857-cc89-4c61-aa06-79dfae058292",
   "metadata": {},
   "source": [
    "# Overview"
   ]
  },
  {
   "cell_type": "code",
   "execution_count": 12,
   "id": "4e6920a2-458b-4983-9d3d-43c232223ee7",
   "metadata": {},
   "outputs": [
    {
     "name": "stdout",
     "output_type": "stream",
     "text": [
      "(114899, 1)\n"
     ]
    },
    {
     "data": {
      "text/html": [
       "<div>\n",
       "<style scoped>\n",
       "    .dataframe tbody tr th:only-of-type {\n",
       "        vertical-align: middle;\n",
       "    }\n",
       "\n",
       "    .dataframe tbody tr th {\n",
       "        vertical-align: top;\n",
       "    }\n",
       "\n",
       "    .dataframe thead th {\n",
       "        text-align: right;\n",
       "    }\n",
       "</style>\n",
       "<table border=\"1\" class=\"dataframe\">\n",
       "  <thead>\n",
       "    <tr style=\"text-align: right;\">\n",
       "      <th></th>\n",
       "      <th></th>\n",
       "      <th>target</th>\n",
       "    </tr>\n",
       "    <tr>\n",
       "      <th>stock_id</th>\n",
       "      <th>time_id</th>\n",
       "      <th></th>\n",
       "    </tr>\n",
       "  </thead>\n",
       "  <tbody>\n",
       "    <tr>\n",
       "      <th rowspan=\"5\" valign=\"top\">0</th>\n",
       "      <th>5</th>\n",
       "      <td>0.004136</td>\n",
       "    </tr>\n",
       "    <tr>\n",
       "      <th>11</th>\n",
       "      <td>0.001445</td>\n",
       "    </tr>\n",
       "    <tr>\n",
       "      <th>16</th>\n",
       "      <td>0.002168</td>\n",
       "    </tr>\n",
       "    <tr>\n",
       "      <th>31</th>\n",
       "      <td>0.002195</td>\n",
       "    </tr>\n",
       "    <tr>\n",
       "      <th>62</th>\n",
       "      <td>0.001747</td>\n",
       "    </tr>\n",
       "  </tbody>\n",
       "</table>\n",
       "</div>"
      ],
      "text/plain": [
       "                    target\n",
       "stock_id time_id          \n",
       "0        5        0.004136\n",
       "         11       0.001445\n",
       "         16       0.002168\n",
       "         31       0.002195\n",
       "         62       0.001747"
      ]
     },
     "execution_count": 12,
     "metadata": {},
     "output_type": "execute_result"
    },
    {
     "name": "stdout",
     "output_type": "stream",
     "text": [
      "In [12] used -122.2266 MiB RAM in 0.12s, peaked 122.23 MiB above current, total RAM usage 2871.04 MiB\n"
     ]
    }
   ],
   "source": [
    "print(df_train_all.shape)\n",
    "df_train_all.head()"
   ]
  },
  {
   "cell_type": "markdown",
   "id": "fa604e88-0b6f-438a-9143-9bce7289a0a1",
   "metadata": {},
   "source": [
    "# Features"
   ]
  },
  {
   "cell_type": "code",
   "execution_count": 13,
   "id": "99e38134-ebff-4fe1-89da-47e5c6c7c7cc",
   "metadata": {},
   "outputs": [
    {
     "name": "stdout",
     "output_type": "stream",
     "text": [
      "<class 'pandas.core.frame.DataFrame'>\n",
      "Int64Index: 45641526 entries, 0 to 1073988\n",
      "Data columns (total 11 columns):\n",
      " #   Column             Dtype  \n",
      "---  ------             -----  \n",
      " 0   time_id            int16  \n",
      " 1   seconds_in_bucket  int16  \n",
      " 2   bid_price1         float32\n",
      " 3   ask_price1         float32\n",
      " 4   bid_price2         float32\n",
      " 5   ask_price2         float32\n",
      " 6   bid_size1          int32  \n",
      " 7   ask_size1          int32  \n",
      " 8   bid_size2          int32  \n",
      " 9   ask_size2          int32  \n",
      " 10  stock_id           int64  \n",
      "dtypes: float32(4), int16(2), int32(4), int64(1)\n",
      "memory usage: 2.2 GB\n",
      "In [13] used -29.0234 MiB RAM in 0.12s, peaked 0.00 MiB above current, total RAM usage 2842.01 MiB\n"
     ]
    }
   ],
   "source": [
    "df_book_train.info()"
   ]
  },
  {
   "cell_type": "code",
   "execution_count": 14,
   "id": "90c8b571-0d3e-4184-be6f-f3b2e38a591d",
   "metadata": {},
   "outputs": [
    {
     "data": {
      "text/plain": [
       "(45641526, 11)"
      ]
     },
     "execution_count": 14,
     "metadata": {},
     "output_type": "execute_result"
    },
    {
     "name": "stdout",
     "output_type": "stream",
     "text": [
      "In [14] used -117.9727 MiB RAM in 0.10s, peaked 0.00 MiB above current, total RAM usage 2724.04 MiB\n"
     ]
    }
   ],
   "source": [
    "df_book_train.shape"
   ]
  },
  {
   "cell_type": "code",
   "execution_count": 15,
   "id": "f348615b-a0d8-4fa3-b8ee-04037cf9cf36",
   "metadata": {},
   "outputs": [
    {
     "data": {
      "text/html": [
       "<div>\n",
       "<style scoped>\n",
       "    .dataframe tbody tr th:only-of-type {\n",
       "        vertical-align: middle;\n",
       "    }\n",
       "\n",
       "    .dataframe tbody tr th {\n",
       "        vertical-align: top;\n",
       "    }\n",
       "\n",
       "    .dataframe thead th {\n",
       "        text-align: right;\n",
       "    }\n",
       "</style>\n",
       "<table border=\"1\" class=\"dataframe\">\n",
       "  <thead>\n",
       "    <tr style=\"text-align: right;\">\n",
       "      <th></th>\n",
       "      <th>time_id</th>\n",
       "      <th>seconds_in_bucket</th>\n",
       "      <th>bid_price1</th>\n",
       "      <th>ask_price1</th>\n",
       "      <th>bid_price2</th>\n",
       "      <th>ask_price2</th>\n",
       "      <th>bid_size1</th>\n",
       "      <th>ask_size1</th>\n",
       "      <th>bid_size2</th>\n",
       "      <th>ask_size2</th>\n",
       "      <th>stock_id</th>\n",
       "    </tr>\n",
       "  </thead>\n",
       "  <tbody>\n",
       "    <tr>\n",
       "      <th>0</th>\n",
       "      <td>5</td>\n",
       "      <td>0</td>\n",
       "      <td>0.999847</td>\n",
       "      <td>1.000077</td>\n",
       "      <td>0.999693</td>\n",
       "      <td>1.000153</td>\n",
       "      <td>37</td>\n",
       "      <td>11</td>\n",
       "      <td>46</td>\n",
       "      <td>200</td>\n",
       "      <td>64</td>\n",
       "    </tr>\n",
       "    <tr>\n",
       "      <th>1</th>\n",
       "      <td>5</td>\n",
       "      <td>1</td>\n",
       "      <td>1.000077</td>\n",
       "      <td>1.000153</td>\n",
       "      <td>0.999847</td>\n",
       "      <td>1.000230</td>\n",
       "      <td>5</td>\n",
       "      <td>100</td>\n",
       "      <td>337</td>\n",
       "      <td>100</td>\n",
       "      <td>64</td>\n",
       "    </tr>\n",
       "    <tr>\n",
       "      <th>2</th>\n",
       "      <td>5</td>\n",
       "      <td>2</td>\n",
       "      <td>0.999847</td>\n",
       "      <td>1.000153</td>\n",
       "      <td>0.999693</td>\n",
       "      <td>1.000230</td>\n",
       "      <td>237</td>\n",
       "      <td>6</td>\n",
       "      <td>46</td>\n",
       "      <td>100</td>\n",
       "      <td>64</td>\n",
       "    </tr>\n",
       "    <tr>\n",
       "      <th>3</th>\n",
       "      <td>5</td>\n",
       "      <td>5</td>\n",
       "      <td>0.999847</td>\n",
       "      <td>1.000153</td>\n",
       "      <td>0.999693</td>\n",
       "      <td>1.000230</td>\n",
       "      <td>37</td>\n",
       "      <td>106</td>\n",
       "      <td>46</td>\n",
       "      <td>100</td>\n",
       "      <td>64</td>\n",
       "    </tr>\n",
       "    <tr>\n",
       "      <th>4</th>\n",
       "      <td>5</td>\n",
       "      <td>6</td>\n",
       "      <td>0.999923</td>\n",
       "      <td>1.000077</td>\n",
       "      <td>0.999847</td>\n",
       "      <td>1.000153</td>\n",
       "      <td>100</td>\n",
       "      <td>100</td>\n",
       "      <td>37</td>\n",
       "      <td>6</td>\n",
       "      <td>64</td>\n",
       "    </tr>\n",
       "  </tbody>\n",
       "</table>\n",
       "</div>"
      ],
      "text/plain": [
       "   time_id  seconds_in_bucket  bid_price1  ask_price1  bid_price2  ask_price2  \\\n",
       "0        5                  0    0.999847    1.000077    0.999693    1.000153   \n",
       "1        5                  1    1.000077    1.000153    0.999847    1.000230   \n",
       "2        5                  2    0.999847    1.000153    0.999693    1.000230   \n",
       "3        5                  5    0.999847    1.000153    0.999693    1.000230   \n",
       "4        5                  6    0.999923    1.000077    0.999847    1.000153   \n",
       "\n",
       "   bid_size1  ask_size1  bid_size2  ask_size2  stock_id  \n",
       "0         37         11         46        200        64  \n",
       "1          5        100        337        100        64  \n",
       "2        237          6         46        100        64  \n",
       "3         37        106         46        100        64  \n",
       "4        100        100         37          6        64  "
      ]
     },
     "execution_count": 15,
     "metadata": {},
     "output_type": "execute_result"
    },
    {
     "name": "stdout",
     "output_type": "stream",
     "text": [
      "In [15] used -171.6250 MiB RAM in 0.13s, peaked 47.30 MiB above current, total RAM usage 2552.41 MiB\n"
     ]
    }
   ],
   "source": [
    "df_book_train.head()"
   ]
  },
  {
   "cell_type": "code",
   "execution_count": 16,
   "id": "079f3c35-eda1-43c1-bcc5-6c9d60ff5ce1",
   "metadata": {},
   "outputs": [
    {
     "name": "stdout",
     "output_type": "stream",
     "text": [
      "In [16] used -23.5117 MiB RAM in 0.10s, peaked 0.00 MiB above current, total RAM usage 2528.90 MiB\n"
     ]
    }
   ],
   "source": [
    "# make feature columns\n",
    "def make_features1(df_book, agg_type, cols):\n",
    "    features_var1 = df_book.groupby(['stock_id', 'time_id'])[cols].agg(agg_type)\n",
    "    features_var1_col_names = [f\"{col}_{agg_type}\" for col in cols]\n",
    "    features_var1.columns = features_var1_col_names\n",
    "    #features_var1\n",
    "    return features_var1\n"
   ]
  },
  {
   "cell_type": "code",
   "execution_count": 17,
   "id": "2b08605e-0bc2-4b71-bb85-98790aaca9e9",
   "metadata": {},
   "outputs": [
    {
     "data": {
      "text/html": [
       "<div>\n",
       "<style scoped>\n",
       "    .dataframe tbody tr th:only-of-type {\n",
       "        vertical-align: middle;\n",
       "    }\n",
       "\n",
       "    .dataframe tbody tr th {\n",
       "        vertical-align: top;\n",
       "    }\n",
       "\n",
       "    .dataframe thead th {\n",
       "        text-align: right;\n",
       "    }\n",
       "</style>\n",
       "<table border=\"1\" class=\"dataframe\">\n",
       "  <thead>\n",
       "    <tr style=\"text-align: right;\">\n",
       "      <th></th>\n",
       "      <th>time_id</th>\n",
       "      <th>seconds_in_bucket</th>\n",
       "      <th>bid_price1</th>\n",
       "      <th>ask_price1</th>\n",
       "      <th>bid_price2</th>\n",
       "      <th>ask_price2</th>\n",
       "      <th>bid_size1</th>\n",
       "      <th>ask_size1</th>\n",
       "      <th>bid_size2</th>\n",
       "      <th>ask_size2</th>\n",
       "      <th>stock_id</th>\n",
       "    </tr>\n",
       "  </thead>\n",
       "  <tbody>\n",
       "    <tr>\n",
       "      <th>0</th>\n",
       "      <td>5</td>\n",
       "      <td>0</td>\n",
       "      <td>0.999847</td>\n",
       "      <td>1.000077</td>\n",
       "      <td>0.999693</td>\n",
       "      <td>1.000153</td>\n",
       "      <td>37</td>\n",
       "      <td>11</td>\n",
       "      <td>46</td>\n",
       "      <td>200</td>\n",
       "      <td>64</td>\n",
       "    </tr>\n",
       "    <tr>\n",
       "      <th>1</th>\n",
       "      <td>5</td>\n",
       "      <td>1</td>\n",
       "      <td>1.000077</td>\n",
       "      <td>1.000153</td>\n",
       "      <td>0.999847</td>\n",
       "      <td>1.000230</td>\n",
       "      <td>5</td>\n",
       "      <td>100</td>\n",
       "      <td>337</td>\n",
       "      <td>100</td>\n",
       "      <td>64</td>\n",
       "    </tr>\n",
       "    <tr>\n",
       "      <th>2</th>\n",
       "      <td>5</td>\n",
       "      <td>2</td>\n",
       "      <td>0.999847</td>\n",
       "      <td>1.000153</td>\n",
       "      <td>0.999693</td>\n",
       "      <td>1.000230</td>\n",
       "      <td>237</td>\n",
       "      <td>6</td>\n",
       "      <td>46</td>\n",
       "      <td>100</td>\n",
       "      <td>64</td>\n",
       "    </tr>\n",
       "    <tr>\n",
       "      <th>3</th>\n",
       "      <td>5</td>\n",
       "      <td>5</td>\n",
       "      <td>0.999847</td>\n",
       "      <td>1.000153</td>\n",
       "      <td>0.999693</td>\n",
       "      <td>1.000230</td>\n",
       "      <td>37</td>\n",
       "      <td>106</td>\n",
       "      <td>46</td>\n",
       "      <td>100</td>\n",
       "      <td>64</td>\n",
       "    </tr>\n",
       "    <tr>\n",
       "      <th>4</th>\n",
       "      <td>5</td>\n",
       "      <td>6</td>\n",
       "      <td>0.999923</td>\n",
       "      <td>1.000077</td>\n",
       "      <td>0.999847</td>\n",
       "      <td>1.000153</td>\n",
       "      <td>100</td>\n",
       "      <td>100</td>\n",
       "      <td>37</td>\n",
       "      <td>6</td>\n",
       "      <td>64</td>\n",
       "    </tr>\n",
       "  </tbody>\n",
       "</table>\n",
       "</div>"
      ],
      "text/plain": [
       "   time_id  seconds_in_bucket  bid_price1  ask_price1  bid_price2  ask_price2  \\\n",
       "0        5                  0    0.999847    1.000077    0.999693    1.000153   \n",
       "1        5                  1    1.000077    1.000153    0.999847    1.000230   \n",
       "2        5                  2    0.999847    1.000153    0.999693    1.000230   \n",
       "3        5                  5    0.999847    1.000153    0.999693    1.000230   \n",
       "4        5                  6    0.999923    1.000077    0.999847    1.000153   \n",
       "\n",
       "   bid_size1  ask_size1  bid_size2  ask_size2  stock_id  \n",
       "0         37         11         46        200        64  \n",
       "1          5        100        337        100        64  \n",
       "2        237          6         46        100        64  \n",
       "3         37        106         46        100        64  \n",
       "4        100        100         37          6        64  "
      ]
     },
     "execution_count": 17,
     "metadata": {},
     "output_type": "execute_result"
    },
    {
     "name": "stdout",
     "output_type": "stream",
     "text": [
      "In [17] used -91.7344 MiB RAM in 0.13s, peaked 91.73 MiB above current, total RAM usage 2437.17 MiB\n"
     ]
    }
   ],
   "source": [
    "df_book_train.head()"
   ]
  },
  {
   "cell_type": "code",
   "execution_count": 18,
   "id": "e5ed2a9b-422c-41af-ae2d-3a10e8733735",
   "metadata": {},
   "outputs": [
    {
     "name": "stdout",
     "output_type": "stream",
     "text": [
      "In [18] used 0.0000 MiB RAM in 0.10s, peaked 0.00 MiB above current, total RAM usage 2437.17 MiB\n"
     ]
    }
   ],
   "source": [
    "# make WAP"
   ]
  },
  {
   "cell_type": "code",
   "execution_count": 19,
   "id": "cc35443b-67c0-4aa8-b898-1b793a4ecbdf",
   "metadata": {},
   "outputs": [
    {
     "data": {
      "text/html": [
       "<div>\n",
       "<style scoped>\n",
       "    .dataframe tbody tr th:only-of-type {\n",
       "        vertical-align: middle;\n",
       "    }\n",
       "\n",
       "    .dataframe tbody tr th {\n",
       "        vertical-align: top;\n",
       "    }\n",
       "\n",
       "    .dataframe thead th {\n",
       "        text-align: right;\n",
       "    }\n",
       "</style>\n",
       "<table border=\"1\" class=\"dataframe\">\n",
       "  <thead>\n",
       "    <tr style=\"text-align: right;\">\n",
       "      <th></th>\n",
       "      <th>time_id</th>\n",
       "      <th>seconds_in_bucket</th>\n",
       "      <th>bid_price1</th>\n",
       "      <th>ask_price1</th>\n",
       "      <th>bid_price2</th>\n",
       "      <th>ask_price2</th>\n",
       "      <th>bid_size1</th>\n",
       "      <th>ask_size1</th>\n",
       "      <th>bid_size2</th>\n",
       "      <th>ask_size2</th>\n",
       "      <th>stock_id</th>\n",
       "    </tr>\n",
       "  </thead>\n",
       "  <tbody>\n",
       "    <tr>\n",
       "      <th>0</th>\n",
       "      <td>5</td>\n",
       "      <td>0</td>\n",
       "      <td>1.001422</td>\n",
       "      <td>1.002301</td>\n",
       "      <td>1.001370</td>\n",
       "      <td>1.002353</td>\n",
       "      <td>3</td>\n",
       "      <td>226</td>\n",
       "      <td>2</td>\n",
       "      <td>100</td>\n",
       "      <td>0</td>\n",
       "    </tr>\n",
       "    <tr>\n",
       "      <th>1</th>\n",
       "      <td>5</td>\n",
       "      <td>1</td>\n",
       "      <td>1.001422</td>\n",
       "      <td>1.002301</td>\n",
       "      <td>1.001370</td>\n",
       "      <td>1.002353</td>\n",
       "      <td>3</td>\n",
       "      <td>100</td>\n",
       "      <td>2</td>\n",
       "      <td>100</td>\n",
       "      <td>0</td>\n",
       "    </tr>\n",
       "    <tr>\n",
       "      <th>2</th>\n",
       "      <td>5</td>\n",
       "      <td>5</td>\n",
       "      <td>1.001422</td>\n",
       "      <td>1.002301</td>\n",
       "      <td>1.001370</td>\n",
       "      <td>1.002405</td>\n",
       "      <td>3</td>\n",
       "      <td>100</td>\n",
       "      <td>2</td>\n",
       "      <td>100</td>\n",
       "      <td>0</td>\n",
       "    </tr>\n",
       "    <tr>\n",
       "      <th>3</th>\n",
       "      <td>5</td>\n",
       "      <td>6</td>\n",
       "      <td>1.001422</td>\n",
       "      <td>1.002301</td>\n",
       "      <td>1.001370</td>\n",
       "      <td>1.002405</td>\n",
       "      <td>3</td>\n",
       "      <td>126</td>\n",
       "      <td>2</td>\n",
       "      <td>100</td>\n",
       "      <td>0</td>\n",
       "    </tr>\n",
       "    <tr>\n",
       "      <th>4</th>\n",
       "      <td>5</td>\n",
       "      <td>7</td>\n",
       "      <td>1.001422</td>\n",
       "      <td>1.002301</td>\n",
       "      <td>1.001370</td>\n",
       "      <td>1.002405</td>\n",
       "      <td>3</td>\n",
       "      <td>126</td>\n",
       "      <td>2</td>\n",
       "      <td>100</td>\n",
       "      <td>0</td>\n",
       "    </tr>\n",
       "    <tr>\n",
       "      <th>...</th>\n",
       "      <td>...</td>\n",
       "      <td>...</td>\n",
       "      <td>...</td>\n",
       "      <td>...</td>\n",
       "      <td>...</td>\n",
       "      <td>...</td>\n",
       "      <td>...</td>\n",
       "      <td>...</td>\n",
       "      <td>...</td>\n",
       "      <td>...</td>\n",
       "      <td>...</td>\n",
       "    </tr>\n",
       "    <tr>\n",
       "      <th>297</th>\n",
       "      <td>5</td>\n",
       "      <td>585</td>\n",
       "      <td>1.003129</td>\n",
       "      <td>1.003749</td>\n",
       "      <td>1.003025</td>\n",
       "      <td>1.003801</td>\n",
       "      <td>100</td>\n",
       "      <td>3</td>\n",
       "      <td>26</td>\n",
       "      <td>3</td>\n",
       "      <td>0</td>\n",
       "    </tr>\n",
       "    <tr>\n",
       "      <th>298</th>\n",
       "      <td>5</td>\n",
       "      <td>586</td>\n",
       "      <td>1.003129</td>\n",
       "      <td>1.003749</td>\n",
       "      <td>1.002612</td>\n",
       "      <td>1.003801</td>\n",
       "      <td>100</td>\n",
       "      <td>3</td>\n",
       "      <td>2</td>\n",
       "      <td>3</td>\n",
       "      <td>0</td>\n",
       "    </tr>\n",
       "    <tr>\n",
       "      <th>299</th>\n",
       "      <td>5</td>\n",
       "      <td>587</td>\n",
       "      <td>1.003129</td>\n",
       "      <td>1.003749</td>\n",
       "      <td>1.003025</td>\n",
       "      <td>1.003801</td>\n",
       "      <td>100</td>\n",
       "      <td>3</td>\n",
       "      <td>26</td>\n",
       "      <td>3</td>\n",
       "      <td>0</td>\n",
       "    </tr>\n",
       "    <tr>\n",
       "      <th>300</th>\n",
       "      <td>5</td>\n",
       "      <td>588</td>\n",
       "      <td>1.003129</td>\n",
       "      <td>1.003749</td>\n",
       "      <td>1.002612</td>\n",
       "      <td>1.003801</td>\n",
       "      <td>100</td>\n",
       "      <td>3</td>\n",
       "      <td>2</td>\n",
       "      <td>3</td>\n",
       "      <td>0</td>\n",
       "    </tr>\n",
       "    <tr>\n",
       "      <th>301</th>\n",
       "      <td>5</td>\n",
       "      <td>593</td>\n",
       "      <td>1.003129</td>\n",
       "      <td>1.003749</td>\n",
       "      <td>1.003025</td>\n",
       "      <td>1.003801</td>\n",
       "      <td>100</td>\n",
       "      <td>3</td>\n",
       "      <td>26</td>\n",
       "      <td>3</td>\n",
       "      <td>0</td>\n",
       "    </tr>\n",
       "  </tbody>\n",
       "</table>\n",
       "<p>302 rows × 11 columns</p>\n",
       "</div>"
      ],
      "text/plain": [
       "     time_id  seconds_in_bucket  bid_price1  ask_price1  bid_price2  \\\n",
       "0          5                  0    1.001422    1.002301    1.001370   \n",
       "1          5                  1    1.001422    1.002301    1.001370   \n",
       "2          5                  5    1.001422    1.002301    1.001370   \n",
       "3          5                  6    1.001422    1.002301    1.001370   \n",
       "4          5                  7    1.001422    1.002301    1.001370   \n",
       "..       ...                ...         ...         ...         ...   \n",
       "297        5                585    1.003129    1.003749    1.003025   \n",
       "298        5                586    1.003129    1.003749    1.002612   \n",
       "299        5                587    1.003129    1.003749    1.003025   \n",
       "300        5                588    1.003129    1.003749    1.002612   \n",
       "301        5                593    1.003129    1.003749    1.003025   \n",
       "\n",
       "     ask_price2  bid_size1  ask_size1  bid_size2  ask_size2  stock_id  \n",
       "0      1.002353          3        226          2        100         0  \n",
       "1      1.002353          3        100          2        100         0  \n",
       "2      1.002405          3        100          2        100         0  \n",
       "3      1.002405          3        126          2        100         0  \n",
       "4      1.002405          3        126          2        100         0  \n",
       "..          ...        ...        ...        ...        ...       ...  \n",
       "297    1.003801        100          3         26          3         0  \n",
       "298    1.003801        100          3          2          3         0  \n",
       "299    1.003801        100          3         26          3         0  \n",
       "300    1.003801        100          3          2          3         0  \n",
       "301    1.003801        100          3         26          3         0  \n",
       "\n",
       "[302 rows x 11 columns]"
      ]
     },
     "execution_count": 19,
     "metadata": {},
     "output_type": "execute_result"
    },
    {
     "name": "stdout",
     "output_type": "stream",
     "text": [
      "In [19] used -0.2109 MiB RAM in 0.43s, peaked 719.07 MiB above current, total RAM usage 2436.96 MiB\n"
     ]
    }
   ],
   "source": [
    "stock_id = '0'\n",
    "book_example = df_book_train.query('stock_id==0 and time_id==5').copy()\n",
    "book_example"
   ]
  },
  {
   "cell_type": "code",
   "execution_count": 20,
   "id": "9a34efc6-25d9-41ed-9e3e-a159329d36a8",
   "metadata": {},
   "outputs": [
    {
     "data": {
      "text/plain": [
       "<AxesSubplot:>"
      ]
     },
     "execution_count": 20,
     "metadata": {},
     "output_type": "execute_result"
    },
    {
     "data": {
      "image/png": "[encoded data removed]",
      "text/plain": [
       "<Figure size 432x288 with 1 Axes>"
      ]
     },
     "metadata": {
      "needs_background": "light"
     },
     "output_type": "display_data"
    },
    {
     "name": "stdout",
     "output_type": "stream",
     "text": [
      "In [20] used 3.9336 MiB RAM in 0.37s, peaked 0.00 MiB above current, total RAM usage 2440.89 MiB\n"
     ]
    }
   ],
   "source": [
    "def make_wap(df):\n",
    "    df['wap_num'] = (df['bid_price1'] * df['ask_size1']) + (df['ask_price1'] * df['bid_size1']) \n",
    "    df['wap_denom'] = df['bid_size1'] + df['ask_size1']\n",
    "    df['wap'] = df['wap_num'] / df['wap_denom']\n",
    "make_wap(book_example)\n",
    "book_example.query('stock_id==0 and time_id==5')['wap'].plot()"
   ]
  },
  {
   "cell_type": "code",
   "execution_count": 21,
   "id": "e4dab1b5-c547-490e-86b3-515e4e439f60",
   "metadata": {},
   "outputs": [
    {
     "data": {
      "text/plain": [
       "0.004499364172786558"
      ]
     },
     "execution_count": 21,
     "metadata": {},
     "output_type": "execute_result"
    },
    {
     "name": "stdout",
     "output_type": "stream",
     "text": [
      "In [21] used -3.3789 MiB RAM in 0.12s, peaked 3.38 MiB above current, total RAM usage 2437.51 MiB\n"
     ]
    }
   ],
   "source": [
    "def log_return(list_stock_prices):\n",
    "    return np.log(list_stock_prices).diff() \n",
    "\n",
    "def realized_volatility(series_log_return):\n",
    "    return np.sqrt(np.sum(series_log_return**2))\n",
    "\n",
    "book_example.loc[:,'log_return'] = log_return(book_example['wap'])\n",
    "book_example = book_example[~book_example['log_return'].isnull()]\n",
    "realized_vol = realized_volatility(book_example['log_return'])\n",
    "realized_vol"
   ]
  },
  {
   "cell_type": "code",
   "execution_count": 22,
   "id": "890e9629-74e8-4187-a73c-8842684b775f",
   "metadata": {},
   "outputs": [
    {
     "name": "stdout",
     "output_type": "stream",
     "text": [
      "In [22] used 0.0078 MiB RAM in 0.10s, peaked 0.00 MiB above current, total RAM usage 2437.52 MiB\n"
     ]
    }
   ],
   "source": [
    "#df_book_data = df_book_train"
   ]
  },
  {
   "cell_type": "code",
   "execution_count": 23,
   "id": "ccacc4e4-5bda-415c-a253-b1e406fb2fd1",
   "metadata": {},
   "outputs": [
    {
     "data": {
      "text/plain": [
       "(45641526, 11)"
      ]
     },
     "execution_count": 23,
     "metadata": {},
     "output_type": "execute_result"
    },
    {
     "name": "stdout",
     "output_type": "stream",
     "text": [
      "In [23] used 0.0000 MiB RAM in 0.11s, peaked 0.00 MiB above current, total RAM usage 2437.52 MiB\n"
     ]
    }
   ],
   "source": [
    "df_book_train.shape"
   ]
  },
  {
   "cell_type": "code",
   "execution_count": 29,
   "id": "675098cd-8890-4f73-b402-d79b8134a0ff",
   "metadata": {},
   "outputs": [
    {
     "name": "stdout",
     "output_type": "stream",
     "text": [
      "starting\n",
      "2 2021-08-02 12:50:01.025970\n",
      "3 2021-08-02 12:50:01.203982\n"
     ]
    },
    {
     "ename": "KeyboardInterrupt",
     "evalue": "",
     "output_type": "error",
     "traceback": [
      "\u001b[0;31m---------------------------------------------------------------------------\u001b[0m",
      "\u001b[0;31mKeyboardInterrupt\u001b[0m                         Traceback (most recent call last)",
      "\u001b[0;32m/tmp/ipykernel_541309/2109205624.py\u001b[0m in \u001b[0;36m<module>\u001b[0;34m\u001b[0m\n\u001b[1;32m     21\u001b[0m \u001b[0;34m\u001b[0m\u001b[0m\n\u001b[1;32m     22\u001b[0m \u001b[0;31m# returns [stock_id, time_id, log_return]\u001b[0m\u001b[0;34m\u001b[0m\u001b[0;34m\u001b[0m\u001b[0;34m\u001b[0m\u001b[0m\n\u001b[0;32m---> 23\u001b[0;31m \u001b[0mfeature_log_return\u001b[0m \u001b[0;34m=\u001b[0m \u001b[0mrealized_volatility_per_time_id\u001b[0m\u001b[0;34m(\u001b[0m\u001b[0;32mNone\u001b[0m\u001b[0;34m,\u001b[0m \u001b[0;34m'target'\u001b[0m\u001b[0;34m,\u001b[0m \u001b[0mdf_book_train\u001b[0m\u001b[0;34m)\u001b[0m\u001b[0;34m\u001b[0m\u001b[0;34m\u001b[0m\u001b[0m\n\u001b[0m",
      "\u001b[0;32m/tmp/ipykernel_541309/2109205624.py\u001b[0m in \u001b[0;36mrealized_volatility_per_time_id\u001b[0;34m(file_path, prediction_column_name, df_book_data)\u001b[0m\n\u001b[1;32m      7\u001b[0m     \u001b[0mdf_book_data\u001b[0m\u001b[0;34m[\u001b[0m\u001b[0;34m'wap'\u001b[0m\u001b[0;34m]\u001b[0m \u001b[0;34m=\u001b[0m  \u001b[0mdf_book_data\u001b[0m\u001b[0;34m[\u001b[0m\u001b[0;34m'wap_numer'\u001b[0m\u001b[0;34m]\u001b[0m \u001b[0;34m/\u001b[0m \u001b[0mdf_book_data\u001b[0m\u001b[0;34m[\u001b[0m\u001b[0;34m'wap_denom'\u001b[0m\u001b[0;34m]\u001b[0m\u001b[0;34m\u001b[0m\u001b[0;34m\u001b[0m\u001b[0m\n\u001b[1;32m      8\u001b[0m     \u001b[0mprint\u001b[0m\u001b[0;34m(\u001b[0m\u001b[0;34m'3'\u001b[0m\u001b[0;34m,\u001b[0m \u001b[0mdatetime\u001b[0m\u001b[0;34m.\u001b[0m\u001b[0mdatetime\u001b[0m\u001b[0;34m.\u001b[0m\u001b[0mnow\u001b[0m\u001b[0;34m(\u001b[0m\u001b[0;34m)\u001b[0m\u001b[0;34m)\u001b[0m\u001b[0;34m\u001b[0m\u001b[0;34m\u001b[0m\u001b[0m\n\u001b[0;32m----> 9\u001b[0;31m     \u001b[0mdf_book_data\u001b[0m\u001b[0;34m[\u001b[0m\u001b[0;34m'log_return'\u001b[0m\u001b[0;34m]\u001b[0m \u001b[0;34m=\u001b[0m \u001b[0mdf_book_data\u001b[0m\u001b[0;34m.\u001b[0m\u001b[0mgroupby\u001b[0m\u001b[0;34m(\u001b[0m\u001b[0;34m[\u001b[0m\u001b[0;34m'stock_id'\u001b[0m\u001b[0;34m,\u001b[0m \u001b[0;34m'time_id'\u001b[0m\u001b[0;34m]\u001b[0m\u001b[0;34m)\u001b[0m\u001b[0;34m[\u001b[0m\u001b[0;34m'wap'\u001b[0m\u001b[0;34m]\u001b[0m\u001b[0;34m.\u001b[0m\u001b[0mapply\u001b[0m\u001b[0;34m(\u001b[0m\u001b[0mlog_return\u001b[0m\u001b[0;34m)\u001b[0m\u001b[0;34m\u001b[0m\u001b[0;34m\u001b[0m\u001b[0m\n\u001b[0m\u001b[1;32m     10\u001b[0m     \u001b[0mprint\u001b[0m\u001b[0;34m(\u001b[0m\u001b[0;34m'4'\u001b[0m\u001b[0;34m,\u001b[0m \u001b[0mdatetime\u001b[0m\u001b[0;34m.\u001b[0m\u001b[0mdatetime\u001b[0m\u001b[0;34m.\u001b[0m\u001b[0mnow\u001b[0m\u001b[0;34m(\u001b[0m\u001b[0;34m)\u001b[0m\u001b[0;34m)\u001b[0m\u001b[0;34m\u001b[0m\u001b[0;34m\u001b[0m\u001b[0m\n\u001b[1;32m     11\u001b[0m     \u001b[0mdf_book_data\u001b[0m \u001b[0;34m=\u001b[0m \u001b[0mdf_book_data\u001b[0m\u001b[0;34m[\u001b[0m\u001b[0;34m~\u001b[0m\u001b[0mdf_book_data\u001b[0m\u001b[0;34m[\u001b[0m\u001b[0;34m'log_return'\u001b[0m\u001b[0;34m]\u001b[0m\u001b[0;34m.\u001b[0m\u001b[0misnull\u001b[0m\u001b[0;34m(\u001b[0m\u001b[0;34m)\u001b[0m\u001b[0;34m]\u001b[0m\u001b[0;34m\u001b[0m\u001b[0;34m\u001b[0m\u001b[0m\n",
      "\u001b[0;32m~/miniconda3/envs/optiver_volatility/lib/python3.8/site-packages/pandas/core/groupby/generic.py\u001b[0m in \u001b[0;36mapply\u001b[0;34m(self, func, *args, **kwargs)\u001b[0m\n\u001b[1;32m    221\u001b[0m     )\n\u001b[1;32m    222\u001b[0m     \u001b[0;32mdef\u001b[0m \u001b[0mapply\u001b[0m\u001b[0;34m(\u001b[0m\u001b[0mself\u001b[0m\u001b[0;34m,\u001b[0m \u001b[0mfunc\u001b[0m\u001b[0;34m,\u001b[0m \u001b[0;34m*\u001b[0m\u001b[0margs\u001b[0m\u001b[0;34m,\u001b[0m \u001b[0;34m**\u001b[0m\u001b[0mkwargs\u001b[0m\u001b[0;34m)\u001b[0m\u001b[0;34m:\u001b[0m\u001b[0;34m\u001b[0m\u001b[0;34m\u001b[0m\u001b[0m\n\u001b[0;32m--> 223\u001b[0;31m         \u001b[0;32mreturn\u001b[0m \u001b[0msuper\u001b[0m\u001b[0;34m(\u001b[0m\u001b[0;34m)\u001b[0m\u001b[0;34m.\u001b[0m\u001b[0mapply\u001b[0m\u001b[0;34m(\u001b[0m\u001b[0mfunc\u001b[0m\u001b[0;34m,\u001b[0m \u001b[0;34m*\u001b[0m\u001b[0margs\u001b[0m\u001b[0;34m,\u001b[0m \u001b[0;34m**\u001b[0m\u001b[0mkwargs\u001b[0m\u001b[0;34m)\u001b[0m\u001b[0;34m\u001b[0m\u001b[0;34m\u001b[0m\u001b[0m\n\u001b[0m\u001b[1;32m    224\u001b[0m \u001b[0;34m\u001b[0m\u001b[0m\n\u001b[1;32m    225\u001b[0m     \u001b[0;34m@\u001b[0m\u001b[0mdoc\u001b[0m\u001b[0;34m(\u001b[0m\u001b[0m_agg_template\u001b[0m\u001b[0;34m,\u001b[0m \u001b[0mexamples\u001b[0m\u001b[0;34m=\u001b[0m\u001b[0m_agg_examples_doc\u001b[0m\u001b[0;34m,\u001b[0m \u001b[0mklass\u001b[0m\u001b[0;34m=\u001b[0m\u001b[0;34m\"Series\"\u001b[0m\u001b[0;34m)\u001b[0m\u001b[0;34m\u001b[0m\u001b[0;34m\u001b[0m\u001b[0m\n",
      "\u001b[0;32m~/miniconda3/envs/optiver_volatility/lib/python3.8/site-packages/pandas/core/groupby/groupby.py\u001b[0m in \u001b[0;36mapply\u001b[0;34m(self, func, *args, **kwargs)\u001b[0m\n\u001b[1;32m   1251\u001b[0m         \u001b[0;32mwith\u001b[0m \u001b[0moption_context\u001b[0m\u001b[0;34m(\u001b[0m\u001b[0;34m\"mode.chained_assignment\"\u001b[0m\u001b[0;34m,\u001b[0m \u001b[0;32mNone\u001b[0m\u001b[0;34m)\u001b[0m\u001b[0;34m:\u001b[0m\u001b[0;34m\u001b[0m\u001b[0;34m\u001b[0m\u001b[0m\n\u001b[1;32m   1252\u001b[0m             \u001b[0;32mtry\u001b[0m\u001b[0;34m:\u001b[0m\u001b[0;34m\u001b[0m\u001b[0;34m\u001b[0m\u001b[0m\n\u001b[0;32m-> 1253\u001b[0;31m                 \u001b[0mresult\u001b[0m \u001b[0;34m=\u001b[0m \u001b[0mself\u001b[0m\u001b[0;34m.\u001b[0m\u001b[0m_python_apply_general\u001b[0m\u001b[0;34m(\u001b[0m\u001b[0mf\u001b[0m\u001b[0;34m,\u001b[0m \u001b[0mself\u001b[0m\u001b[0;34m.\u001b[0m\u001b[0m_selected_obj\u001b[0m\u001b[0;34m)\u001b[0m\u001b[0;34m\u001b[0m\u001b[0;34m\u001b[0m\u001b[0m\n\u001b[0m\u001b[1;32m   1254\u001b[0m             \u001b[0;32mexcept\u001b[0m \u001b[0mTypeError\u001b[0m\u001b[0;34m:\u001b[0m\u001b[0;34m\u001b[0m\u001b[0;34m\u001b[0m\u001b[0m\n\u001b[1;32m   1255\u001b[0m                 \u001b[0;31m# gh-20949\u001b[0m\u001b[0;34m\u001b[0m\u001b[0;34m\u001b[0m\u001b[0;34m\u001b[0m\u001b[0m\n",
      "\u001b[0;32m~/miniconda3/envs/optiver_volatility/lib/python3.8/site-packages/pandas/core/groupby/groupby.py\u001b[0m in \u001b[0;36m_python_apply_general\u001b[0;34m(self, f, data)\u001b[0m\n\u001b[1;32m   1287\u001b[0m         \u001b[0mkeys\u001b[0m\u001b[0;34m,\u001b[0m \u001b[0mvalues\u001b[0m\u001b[0;34m,\u001b[0m \u001b[0mmutated\u001b[0m \u001b[0;34m=\u001b[0m \u001b[0mself\u001b[0m\u001b[0;34m.\u001b[0m\u001b[0mgrouper\u001b[0m\u001b[0;34m.\u001b[0m\u001b[0mapply\u001b[0m\u001b[0;34m(\u001b[0m\u001b[0mf\u001b[0m\u001b[0;34m,\u001b[0m \u001b[0mdata\u001b[0m\u001b[0;34m,\u001b[0m \u001b[0mself\u001b[0m\u001b[0;34m.\u001b[0m\u001b[0maxis\u001b[0m\u001b[0;34m)\u001b[0m\u001b[0;34m\u001b[0m\u001b[0;34m\u001b[0m\u001b[0m\n\u001b[1;32m   1288\u001b[0m \u001b[0;34m\u001b[0m\u001b[0m\n\u001b[0;32m-> 1289\u001b[0;31m         return self._wrap_applied_output(\n\u001b[0m\u001b[1;32m   1290\u001b[0m             \u001b[0mdata\u001b[0m\u001b[0;34m,\u001b[0m \u001b[0mkeys\u001b[0m\u001b[0;34m,\u001b[0m \u001b[0mvalues\u001b[0m\u001b[0;34m,\u001b[0m \u001b[0mnot_indexed_same\u001b[0m\u001b[0;34m=\u001b[0m\u001b[0mmutated\u001b[0m \u001b[0;32mor\u001b[0m \u001b[0mself\u001b[0m\u001b[0;34m.\u001b[0m\u001b[0mmutated\u001b[0m\u001b[0;34m\u001b[0m\u001b[0;34m\u001b[0m\u001b[0m\n\u001b[1;32m   1291\u001b[0m         )\n",
      "\u001b[0;32m~/miniconda3/envs/optiver_volatility/lib/python3.8/site-packages/pandas/core/groupby/generic.py\u001b[0m in \u001b[0;36m_wrap_applied_output\u001b[0;34m(self, data, keys, values, not_indexed_same)\u001b[0m\n\u001b[1;32m    470\u001b[0m             \u001b[0;32mreturn\u001b[0m \u001b[0mres_ser\u001b[0m\u001b[0;34m\u001b[0m\u001b[0;34m\u001b[0m\u001b[0m\n\u001b[1;32m    471\u001b[0m         \u001b[0;32melif\u001b[0m \u001b[0misinstance\u001b[0m\u001b[0;34m(\u001b[0m\u001b[0mvalues\u001b[0m\u001b[0;34m[\u001b[0m\u001b[0;36m0\u001b[0m\u001b[0;34m]\u001b[0m\u001b[0;34m,\u001b[0m \u001b[0;34m(\u001b[0m\u001b[0mSeries\u001b[0m\u001b[0;34m,\u001b[0m \u001b[0mDataFrame\u001b[0m\u001b[0;34m)\u001b[0m\u001b[0;34m)\u001b[0m\u001b[0;34m:\u001b[0m\u001b[0;34m\u001b[0m\u001b[0;34m\u001b[0m\u001b[0m\n\u001b[0;32m--> 472\u001b[0;31m             \u001b[0;32mreturn\u001b[0m \u001b[0mself\u001b[0m\u001b[0;34m.\u001b[0m\u001b[0m_concat_objects\u001b[0m\u001b[0;34m(\u001b[0m\u001b[0mkeys\u001b[0m\u001b[0;34m,\u001b[0m \u001b[0mvalues\u001b[0m\u001b[0;34m,\u001b[0m \u001b[0mnot_indexed_same\u001b[0m\u001b[0;34m=\u001b[0m\u001b[0mnot_indexed_same\u001b[0m\u001b[0;34m)\u001b[0m\u001b[0;34m\u001b[0m\u001b[0;34m\u001b[0m\u001b[0m\n\u001b[0m\u001b[1;32m    473\u001b[0m         \u001b[0;32melse\u001b[0m\u001b[0;34m:\u001b[0m\u001b[0;34m\u001b[0m\u001b[0;34m\u001b[0m\u001b[0m\n\u001b[1;32m    474\u001b[0m             \u001b[0;31m# GH #6265 #24880\u001b[0m\u001b[0;34m\u001b[0m\u001b[0;34m\u001b[0m\u001b[0;34m\u001b[0m\u001b[0m\n",
      "\u001b[0;32m~/miniconda3/envs/optiver_volatility/lib/python3.8/site-packages/pandas/core/groupby/groupby.py\u001b[0m in \u001b[0;36m_concat_objects\u001b[0;34m(self, keys, values, not_indexed_same)\u001b[0m\n\u001b[1;32m   1021\u001b[0m             \u001b[0;31m# GH 14776, 30667\u001b[0m\u001b[0;34m\u001b[0m\u001b[0;34m\u001b[0m\u001b[0;34m\u001b[0m\u001b[0m\n\u001b[1;32m   1022\u001b[0m             \u001b[0;32mif\u001b[0m \u001b[0max\u001b[0m\u001b[0;34m.\u001b[0m\u001b[0mhas_duplicates\u001b[0m \u001b[0;32mand\u001b[0m \u001b[0;32mnot\u001b[0m \u001b[0mresult\u001b[0m\u001b[0;34m.\u001b[0m\u001b[0maxes\u001b[0m\u001b[0;34m[\u001b[0m\u001b[0mself\u001b[0m\u001b[0;34m.\u001b[0m\u001b[0maxis\u001b[0m\u001b[0;34m]\u001b[0m\u001b[0;34m.\u001b[0m\u001b[0mequals\u001b[0m\u001b[0;34m(\u001b[0m\u001b[0max\u001b[0m\u001b[0;34m)\u001b[0m\u001b[0;34m:\u001b[0m\u001b[0;34m\u001b[0m\u001b[0;34m\u001b[0m\u001b[0m\n\u001b[0;32m-> 1023\u001b[0;31m                 \u001b[0mindexer\u001b[0m\u001b[0;34m,\u001b[0m \u001b[0m_\u001b[0m \u001b[0;34m=\u001b[0m \u001b[0mresult\u001b[0m\u001b[0;34m.\u001b[0m\u001b[0mindex\u001b[0m\u001b[0;34m.\u001b[0m\u001b[0mget_indexer_non_unique\u001b[0m\u001b[0;34m(\u001b[0m\u001b[0max\u001b[0m\u001b[0;34m.\u001b[0m\u001b[0m_values\u001b[0m\u001b[0;34m)\u001b[0m\u001b[0;34m\u001b[0m\u001b[0;34m\u001b[0m\u001b[0m\n\u001b[0m\u001b[1;32m   1024\u001b[0m                 \u001b[0mindexer\u001b[0m \u001b[0;34m=\u001b[0m \u001b[0malgorithms\u001b[0m\u001b[0;34m.\u001b[0m\u001b[0munique1d\u001b[0m\u001b[0;34m(\u001b[0m\u001b[0mindexer\u001b[0m\u001b[0;34m)\u001b[0m\u001b[0;34m\u001b[0m\u001b[0;34m\u001b[0m\u001b[0m\n\u001b[1;32m   1025\u001b[0m                 \u001b[0mresult\u001b[0m \u001b[0;34m=\u001b[0m \u001b[0mresult\u001b[0m\u001b[0;34m.\u001b[0m\u001b[0mtake\u001b[0m\u001b[0;34m(\u001b[0m\u001b[0mindexer\u001b[0m\u001b[0;34m,\u001b[0m \u001b[0maxis\u001b[0m\u001b[0;34m=\u001b[0m\u001b[0mself\u001b[0m\u001b[0;34m.\u001b[0m\u001b[0maxis\u001b[0m\u001b[0;34m)\u001b[0m\u001b[0;34m\u001b[0m\u001b[0;34m\u001b[0m\u001b[0m\n",
      "\u001b[0;32m~/miniconda3/envs/optiver_volatility/lib/python3.8/site-packages/pandas/core/indexes/base.py\u001b[0m in \u001b[0;36mget_indexer_non_unique\u001b[0;34m(self, target)\u001b[0m\n\u001b[1;32m   5257\u001b[0m         \u001b[0mtgt_values\u001b[0m \u001b[0;34m=\u001b[0m \u001b[0mtarget\u001b[0m\u001b[0;34m.\u001b[0m\u001b[0m_get_engine_target\u001b[0m\u001b[0;34m(\u001b[0m\u001b[0;34m)\u001b[0m\u001b[0;34m\u001b[0m\u001b[0;34m\u001b[0m\u001b[0m\n\u001b[1;32m   5258\u001b[0m \u001b[0;34m\u001b[0m\u001b[0m\n\u001b[0;32m-> 5259\u001b[0;31m         \u001b[0mindexer\u001b[0m\u001b[0;34m,\u001b[0m \u001b[0mmissing\u001b[0m \u001b[0;34m=\u001b[0m \u001b[0mself\u001b[0m\u001b[0;34m.\u001b[0m\u001b[0m_engine\u001b[0m\u001b[0;34m.\u001b[0m\u001b[0mget_indexer_non_unique\u001b[0m\u001b[0;34m(\u001b[0m\u001b[0mtgt_values\u001b[0m\u001b[0;34m)\u001b[0m\u001b[0;34m\u001b[0m\u001b[0;34m\u001b[0m\u001b[0m\n\u001b[0m\u001b[1;32m   5260\u001b[0m         \u001b[0;32mreturn\u001b[0m \u001b[0mensure_platform_int\u001b[0m\u001b[0;34m(\u001b[0m\u001b[0mindexer\u001b[0m\u001b[0;34m)\u001b[0m\u001b[0;34m,\u001b[0m \u001b[0mensure_platform_int\u001b[0m\u001b[0;34m(\u001b[0m\u001b[0mmissing\u001b[0m\u001b[0;34m)\u001b[0m\u001b[0;34m\u001b[0m\u001b[0;34m\u001b[0m\u001b[0m\n\u001b[1;32m   5261\u001b[0m \u001b[0;34m\u001b[0m\u001b[0m\n",
      "\u001b[0;32m~/miniconda3/envs/optiver_volatility/lib/python3.8/site-packages/pandas/_libs/index.pyx\u001b[0m in \u001b[0;36mpandas._libs.index.IndexEngine.get_indexer_non_unique\u001b[0;34m()\u001b[0m\n",
      "\u001b[0;32m<__array_function__ internals>\u001b[0m in \u001b[0;36mresize\u001b[0;34m(*args, **kwargs)\u001b[0m\n",
      "\u001b[0;32m~/miniconda3/envs/optiver_volatility/lib/python3.8/site-packages/numpy/core/fromnumeric.py\u001b[0m in \u001b[0;36mresize\u001b[0;34m(a, new_shape)\u001b[0m\n\u001b[1;32m   1430\u001b[0m \u001b[0;34m\u001b[0m\u001b[0m\n\u001b[1;32m   1431\u001b[0m     \u001b[0mrepeats\u001b[0m \u001b[0;34m=\u001b[0m \u001b[0;34m-\u001b[0m\u001b[0;34m(\u001b[0m\u001b[0;34m-\u001b[0m\u001b[0mnew_size\u001b[0m \u001b[0;34m//\u001b[0m \u001b[0ma\u001b[0m\u001b[0;34m.\u001b[0m\u001b[0msize\u001b[0m\u001b[0;34m)\u001b[0m  \u001b[0;31m# ceil division\u001b[0m\u001b[0;34m\u001b[0m\u001b[0;34m\u001b[0m\u001b[0m\n\u001b[0;32m-> 1432\u001b[0;31m     \u001b[0ma\u001b[0m \u001b[0;34m=\u001b[0m \u001b[0mconcatenate\u001b[0m\u001b[0;34m(\u001b[0m\u001b[0;34m(\u001b[0m\u001b[0ma\u001b[0m\u001b[0;34m,\u001b[0m\u001b[0;34m)\u001b[0m \u001b[0;34m*\u001b[0m \u001b[0mrepeats\u001b[0m\u001b[0;34m)\u001b[0m\u001b[0;34m[\u001b[0m\u001b[0;34m:\u001b[0m\u001b[0mnew_size\u001b[0m\u001b[0;34m]\u001b[0m\u001b[0;34m\u001b[0m\u001b[0;34m\u001b[0m\u001b[0m\n\u001b[0m\u001b[1;32m   1433\u001b[0m \u001b[0;34m\u001b[0m\u001b[0m\n\u001b[1;32m   1434\u001b[0m     \u001b[0;32mreturn\u001b[0m \u001b[0mreshape\u001b[0m\u001b[0;34m(\u001b[0m\u001b[0ma\u001b[0m\u001b[0;34m,\u001b[0m \u001b[0mnew_shape\u001b[0m\u001b[0;34m)\u001b[0m\u001b[0;34m\u001b[0m\u001b[0;34m\u001b[0m\u001b[0m\n",
      "\u001b[0;32m<__array_function__ internals>\u001b[0m in \u001b[0;36mconcatenate\u001b[0;34m(*args, **kwargs)\u001b[0m\n",
      "\u001b[0;31mKeyboardInterrupt\u001b[0m: "
     ]
    },
    {
     "name": "stdout",
     "output_type": "stream",
     "text": [
      "In [29] used 2496.1367 MiB RAM in 1228.35s, peaked 3427.59 MiB above current, total RAM usage 16165.77 MiB\n"
     ]
    }
   ],
   "source": [
    "def realized_volatility_per_time_id(file_path, prediction_column_name, df_book_data):\n",
    "    #df_book_data = pd.read_parquet(file_path)\n",
    "    print('starting')\n",
    "    df_book_data['wap_numer'] = (df_book_data['bid_price1'] * df_book_data['ask_size1']+df_book_data['ask_price1'] * df_book_data['bid_size1'])\n",
    "    df_book_data['wap_denom'] = df_book_data['bid_size1'] + df_book_data['ask_size1']\n",
    "    print(\"2\", datetime.datetime.now())\n",
    "    df_book_data['wap'] =  df_book_data['wap_numer'] / df_book_data['wap_denom']\n",
    "    print('3', datetime.datetime.now())\n",
    "    df_book_data['log_return'] = df_book_data.groupby(['stock_id', 'time_id'])['wap'].apply(log_return)\n",
    "    print('4', datetime.datetime.now())\n",
    "    df_book_data = df_book_data[~df_book_data['log_return'].isnull()]\n",
    "    print('5', datetime.datetime.now())\n",
    "    df_realized_vol_per_stock =  pd.DataFrame(df_book_data.groupby(['stock_id', 'time_id'])['log_return'].agg(realized_volatility)).reset_index()\n",
    "    print('6', datetime.datetime.now())\n",
    "    df_realized_vol_per_stock = df_realized_vol_per_stock.set_index(['stock_id', 'time_id'])\n",
    "    return df_realized_vol_per_stock\n",
    "    #df_realized_vol_per_stock = df_realized_vol_per_stock.rename(columns = {'log_return':prediction_column_name})\n",
    "    #stock_id = file_path.split('=')[1]\n",
    "    #df_realized_vol_per_stock['row_id'] = df_realized_vol_per_stock['time_id'].apply(lambda x:f'{stock_id}-{x}')\n",
    "    #return df_realized_vol_per_stock[['row_id',prediction_column_name]]\n",
    "\n",
    "# returns [stock_id, time_id, log_return]\n",
    "feature_log_return = realized_volatility_per_time_id(None, 'target', df_book_train)"
   ]
  },
  {
   "cell_type": "code",
   "execution_count": null,
   "id": "e73a1fff-a5cb-4ae4-8658-aa4e897cc91b",
   "metadata": {},
   "outputs": [],
   "source": [
    "df_book_train"
   ]
  },
  {
   "cell_type": "code",
   "execution_count": null,
   "id": "4e139143-bcc5-41af-bdac-4762ec09152f",
   "metadata": {},
   "outputs": [],
   "source": [
    "feature_log_return"
   ]
  },
  {
   "cell_type": "code",
   "execution_count": null,
   "id": "5a749cc9-8301-484a-be4a-c0aca33c3099",
   "metadata": {},
   "outputs": [],
   "source": [
    "features_var1"
   ]
  },
  {
   "cell_type": "code",
   "execution_count": null,
   "id": "21304e17-ab72-4804-9298-d1b94a1fd677",
   "metadata": {},
   "outputs": [],
   "source": [
    "df_book_train.head()"
   ]
  },
  {
   "cell_type": "code",
   "execution_count": null,
   "id": "41df96b2-6c12-4340-8a6f-e470f84263b2",
   "metadata": {},
   "outputs": [],
   "source": [
    "#cols = ['bid_price1', 'ask_price1', 'bid_price2', 'ask_price2', 'bid_size1', 'ask_size1']\n",
    "\n",
    "cols = ['bid_price1', 'ask_price1']\n",
    "#, 'log_return']\n",
    "#cols = ['wap']\n",
    "\n",
    "features_var1 = make_features1(df_book_train, 'var', cols)\n",
    "print(f\"{features_var1.memory_usage().sum() / 1_000_000:0.1f} MB\")\n",
    "features_var1"
   ]
  },
  {
   "cell_type": "code",
   "execution_count": null,
   "id": "ffa6c943-5a0f-4c7a-83c7-8868d8c89de1",
   "metadata": {},
   "outputs": [],
   "source": [
    "features_mean1 = make_features1(df_book_train, 'mean', cols)\n",
    "features_mean1"
   ]
  },
  {
   "cell_type": "markdown",
   "id": "380c10a4-72a2-4c02-93c8-544e9a5031b8",
   "metadata": {},
   "source": [
    "# Merge"
   ]
  },
  {
   "cell_type": "code",
   "execution_count": null,
   "id": "a77b2fa9-8c2e-4a3d-8f47-e789b2a55f48",
   "metadata": {},
   "outputs": [],
   "source": [
    "train_merged = pd.merge(df_train_all, features_var1, left_index=True, right_index=True)\n",
    "train_merged = pd.merge(train_merged, features_mean1, left_index=True, right_index=True)\n",
    "train_merged = pd.merge(train_merged, feature_log_return, left_index=True, right_index=True)\n",
    "\n",
    "\n",
    "train_merged"
   ]
  },
  {
   "cell_type": "code",
   "execution_count": null,
   "id": "0c8c58d2-9e7e-41a7-8ecb-035762d33e83",
   "metadata": {},
   "outputs": [],
   "source": [
    "features = train_merged.drop(columns='target').columns\n",
    "features"
   ]
  },
  {
   "cell_type": "code",
   "execution_count": null,
   "id": "58458d56-6e1d-4c6d-8150-be5ee8b3a715",
   "metadata": {},
   "outputs": [],
   "source": [
    "chs = []\n",
    "for feature in features:\n",
    "    print(f\"Making {feature}\")\n",
    "    df_sample = train_merged.reset_index().sample(5_00)\n",
    "    chs.append(alt.Chart(df_sample).mark_point().encode(x=alt.X(feature, scale=alt.Scale(zero=False)), y='target'))\n",
    "    \n",
    "# https://altair-viz.github.io/user_guide/compound_charts.html\n",
    "alt.vconcat(*chs)"
   ]
  },
  {
   "cell_type": "code",
   "execution_count": null,
   "id": "69c1d6e2-1b92-4a54-a6f5-0fb64cb1a2ef",
   "metadata": {},
   "outputs": [],
   "source": [
    "train_merged.reset_index()"
   ]
  },
  {
   "cell_type": "code",
   "execution_count": null,
   "id": "38c715f1-d4f9-4eb3-b0f1-6942f11341e6",
   "metadata": {},
   "outputs": [],
   "source": [
    "def train_test_split(df, target_col, time_ids_train, time_ids_test):\n",
    "    X_train = df.query('time_id in @time_ids_train').drop(columns=[target_col, 'time_id'])\n",
    "    X_test = df.query('time_id in @time_ids_test').drop(columns=[target_col, 'time_id'])\n",
    "    y_train = df.query('time_id in @time_ids_train')[target_col]\n",
    "    y_test = df.query('time_id in @time_ids_test')[target_col]\n",
    "    return X_train, X_test, y_train, y_test\n",
    "\n",
    "feature_cols = list(features) + ['stock_id']\n",
    "X_train, X_test, y_train, y_test = train_test_split(train_merged.reset_index()[feature_cols+['time_id', 'target']], 'target', time_ids_train, time_ids_test)\n",
    "X_train.shape, X_test.shape, y_train.shape, y_test.shape"
   ]
  },
  {
   "cell_type": "code",
   "execution_count": null,
   "id": "1eeb0826-a793-495e-9096-2ccd215f32e3",
   "metadata": {},
   "outputs": [],
   "source": [
    "X_train.head(3)"
   ]
  },
  {
   "cell_type": "code",
   "execution_count": null,
   "id": "d7d9c065-3d86-4708-a9fc-06e7438471cd",
   "metadata": {},
   "outputs": [],
   "source": [
    "X_train.shape, X_test.shape, y_train.shape, y_test.shape"
   ]
  },
  {
   "cell_type": "markdown",
   "id": "3e707413-28fc-4963-8281-f5c6a9d49cd7",
   "metadata": {},
   "source": [
    "# ML on a train/test split"
   ]
  },
  {
   "cell_type": "code",
   "execution_count": null,
   "id": "5fee6800-336e-4e6e-84f9-ff513a424f50",
   "metadata": {},
   "outputs": [],
   "source": [
    "from sklearn.linear_model import LinearRegression\n",
    "from sklearn.ensemble import RandomForestRegressor"
   ]
  },
  {
   "cell_type": "code",
   "execution_count": null,
   "id": "847d785c-fb6b-4421-a939-9c88f9a5774c",
   "metadata": {},
   "outputs": [],
   "source": [
    "#est = LinearRegression()\n",
    "est = RandomForestRegressor(n_estimators=10) # default n_estimators==100"
   ]
  },
  {
   "cell_type": "code",
   "execution_count": null,
   "id": "a970a958-e749-4bc4-aeb0-b6ba36e10139",
   "metadata": {},
   "outputs": [],
   "source": [
    "est.fit(X_train, y_train)"
   ]
  },
  {
   "cell_type": "code",
   "execution_count": null,
   "id": "66f1d82c-b652-4867-af27-33fb963e973a",
   "metadata": {},
   "outputs": [],
   "source": [
    "from sklearn.metrics import r2_score\n",
    "\n",
    "print(f\"{df_train_all.reset_index().stock_id.unique().shape[0]} unique stock ids, test set is {TEST_SIZE*100:0.1f}%\")\n",
    "print(f\"Features:\", feature_cols)\n",
    "y_pred = est.predict(X_test)\n",
    "score = r2_score(y_test, y_pred)\n",
    "print(f\"r^2 score {score:0.3f} on {y_pred.shape[0]:,} predictions\")"
   ]
  },
  {
   "cell_type": "code",
   "execution_count": null,
   "id": "3f72a5c8-06b3-4ba5-a9de-d9c7a48b9c8b",
   "metadata": {},
   "outputs": [],
   "source": [
    "df_preds = pd.DataFrame({'y_test': y_test, 'y_pred': y_pred})\n",
    "df_preds['abs_diff'] = (df_preds['y_test'] - df_preds['y_pred']).abs()\n",
    "df_preds.sort_values('abs_diff', ascending=False)"
   ]
  },
  {
   "cell_type": "code",
   "execution_count": null,
   "id": "763a3481-7eec-4fb1-928f-bdd334735ac0",
   "metadata": {},
   "outputs": [],
   "source": [
    "alt.Chart(df_preds.sample(500)).mark_bar().encode(\n",
    "    alt.X(\"abs_diff:Q\", bin=True),\n",
    "    y='count()',)"
   ]
  },
  {
   "cell_type": "code",
   "execution_count": null,
   "id": "c52e7622-d721-4705-845a-6dd6b037ab56",
   "metadata": {},
   "outputs": [],
   "source": [
    "from yellowbrick.regressor import ResidualsPlot\n",
    "\n",
    "visualizer = ResidualsPlot(est, hist=False, qqplot=True)\n",
    "visualizer.fit(X_train, y_train)  # Fit the training data to the visualizer\n",
    "visualizer.score(X_test, y_test)  # Evaluate the model on the test data\n",
    "visualizer.show()              "
   ]
  },
  {
   "cell_type": "code",
   "execution_count": null,
   "id": "cadc1055-697d-4094-bf86-6f5df515a083",
   "metadata": {},
   "outputs": [],
   "source": [
    "from yellowbrick.regressor import PredictionError\n",
    "visualizer = PredictionError(est)\n",
    "visualizer.fit(X_train, y_train)  # Fit the training data to the visualizer\n",
    "visualizer.score(X_test, y_test)  # Evaluate the model on the test data\n",
    "ax_subplot = visualizer.show()              \n",
    "#ax_subplot.set_ylim((-0.25, 0.25))\n",
    "#import matplotlib.pyplot as plt\n",
    "#plt.draw()"
   ]
  },
  {
   "cell_type": "code",
   "execution_count": null,
   "id": "0eb6411a-242a-4377-83cc-e1efc0dd12ba",
   "metadata": {},
   "outputs": [],
   "source": [
    "if 'feature_importances_' in dir(est):\n",
    "    feature_col = 'feature_importances_'\n",
    "if 'coef_' in dir(est):\n",
    "    feature_col = 'coef_'\n",
    "df_features = pd.DataFrame(zip(getattr(est, feature_col), feature_cols), columns=['importance', 'feature']).set_index('importance')\n",
    "df_features.sort_index(ascending=False)"
   ]
  },
  {
   "cell_type": "code",
   "execution_count": null,
   "id": "1ce9fa81-557b-4f1c-8bde-9a0d98026b1d",
   "metadata": {},
   "outputs": [],
   "source": []
  }
 ],
 "metadata": {
  "kernelspec": {
   "display_name": "Python 3 (ipykernel)",
   "language": "python",
   "name": "python3"
  },
  "language_info": {
   "codemirror_mode": {
    "name": "ipython",
    "version": 3
   },
   "file_extension": ".py",
   "mimetype": "text/x-python",
   "name": "python",
   "nbconvert_exporter": "python",
   "pygments_lexer": "ipython3",
   "version": "3.8.10"
  }
 },
 "nbformat": 4,
 "nbformat_minor": 5
}
