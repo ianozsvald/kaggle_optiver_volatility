{
 "cells": [
  {
   "cell_type": "markdown",
   "id": "6bed68e5-8421-40f9-8bbc-37198c9b9883",
   "metadata": {},
   "source": [
    "* load book data\n",
    "* time same col, two different aggs\n",
    "* time same col, aggs as a single operation\n",
    "* time same col, aggs via namedagg\n",
    "\n",
    "* numba on wap?"
   ]
  },
  {
   "cell_type": "code",
   "execution_count": 4,
   "id": "097de511-26e9-4edf-99cc-81f2881e9c87",
   "metadata": {},
   "outputs": [],
   "source": [
    "import os\n",
    "import pandas as pd\n",
    "import matplotlib.pyplot as plt\n",
    "#from pprint import pprint\n",
    "import numpy as np\n",
    "\n",
    "import random\n",
    "#import memory_profiler\n",
    "#import altair as alt\n",
    "#from tqdm import tqdm\n",
    "import datetime\n",
    "\n",
    "#import ipython_memory_usage\n",
    "#%ipython_memory_usage_start\n",
    "\n",
    "from utility import ROOT, TEST_CSV, TRAIN_CSV\n",
    "#df_train_all = pd.read_csv(TRAIN_CSV)\n",
    "#df_train_all = df_train_all.set_index(['stock_id', 'time_id'])"
   ]
  },
  {
   "cell_type": "code",
   "execution_count": 40,
   "id": "5384acc3-01c2-49c9-9d5e-eaeb1153caa5",
   "metadata": {},
   "outputs": [
    {
     "data": {
      "text/plain": [
       "(1507532, 9)"
      ]
     },
     "metadata": {},
     "output_type": "display_data"
    },
    {
     "data": {
      "text/plain": [
       "array([    5,    11,    16, ..., 32758, 32763, 32767])"
      ]
     },
     "execution_count": 40,
     "metadata": {},
     "output_type": "execute_result"
    }
   ],
   "source": [
    "filename = 'book_train.parquet'\n",
    "stock_id = 1\n",
    "assert isinstance(stock_id, int)\n",
    "df_book_train_stock_X = pd.read_parquet(\n",
    "    os.path.join(ROOT, f\"{filename}/stock_id={stock_id}\")\n",
    ")\n",
    "df_book_train_stock_X[\"stock_id\"] = stock_id\n",
    "df_book_train_stock_X = df_book_train_stock_X.set_index(['stock_id', 'time_id'])\n",
    "display(df_book_train_stock_X.shape)\n",
    "df_book_train_stock_X.reset_index().time_id.unique()"
   ]
  },
  {
   "cell_type": "code",
   "execution_count": 88,
   "id": "9fbe849f-31ae-45f7-994f-6f89cb0dacc3",
   "metadata": {},
   "outputs": [
    {
     "name": "stdout",
     "output_type": "stream",
     "text": [
      "<class 'pandas.core.frame.DataFrame'>\n",
      "RangeIndex: 1507532 entries, 0 to 1507531\n",
      "Data columns (total 11 columns):\n",
      " #   Column             Non-Null Count    Dtype  \n",
      "---  ------             --------------    -----  \n",
      " 0   stock_id           1507532 non-null  int64  \n",
      " 1   time_id            1507532 non-null  int64  \n",
      " 2   seconds_in_bucket  1507532 non-null  int16  \n",
      " 3   bid_price1         1507532 non-null  float32\n",
      " 4   ask_price1         1507532 non-null  float32\n",
      " 5   bid_price2         1507532 non-null  float32\n",
      " 6   ask_price2         1507532 non-null  float32\n",
      " 7   bid_size1          1507532 non-null  int32  \n",
      " 8   ask_size1          1507532 non-null  int32  \n",
      " 9   bid_size2          1507532 non-null  int32  \n",
      " 10  ask_size2          1507532 non-null  int32  \n",
      "dtypes: float32(4), int16(1), int32(4), int64(2)\n",
      "memory usage: 71.9 MB\n"
     ]
    }
   ],
   "source": [
    "df_book_train_stock_X.reset_index().info()"
   ]
  },
  {
   "cell_type": "code",
   "execution_count": 42,
   "id": "1d2b8467-3880-46b4-859e-f5a0a22b6189",
   "metadata": {},
   "outputs": [
    {
     "name": "stdout",
     "output_type": "stream",
     "text": [
      "107 ms ± 866 µs per loop (mean ± std. dev. of 7 runs, 10 loops each)\n"
     ]
    }
   ],
   "source": [
    "%timeit df_book_train_stock_X.groupby('time_id').mean()"
   ]
  },
  {
   "cell_type": "code",
   "execution_count": 43,
   "id": "13ffe96d-a392-4a0c-be3f-8ab4f839873c",
   "metadata": {},
   "outputs": [
    {
     "name": "stdout",
     "output_type": "stream",
     "text": [
      "106 ms ± 218 µs per loop (mean ± std. dev. of 7 runs, 10 loops each)\n"
     ]
    }
   ],
   "source": [
    "%timeit df_book_train_stock_X.groupby('time_id').agg('mean')"
   ]
  },
  {
   "cell_type": "code",
   "execution_count": 49,
   "id": "432a4d6f-cbe7-48c2-bb98-daa28c2a9548",
   "metadata": {},
   "outputs": [
    {
     "name": "stdout",
     "output_type": "stream",
     "text": [
      "239 ms ± 7.73 ms per loop (mean ± std. dev. of 7 runs, 1 loop each)\n"
     ]
    }
   ],
   "source": [
    "%timeit df_book_train_stock_X.groupby('time_id').agg('median')"
   ]
  },
  {
   "cell_type": "code",
   "execution_count": 50,
   "id": "f4869416-5f44-4b51-b707-a3081542ad9e",
   "metadata": {},
   "outputs": [
    {
     "name": "stdout",
     "output_type": "stream",
     "text": [
      "84.5 ms ± 443 µs per loop (mean ± std. dev. of 7 runs, 10 loops each)\n"
     ]
    }
   ],
   "source": [
    "%timeit df_book_train_stock_X.groupby('time_id').agg('max')"
   ]
  },
  {
   "cell_type": "code",
   "execution_count": 51,
   "id": "0c5c77d1-63f3-406d-b0e5-6ad5731b333b",
   "metadata": {},
   "outputs": [
    {
     "name": "stdout",
     "output_type": "stream",
     "text": [
      "60.6 ms ± 565 µs per loop (mean ± std. dev. of 7 runs, 10 loops each)\n"
     ]
    }
   ],
   "source": [
    "%timeit df_book_train_stock_X.groupby('time_id').agg('count')"
   ]
  },
  {
   "cell_type": "code",
   "execution_count": 52,
   "id": "052c364b-171b-4774-aada-5247b20e6bd5",
   "metadata": {},
   "outputs": [
    {
     "name": "stdout",
     "output_type": "stream",
     "text": [
      "31.5 ms ± 773 µs per loop (mean ± std. dev. of 7 runs, 10 loops each)\n"
     ]
    }
   ],
   "source": [
    "%timeit df_book_train_stock_X.groupby('time_id').agg('size')"
   ]
  },
  {
   "cell_type": "code",
   "execution_count": 53,
   "id": "d4cfe98f-54db-4c25-aaa7-6caa0176f79e",
   "metadata": {},
   "outputs": [
    {
     "name": "stdout",
     "output_type": "stream",
     "text": [
      "345 ms ± 9.92 ms per loop (mean ± std. dev. of 7 runs, 1 loop each)\n"
     ]
    }
   ],
   "source": [
    "%%timeit\n",
    "res1 = df_book_train_stock_X.groupby('time_id').agg('mean')\n",
    "res2 = df_book_train_stock_X.groupby('time_id').agg('median')\n",
    "pd.concat((res1, res2), axis=1)"
   ]
  },
  {
   "cell_type": "code",
   "execution_count": 54,
   "id": "e6f204eb-1a40-457c-a533-3c3ab1e6785a",
   "metadata": {},
   "outputs": [
    {
     "name": "stdout",
     "output_type": "stream",
     "text": [
      "435 ms ± 27.9 ms per loop (mean ± std. dev. of 7 runs, 1 loop each)\n"
     ]
    }
   ],
   "source": [
    "%timeit df_book_train_stock_X.groupby('time_id').agg(['mean', 'median'])"
   ]
  },
  {
   "cell_type": "code",
   "execution_count": 17,
   "id": "0ab71261-8c11-4ede-a190-758a2be99049",
   "metadata": {},
   "outputs": [
    {
     "name": "stdout",
     "output_type": "stream",
     "text": [
      "429 ms ± 754 µs per loop (mean ± std. dev. of 7 runs, 1 loop each)\n"
     ]
    }
   ],
   "source": [
    "%timeit df_book_train_stock_X.groupby('time_id').agg(['mean', 'median'])"
   ]
  },
  {
   "cell_type": "code",
   "execution_count": 55,
   "id": "202a5279-f5e7-4d81-9b91-a8f5dd42187a",
   "metadata": {},
   "outputs": [
    {
     "data": {
      "text/html": [
       "<div>\n",
       "<style scoped>\n",
       "    .dataframe tbody tr th:only-of-type {\n",
       "        vertical-align: middle;\n",
       "    }\n",
       "\n",
       "    .dataframe tbody tr th {\n",
       "        vertical-align: top;\n",
       "    }\n",
       "\n",
       "    .dataframe thead th {\n",
       "        text-align: right;\n",
       "    }\n",
       "</style>\n",
       "<table border=\"1\" class=\"dataframe\">\n",
       "  <thead>\n",
       "    <tr style=\"text-align: right;\">\n",
       "      <th></th>\n",
       "      <th>stock_id</th>\n",
       "      <th>time_id</th>\n",
       "      <th>seconds_in_bucket</th>\n",
       "      <th>bid_price1</th>\n",
       "      <th>ask_price1</th>\n",
       "      <th>bid_price2</th>\n",
       "      <th>ask_price2</th>\n",
       "      <th>bid_size1</th>\n",
       "      <th>ask_size1</th>\n",
       "      <th>bid_size2</th>\n",
       "      <th>ask_size2</th>\n",
       "    </tr>\n",
       "  </thead>\n",
       "  <tbody>\n",
       "    <tr>\n",
       "      <th>0</th>\n",
       "      <td>1</td>\n",
       "      <td>5</td>\n",
       "      <td>0</td>\n",
       "      <td>1.000754</td>\n",
       "      <td>1.001542</td>\n",
       "      <td>1.000689</td>\n",
       "      <td>1.001607</td>\n",
       "      <td>1</td>\n",
       "      <td>25</td>\n",
       "      <td>25</td>\n",
       "      <td>100</td>\n",
       "    </tr>\n",
       "    <tr>\n",
       "      <th>1</th>\n",
       "      <td>1</td>\n",
       "      <td>5</td>\n",
       "      <td>1</td>\n",
       "      <td>1.000754</td>\n",
       "      <td>1.001673</td>\n",
       "      <td>1.000689</td>\n",
       "      <td>1.001739</td>\n",
       "      <td>26</td>\n",
       "      <td>60</td>\n",
       "      <td>25</td>\n",
       "      <td>100</td>\n",
       "    </tr>\n",
       "  </tbody>\n",
       "</table>\n",
       "</div>"
      ],
      "text/plain": [
       "   stock_id  time_id  seconds_in_bucket  bid_price1  ask_price1  bid_price2  \\\n",
       "0         1        5                  0    1.000754    1.001542    1.000689   \n",
       "1         1        5                  1    1.000754    1.001673    1.000689   \n",
       "\n",
       "   ask_price2  bid_size1  ask_size1  bid_size2  ask_size2  \n",
       "0    1.001607          1         25         25        100  \n",
       "1    1.001739         26         60         25        100  "
      ]
     },
     "execution_count": 55,
     "metadata": {},
     "output_type": "execute_result"
    }
   ],
   "source": [
    "df_book_train_stock_X_noidx = df_book_train_stock_X.reset_index()\n",
    "df_book_train_stock_X_noidx.head(2)"
   ]
  },
  {
   "cell_type": "code",
   "execution_count": 60,
   "id": "b8562c0f-91f5-4a72-abb8-591d57c58373",
   "metadata": {},
   "outputs": [
    {
     "name": "stdout",
     "output_type": "stream",
     "text": [
      "158 ms ± 1.69 ms per loop (mean ± std. dev. of 7 runs, 10 loops each)\n"
     ]
    }
   ],
   "source": [
    "%timeit df_book_train_stock_X_noidx.groupby('time_id').mean()"
   ]
  },
  {
   "cell_type": "code",
   "execution_count": 58,
   "id": "d9aee49c-b9ef-4288-9e8b-9601be95418a",
   "metadata": {},
   "outputs": [
    {
     "data": {
      "text/html": [
       "<div>\n",
       "<style scoped>\n",
       "    .dataframe tbody tr th:only-of-type {\n",
       "        vertical-align: middle;\n",
       "    }\n",
       "\n",
       "    .dataframe tbody tr th {\n",
       "        vertical-align: top;\n",
       "    }\n",
       "\n",
       "    .dataframe thead th {\n",
       "        text-align: right;\n",
       "    }\n",
       "</style>\n",
       "<table border=\"1\" class=\"dataframe\">\n",
       "  <thead>\n",
       "    <tr style=\"text-align: right;\">\n",
       "      <th></th>\n",
       "      <th>stock_id</th>\n",
       "      <th>time_id</th>\n",
       "      <th>seconds_in_bucket</th>\n",
       "      <th>bid_price1</th>\n",
       "      <th>ask_price1</th>\n",
       "      <th>bid_price2</th>\n",
       "      <th>ask_price2</th>\n",
       "      <th>bid_size1</th>\n",
       "      <th>ask_size1</th>\n",
       "      <th>bid_size2</th>\n",
       "      <th>ask_size2</th>\n",
       "      <th>time_id_cat</th>\n",
       "    </tr>\n",
       "  </thead>\n",
       "  <tbody>\n",
       "    <tr>\n",
       "      <th>0</th>\n",
       "      <td>1</td>\n",
       "      <td>5</td>\n",
       "      <td>0</td>\n",
       "      <td>1.000754</td>\n",
       "      <td>1.001542</td>\n",
       "      <td>1.000689</td>\n",
       "      <td>1.001607</td>\n",
       "      <td>1</td>\n",
       "      <td>25</td>\n",
       "      <td>25</td>\n",
       "      <td>100</td>\n",
       "      <td>5</td>\n",
       "    </tr>\n",
       "    <tr>\n",
       "      <th>1</th>\n",
       "      <td>1</td>\n",
       "      <td>5</td>\n",
       "      <td>1</td>\n",
       "      <td>1.000754</td>\n",
       "      <td>1.001673</td>\n",
       "      <td>1.000689</td>\n",
       "      <td>1.001739</td>\n",
       "      <td>26</td>\n",
       "      <td>60</td>\n",
       "      <td>25</td>\n",
       "      <td>100</td>\n",
       "      <td>5</td>\n",
       "    </tr>\n",
       "  </tbody>\n",
       "</table>\n",
       "</div>"
      ],
      "text/plain": [
       "   stock_id  time_id  seconds_in_bucket  bid_price1  ask_price1  bid_price2  \\\n",
       "0         1        5                  0    1.000754    1.001542    1.000689   \n",
       "1         1        5                  1    1.000754    1.001673    1.000689   \n",
       "\n",
       "   ask_price2  bid_size1  ask_size1  bid_size2  ask_size2 time_id_cat  \n",
       "0    1.001607          1         25         25        100           5  \n",
       "1    1.001739         26         60         25        100           5  "
      ]
     },
     "execution_count": 58,
     "metadata": {},
     "output_type": "execute_result"
    }
   ],
   "source": [
    "df_book_train_stock_X_noidx['time_id_cat'] = df_book_train_stock_X_noidx['time_id'].astype('category')\n",
    "df_book_train_stock_X_noidx.head(2)"
   ]
  },
  {
   "cell_type": "code",
   "execution_count": 61,
   "id": "20a4ab4a-5ff6-4dd3-a8ec-b3afc5760427",
   "metadata": {},
   "outputs": [
    {
     "name": "stdout",
     "output_type": "stream",
     "text": [
      "132 ms ± 959 µs per loop (mean ± std. dev. of 7 runs, 10 loops each)\n"
     ]
    }
   ],
   "source": [
    "%timeit df_book_train_stock_X_noidx.groupby('time_id_cat').mean()"
   ]
  },
  {
   "cell_type": "code",
   "execution_count": 68,
   "id": "bc50e521-5c5e-4ab0-9cc8-6fab371d64b0",
   "metadata": {},
   "outputs": [
    {
     "data": {
      "text/html": [
       "<div>\n",
       "<style scoped>\n",
       "    .dataframe tbody tr th:only-of-type {\n",
       "        vertical-align: middle;\n",
       "    }\n",
       "\n",
       "    .dataframe tbody tr th {\n",
       "        vertical-align: top;\n",
       "    }\n",
       "\n",
       "    .dataframe thead th {\n",
       "        text-align: right;\n",
       "    }\n",
       "</style>\n",
       "<table border=\"1\" class=\"dataframe\">\n",
       "  <thead>\n",
       "    <tr style=\"text-align: right;\">\n",
       "      <th></th>\n",
       "      <th></th>\n",
       "      <th>stock_id</th>\n",
       "      <th>time_id</th>\n",
       "      <th>seconds_in_bucket</th>\n",
       "      <th>bid_price1</th>\n",
       "      <th>ask_price1</th>\n",
       "      <th>bid_price2</th>\n",
       "      <th>ask_price2</th>\n",
       "      <th>bid_size1</th>\n",
       "      <th>ask_size1</th>\n",
       "      <th>bid_size2</th>\n",
       "      <th>ask_size2</th>\n",
       "    </tr>\n",
       "    <tr>\n",
       "      <th>stock_id_cat</th>\n",
       "      <th>time_id_cat</th>\n",
       "      <th></th>\n",
       "      <th></th>\n",
       "      <th></th>\n",
       "      <th></th>\n",
       "      <th></th>\n",
       "      <th></th>\n",
       "      <th></th>\n",
       "      <th></th>\n",
       "      <th></th>\n",
       "      <th></th>\n",
       "      <th></th>\n",
       "    </tr>\n",
       "  </thead>\n",
       "  <tbody>\n",
       "    <tr>\n",
       "      <th rowspan=\"2\" valign=\"top\">1</th>\n",
       "      <th>5</th>\n",
       "      <td>1</td>\n",
       "      <td>5</td>\n",
       "      <td>0</td>\n",
       "      <td>1.000754</td>\n",
       "      <td>1.001542</td>\n",
       "      <td>1.000689</td>\n",
       "      <td>1.001607</td>\n",
       "      <td>1</td>\n",
       "      <td>25</td>\n",
       "      <td>25</td>\n",
       "      <td>100</td>\n",
       "    </tr>\n",
       "    <tr>\n",
       "      <th>5</th>\n",
       "      <td>1</td>\n",
       "      <td>5</td>\n",
       "      <td>1</td>\n",
       "      <td>1.000754</td>\n",
       "      <td>1.001673</td>\n",
       "      <td>1.000689</td>\n",
       "      <td>1.001739</td>\n",
       "      <td>26</td>\n",
       "      <td>60</td>\n",
       "      <td>25</td>\n",
       "      <td>100</td>\n",
       "    </tr>\n",
       "  </tbody>\n",
       "</table>\n",
       "</div>"
      ],
      "text/plain": [
       "                          stock_id  time_id  seconds_in_bucket  bid_price1  \\\n",
       "stock_id_cat time_id_cat                                                     \n",
       "1            5                   1        5                  0    1.000754   \n",
       "             5                   1        5                  1    1.000754   \n",
       "\n",
       "                          ask_price1  bid_price2  ask_price2  bid_size1  \\\n",
       "stock_id_cat time_id_cat                                                  \n",
       "1            5              1.001542    1.000689    1.001607          1   \n",
       "             5              1.001673    1.000689    1.001739         26   \n",
       "\n",
       "                          ask_size1  bid_size2  ask_size2  \n",
       "stock_id_cat time_id_cat                                   \n",
       "1            5                   25         25        100  \n",
       "             5                   60         25        100  "
      ]
     },
     "execution_count": 68,
     "metadata": {},
     "output_type": "execute_result"
    }
   ],
   "source": [
    "df_book_train_stock_X_noidx['stock_id_cat'] = df_book_train_stock_X_noidx['stock_id'].astype('category')\n",
    "df_book_train_stock_X_idx_cat = df_book_train_stock_X_noidx.set_index(['stock_id_cat', 'time_id_cat'])\n",
    "df_book_train_stock_X_idx_cat.head(2)"
   ]
  },
  {
   "cell_type": "code",
   "execution_count": 70,
   "id": "79ba5fea-d909-450b-9549-e78961c4020e",
   "metadata": {},
   "outputs": [
    {
     "name": "stdout",
     "output_type": "stream",
     "text": [
      "149 ms ± 598 µs per loop (mean ± std. dev. of 7 runs, 10 loops each)\n"
     ]
    }
   ],
   "source": [
    "%timeit df_book_train_stock_X_idx_cat.groupby('time_id_cat').mean()"
   ]
  },
  {
   "cell_type": "code",
   "execution_count": 71,
   "id": "d4b2d131-acf5-47b3-a433-4b311b50286f",
   "metadata": {},
   "outputs": [],
   "source": [
    "def make_features_stats(df_book, agg_type, cols):\n",
    "    features_var1 = df_book.groupby(['stock_id', 'time_id'])[cols].agg(agg_type)\n",
    "    #print(type(features_var1))\n",
    "    if isinstance(features_var1, pd.Series):\n",
    "        # .size yields a series not a df\n",
    "        #features_var1.name = str(agg_type)\n",
    "        features_var1 = pd.DataFrame(features_var1, columns=[agg_type])\n",
    "        #pass\n",
    "    else:\n",
    "        features_var1_col_names = [f\"{col}_{agg_type}\" for col in cols]\n",
    "        features_var1.columns = features_var1_col_names\n",
    "    return features_var1\n"
   ]
  },
  {
   "cell_type": "code",
   "execution_count": 78,
   "id": "436c59d6-cdbe-4a16-b874-135f4bfffd90",
   "metadata": {},
   "outputs": [
    {
     "data": {
      "text/html": [
       "<div>\n",
       "<style scoped>\n",
       "    .dataframe tbody tr th:only-of-type {\n",
       "        vertical-align: middle;\n",
       "    }\n",
       "\n",
       "    .dataframe tbody tr th {\n",
       "        vertical-align: top;\n",
       "    }\n",
       "\n",
       "    .dataframe thead th {\n",
       "        text-align: right;\n",
       "    }\n",
       "</style>\n",
       "<table border=\"1\" class=\"dataframe\">\n",
       "  <thead>\n",
       "    <tr style=\"text-align: right;\">\n",
       "      <th></th>\n",
       "      <th>seconds_in_bucket</th>\n",
       "      <th>bid_price1</th>\n",
       "      <th>ask_price1</th>\n",
       "      <th>bid_price2</th>\n",
       "      <th>ask_price2</th>\n",
       "      <th>bid_size1</th>\n",
       "      <th>ask_size1</th>\n",
       "      <th>bid_size2</th>\n",
       "      <th>ask_size2</th>\n",
       "    </tr>\n",
       "    <tr>\n",
       "      <th>time_id</th>\n",
       "      <th></th>\n",
       "      <th></th>\n",
       "      <th></th>\n",
       "      <th></th>\n",
       "      <th></th>\n",
       "      <th></th>\n",
       "      <th></th>\n",
       "      <th></th>\n",
       "      <th></th>\n",
       "    </tr>\n",
       "  </thead>\n",
       "  <tbody>\n",
       "    <tr>\n",
       "      <th>5</th>\n",
       "      <td>297.786087</td>\n",
       "      <td>1.003313</td>\n",
       "      <td>1.003980</td>\n",
       "      <td>1.003201</td>\n",
       "      <td>1.004089</td>\n",
       "      <td>62.173913</td>\n",
       "      <td>110.916522</td>\n",
       "      <td>54.212174</td>\n",
       "      <td>60.386087</td>\n",
       "    </tr>\n",
       "    <tr>\n",
       "      <th>11</th>\n",
       "      <td>284.821622</td>\n",
       "      <td>1.001535</td>\n",
       "      <td>1.002020</td>\n",
       "      <td>1.001418</td>\n",
       "      <td>1.002124</td>\n",
       "      <td>75.372973</td>\n",
       "      <td>86.597297</td>\n",
       "      <td>80.445946</td>\n",
       "      <td>83.137838</td>\n",
       "    </tr>\n",
       "    <tr>\n",
       "      <th>16</th>\n",
       "      <td>309.141643</td>\n",
       "      <td>1.000827</td>\n",
       "      <td>1.001112</td>\n",
       "      <td>1.000709</td>\n",
       "      <td>1.001228</td>\n",
       "      <td>162.631728</td>\n",
       "      <td>151.328612</td>\n",
       "      <td>144.645892</td>\n",
       "      <td>167.492918</td>\n",
       "    </tr>\n",
       "    <tr>\n",
       "      <th>31</th>\n",
       "      <td>259.128655</td>\n",
       "      <td>0.997092</td>\n",
       "      <td>0.997864</td>\n",
       "      <td>0.996900</td>\n",
       "      <td>0.998013</td>\n",
       "      <td>99.853801</td>\n",
       "      <td>116.432749</td>\n",
       "      <td>100.514620</td>\n",
       "      <td>103.350877</td>\n",
       "    </tr>\n",
       "    <tr>\n",
       "      <th>62</th>\n",
       "      <td>309.669604</td>\n",
       "      <td>1.000377</td>\n",
       "      <td>1.001110</td>\n",
       "      <td>1.000259</td>\n",
       "      <td>1.001303</td>\n",
       "      <td>62.722467</td>\n",
       "      <td>84.299559</td>\n",
       "      <td>52.114537</td>\n",
       "      <td>77.938326</td>\n",
       "    </tr>\n",
       "    <tr>\n",
       "      <th>...</th>\n",
       "      <td>...</td>\n",
       "      <td>...</td>\n",
       "      <td>...</td>\n",
       "      <td>...</td>\n",
       "      <td>...</td>\n",
       "      <td>...</td>\n",
       "      <td>...</td>\n",
       "      <td>...</td>\n",
       "      <td>...</td>\n",
       "    </tr>\n",
       "    <tr>\n",
       "      <th>32751</th>\n",
       "      <td>281.788274</td>\n",
       "      <td>0.999821</td>\n",
       "      <td>1.000418</td>\n",
       "      <td>0.999663</td>\n",
       "      <td>1.000536</td>\n",
       "      <td>75.732899</td>\n",
       "      <td>59.938111</td>\n",
       "      <td>65.485342</td>\n",
       "      <td>95.029316</td>\n",
       "    </tr>\n",
       "    <tr>\n",
       "      <th>32753</th>\n",
       "      <td>294.089069</td>\n",
       "      <td>1.007074</td>\n",
       "      <td>1.008004</td>\n",
       "      <td>1.006915</td>\n",
       "      <td>1.008130</td>\n",
       "      <td>128.880567</td>\n",
       "      <td>185.609312</td>\n",
       "      <td>85.769231</td>\n",
       "      <td>167.580972</td>\n",
       "    </tr>\n",
       "    <tr>\n",
       "      <th>32758</th>\n",
       "      <td>295.258786</td>\n",
       "      <td>1.000424</td>\n",
       "      <td>1.001073</td>\n",
       "      <td>1.000284</td>\n",
       "      <td>1.001204</td>\n",
       "      <td>124.284345</td>\n",
       "      <td>71.469649</td>\n",
       "      <td>142.022364</td>\n",
       "      <td>88.827476</td>\n",
       "    </tr>\n",
       "    <tr>\n",
       "      <th>32763</th>\n",
       "      <td>304.142857</td>\n",
       "      <td>1.002842</td>\n",
       "      <td>1.003265</td>\n",
       "      <td>1.002653</td>\n",
       "      <td>1.003496</td>\n",
       "      <td>128.511521</td>\n",
       "      <td>150.059908</td>\n",
       "      <td>115.451613</td>\n",
       "      <td>132.294931</td>\n",
       "    </tr>\n",
       "    <tr>\n",
       "      <th>32767</th>\n",
       "      <td>302.131148</td>\n",
       "      <td>0.999934</td>\n",
       "      <td>1.000215</td>\n",
       "      <td>0.999813</td>\n",
       "      <td>1.000336</td>\n",
       "      <td>177.613115</td>\n",
       "      <td>194.800000</td>\n",
       "      <td>155.180328</td>\n",
       "      <td>185.944262</td>\n",
       "    </tr>\n",
       "  </tbody>\n",
       "</table>\n",
       "<p>3830 rows × 9 columns</p>\n",
       "</div>"
      ],
      "text/plain": [
       "         seconds_in_bucket  bid_price1  ask_price1  bid_price2  ask_price2  \\\n",
       "time_id                                                                      \n",
       "5               297.786087    1.003313    1.003980    1.003201    1.004089   \n",
       "11              284.821622    1.001535    1.002020    1.001418    1.002124   \n",
       "16              309.141643    1.000827    1.001112    1.000709    1.001228   \n",
       "31              259.128655    0.997092    0.997864    0.996900    0.998013   \n",
       "62              309.669604    1.000377    1.001110    1.000259    1.001303   \n",
       "...                    ...         ...         ...         ...         ...   \n",
       "32751           281.788274    0.999821    1.000418    0.999663    1.000536   \n",
       "32753           294.089069    1.007074    1.008004    1.006915    1.008130   \n",
       "32758           295.258786    1.000424    1.001073    1.000284    1.001204   \n",
       "32763           304.142857    1.002842    1.003265    1.002653    1.003496   \n",
       "32767           302.131148    0.999934    1.000215    0.999813    1.000336   \n",
       "\n",
       "          bid_size1   ask_size1   bid_size2   ask_size2  \n",
       "time_id                                                  \n",
       "5         62.173913  110.916522   54.212174   60.386087  \n",
       "11        75.372973   86.597297   80.445946   83.137838  \n",
       "16       162.631728  151.328612  144.645892  167.492918  \n",
       "31        99.853801  116.432749  100.514620  103.350877  \n",
       "62        62.722467   84.299559   52.114537   77.938326  \n",
       "...             ...         ...         ...         ...  \n",
       "32751     75.732899   59.938111   65.485342   95.029316  \n",
       "32753    128.880567  185.609312   85.769231  167.580972  \n",
       "32758    124.284345   71.469649  142.022364   88.827476  \n",
       "32763    128.511521  150.059908  115.451613  132.294931  \n",
       "32767    177.613115  194.800000  155.180328  185.944262  \n",
       "\n",
       "[3830 rows x 9 columns]"
      ]
     },
     "execution_count": 78,
     "metadata": {},
     "output_type": "execute_result"
    }
   ],
   "source": [
    "df_book_train_stock_X.groupby('time_id').mean()"
   ]
  },
  {
   "cell_type": "code",
   "execution_count": 90,
   "id": "6ba20902-83f6-4c48-bd27-40763e57212c",
   "metadata": {},
   "outputs": [
    {
     "name": "stdout",
     "output_type": "stream",
     "text": [
      "202 ms ± 3.66 ms per loop (mean ± std. dev. of 7 runs, 1 loop each)\n"
     ]
    }
   ],
   "source": [
    "%timeit make_features_stats(df_book_train_stock_X, 'mean', df_book_train_stock_X.columns.values)"
   ]
  },
  {
   "cell_type": "code",
   "execution_count": null,
   "id": "93b3564d-f160-4af4-8f6d-be0009075e41",
   "metadata": {},
   "outputs": [],
   "source": []
  }
 ],
 "metadata": {
  "kernelspec": {
   "display_name": "Python 3 (ipykernel)",
   "language": "python",
   "name": "python3"
  },
  "language_info": {
   "codemirror_mode": {
    "name": "ipython",
    "version": 3
   },
   "file_extension": ".py",
   "mimetype": "text/x-python",
   "name": "python",
   "nbconvert_exporter": "python",
   "pygments_lexer": "ipython3",
   "version": "3.8.10"
  }
 },
 "nbformat": 4,
 "nbformat_minor": 5
}
