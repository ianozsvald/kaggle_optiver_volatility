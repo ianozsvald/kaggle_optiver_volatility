{
 "cells": [
  {
   "cell_type": "code",
   "execution_count": 65,
   "id": "c8b07f27-26af-4f9f-a474-4f4ed0a155a1",
   "metadata": {},
   "outputs": [
    {
     "name": "stdout",
     "output_type": "stream",
     "text": [
      "ENV_HOME: True, TEST_SIZE 0.25, USE_ALL_STOCK_IDS True, USE_TEST_LOCAL_6_ITEMS True\n",
      "NBR_FOR_SUBSET_OF_STOCK_IDS: None\n",
      "In [65] used 0.4375 MiB RAM in 0.10s, peaked 0.00 MiB above current, total RAM usage 6310.03 MiB\n"
     ]
    }
   ],
   "source": [
    "import os\n",
    "import pandas as pd\n",
    "import matplotlib.pyplot as plt\n",
    "from pprint import pprint\n",
    "import numpy as np\n",
    "\n",
    "from numpy.random import default_rng\n",
    "RANDOM_STATE = 2 # random state for default_rng\n",
    "rng = default_rng(RANDOM_STATE)\n",
    "\n",
    "\n",
    "import random\n",
    "#import memory_profiler\n",
    "import altair as alt\n",
    "from tqdm import tqdm\n",
    "import datetime\n",
    "\n",
    "# CHECKLIST for Kaggle variant\n",
    "# USE_ALL_STOCK_IDS False to check then True\n",
    "# USE_TEST_LOCAL_6_ITEMS must be False else we override the locl test data\n",
    "# TEST_SIZE must be 0 to get all items\n",
    "# Check on Kaggle that \"internet\" is disabled\n",
    "\n",
    "t1_notebook_start = datetime.datetime.utcnow()\n",
    "\n",
    "if os.environ.get('USER') == 'ian':\n",
    "    ENV_HOME = True\n",
    "    import ipython_memory_usage\n",
    "    %ipython_memory_usage_start\n",
    "    USE_ALL_STOCK_IDS = True\n",
    "    NBR_FOR_SUBSET_OF_STOCK_IDS = 4\n",
    "    TEST_SIZE = 0.25\n",
    "    USE_TEST_LOCAL_6_ITEMS = True # robust local testing at home\n",
    "    #USE_TEST_LOCAL_6_ITEMS = False # robust local testing at home TEMPORARY WHILST DEBUGGING\n",
    "else:\n",
    "    ENV_HOME = False\n",
    "    USE_ALL_STOCK_IDS = False # for KAGGLE on first-upload for a quick test\n",
    "    TEST_SIZE = 0\n",
    "    USE_TEST_LOCAL_6_ITEMS = False\n",
    "    # kaggle notes:\n",
    "    # You can write up to 20GB to the current directory (/kaggle/working/) that gets preserved as output when you create a version using \"Save & Run All\" \n",
    "    # You can also write temporary files to /kaggle/temp/, but they won't be saved outside of the current session\n",
    "\n",
    "\n",
    "if USE_ALL_STOCK_IDS:\n",
    "    NBR_FOR_SUBSET_OF_STOCK_IDS=None\n",
    "print(f'ENV_HOME: {ENV_HOME}, TEST_SIZE {TEST_SIZE}, USE_ALL_STOCK_IDS {USE_ALL_STOCK_IDS}, USE_TEST_LOCAL_6_ITEMS {USE_TEST_LOCAL_6_ITEMS}')\n",
    "print(f'NBR_FOR_SUBSET_OF_STOCK_IDS: {NBR_FOR_SUBSET_OF_STOCK_IDS}')"
   ]
  },
  {
   "cell_type": "code",
   "execution_count": 2,
   "id": "a686d343-962d-45ab-90d1-cfeaf5a310c5",
   "metadata": {},
   "outputs": [
    {
     "name": "stdout",
     "output_type": "stream",
     "text": [
      "Utility says ROOT is /home/ian/data/kaggle/optiver_volatility/\n",
      "In [2] used 0.0000 MiB RAM in 0.10s, peaked 0.00 MiB above current, total RAM usage 134.04 MiB\n"
     ]
    }
   ],
   "source": [
    "# OR PASTE IN UTILITY CODE HERE FOR KAGGLE\n",
    "from utility import make_unique_time_ids, get_training_stock_ids\n",
    "from utility import ROOT, TEST_CSV, TRAIN_CSV"
   ]
  },
  {
   "cell_type": "markdown",
   "id": "d5bebae2-9f9f-44b4-ac8a-6681b4866674",
   "metadata": {},
   "source": [
    "## Load train set"
   ]
  },
  {
   "cell_type": "code",
   "execution_count": 3,
   "id": "f31ca1bb-a43b-4847-b3d7-dde9ecb027be",
   "metadata": {},
   "outputs": [
    {
     "name": "stdout",
     "output_type": "stream",
     "text": [
      "Using all\n"
     ]
    },
    {
     "data": {
      "text/plain": [
       "[59, 58, 23]"
      ]
     },
     "execution_count": 3,
     "metadata": {},
     "output_type": "execute_result"
    },
    {
     "name": "stdout",
     "output_type": "stream",
     "text": [
      "In [3] used 0.4141 MiB RAM in 0.11s, peaked 0.00 MiB above current, total RAM usage 134.45 MiB\n"
     ]
    }
   ],
   "source": [
    "stock_ids = get_training_stock_ids('book_train.parquet') # all stocks by default\n",
    "\n",
    "if not USE_ALL_STOCK_IDS:\n",
    "    # choose a random subset\n",
    "    print(f\"Using a subset of {NBR_FOR_SUBSET_OF_STOCK_IDS}\")\n",
    "    rng.shuffle(stock_ids)\n",
    "    #random.shuffle(stock_ids)\n",
    "    stock_ids = stock_ids[:NBR_FOR_SUBSET_OF_STOCK_IDS]\n",
    "else:\n",
    "    print(\"Using all\")\n",
    "stock_ids[:3] # expect 59, 58, 23 if we're using all or 76, 73, 0 on the RANDOM_STATE of 1 if we don't use all stock ids"
   ]
  },
  {
   "cell_type": "code",
   "execution_count": 4,
   "id": "333d41e0-407c-4ffe-ab6e-f6a3e0550e55",
   "metadata": {},
   "outputs": [
    {
     "name": "stdout",
     "output_type": "stream",
     "text": [
      "(428932, 1)\n",
      "In [4] used 22.4961 MiB RAM in 0.28s, peaked 5.48 MiB above current, total RAM usage 156.95 MiB\n"
     ]
    }
   ],
   "source": [
    "df_train_all = pd.read_csv(TRAIN_CSV)\n",
    "df_train_all = df_train_all.set_index(['stock_id', 'time_id'])\n",
    "print(df_train_all.shape)\n",
    "#rows_for_stock_id_0 = df_train_all.query('stock_id == 0').shape[0]\n",
    "#rows_for_stock_id_0"
   ]
  },
  {
   "cell_type": "code",
   "execution_count": 5,
   "id": "b852854c-236e-453e-9ae6-d598cf6d5652",
   "metadata": {},
   "outputs": [
    {
     "name": "stdout",
     "output_type": "stream",
     "text": [
      "[2c] 428,932x1, 0 nulls, is_view True, is_single_block True, is_consolidated True\n",
      "In [5] used 0.0039 MiB RAM in 0.11s, peaked 0.00 MiB above current, total RAM usage 156.95 MiB\n"
     ]
    }
   ],
   "source": [
    "def show_details(df):\n",
    "    try:\n",
    "        nbr_index_levels = len(df.index.levels)\n",
    "    except AttributeError:\n",
    "        nbr_index_levels = 1\n",
    "    nbr_nulls = df.isnull().sum().sum()\n",
    "    #nulls_msg = \"Has no nulls\"\n",
    "    #if nbr_nulls==0:\n",
    "    nulls_msg = f\"{nbr_nulls} nulls\"\n",
    "    is_view_msg = f'is_view {df_train_all._data.is_view}'\n",
    "    is_single_block_msg = f'is_single_block {df_train_all._data.is_single_block}'\n",
    "    is_consolidated_msg = f'is_consolidated {df_train_all._data.is_consolidated()}'    \n",
    "    print(f'[{nbr_index_levels}c] {df.shape[0]:,}x{df.shape[1]:,}, {nulls_msg}, {is_view_msg}, {is_single_block_msg}, {is_consolidated_msg}')\n",
    "\n",
    "show_details(df_train_all)"
   ]
  },
  {
   "cell_type": "code",
   "execution_count": 6,
   "id": "350685ba-87de-4df2-ae72-a8bc0105de27",
   "metadata": {},
   "outputs": [
    {
     "name": "stdout",
     "output_type": "stream",
     "text": [
      "We have 3,830 time ids\n",
      "Taking 2,872 for train and 958 for test\n",
      "Example time ids for training, min first: [5, 11, 16, 31, 62]\n",
      "In [6] used -6.3281 MiB RAM in 0.14s, peaked 6.33 MiB above current, total RAM usage 150.62 MiB\n"
     ]
    }
   ],
   "source": [
    "all_time_ids = df_train_all.reset_index().time_id.unique()\n",
    "#np.random.shuffle(all_time_ids) # shuffle the time_ids\n",
    "rng.shuffle(all_time_ids)\n",
    "print(f\"We have {len(all_time_ids):,} time ids\")\n",
    "time_ids_train, time_ids_test = make_unique_time_ids(all_time_ids, test_size=TEST_SIZE)\n",
    "assert len(time_ids_train) + len(time_ids_test) == len(all_time_ids)\n",
    "assert len(time_ids_train.intersection(time_ids_test)) == 0, \"Expecting no overlap between train and test time ids\"\n",
    "print(f\"Example time ids for training, min first: {sorted(list(time_ids_train))[:5]}\")"
   ]
  },
  {
   "cell_type": "code",
   "execution_count": 7,
   "id": "079f3c35-eda1-43c1-bcc5-6c9d60ff5ce1",
   "metadata": {},
   "outputs": [
    {
     "name": "stdout",
     "output_type": "stream",
     "text": [
      "In [7] used 0.0000 MiB RAM in 0.10s, peaked 0.00 MiB above current, total RAM usage 150.62 MiB\n"
     ]
    }
   ],
   "source": [
    "# make feature columns\n",
    "def make_features_stats(df_book, agg_type, cols):\n",
    "    features_var1 = df_book.groupby(['stock_id', 'time_id'])[cols].agg(agg_type)\n",
    "    if isinstance(features_var1, pd.Series):\n",
    "        # .size yields a series not a df\n",
    "        #features_var1.name = str(agg_type)\n",
    "        features_var1 = pd.DataFrame(features_var1, columns=[agg_type])\n",
    "    else:\n",
    "        features_var1_col_names = [f\"{col}_{agg_type}\" for col in cols]\n",
    "        features_var1.columns = features_var1_col_names\n",
    "    return features_var1"
   ]
  },
  {
   "cell_type": "code",
   "execution_count": 8,
   "id": "b3bfc334-1eb5-4323-bd2c-69cb5691a8f3",
   "metadata": {},
   "outputs": [
    {
     "name": "stdout",
     "output_type": "stream",
     "text": [
      "In [8] used 0.0195 MiB RAM in 0.10s, peaked 0.00 MiB above current, total RAM usage 150.64 MiB\n"
     ]
    }
   ],
   "source": [
    "def log_return(list_stock_prices):\n",
    "    return np.log(list_stock_prices).diff()\n",
    "\n",
    "def realized_volatility(series_log_return):\n",
    "    return np.sqrt(np.sum(series_log_return**2))"
   ]
  },
  {
   "cell_type": "code",
   "execution_count": 66,
   "id": "4d7cc64c-600a-4769-af60-95df012f728d",
   "metadata": {},
   "outputs": [
    {
     "name": "stdout",
     "output_type": "stream",
     "text": [
      "In [66] used 0.0000 MiB RAM in 0.10s, peaked 0.00 MiB above current, total RAM usage 6310.03 MiB\n"
     ]
    }
   ],
   "source": [
    "def realized_volatility_weighted(series_log_return, weights=None):\n",
    "    \"\"\"Weighted volatility\"\"\"\n",
    "    ser = series_log_return\n",
    "    if weights is None:\n",
    "        weights = np.ones(ser.shape[0])\n",
    "    elif weights == 'linear':\n",
    "        weights = np.linspace(0.1, 1, series_log_return.shape[0]) # linear increasing weight\n",
    "    ser_weighted = ser * weights\n",
    "    return np.sqrt(np.sum(ser_weighted**2))\n",
    "\n",
    "if False:\n",
    "    # example usage\n",
    "    series_log_return = np.linspace(0, 10, 6)\n",
    "    weights = np.linspace(0.1, 1, series_log_return.shape[0]) # linear increasing weight\n",
    "\n",
    "    half_way = int(series_log_return.shape[0] / 2)\n",
    "    weights = np.concatenate((np.zeros(half_way), np.ones(series_log_return.shape[0] - half_way))) # 0s then 1s weight\n",
    "\n",
    "    weights = np.ones(series_log_return.shape[0]) # use all items equally\n",
    "    assert weights.shape[0] == series_log_return.shape[0]\n",
    "    realized_volatility_weighted(series_log_return, weights)"
   ]
  },
  {
   "cell_type": "code",
   "execution_count": 67,
   "id": "9d530b07-9a93-4b78-bcb6-7cf4a4fbcbc4",
   "metadata": {},
   "outputs": [
    {
     "name": "stdout",
     "output_type": "stream",
     "text": [
      "In [67] used 0.0000 MiB RAM in 0.10s, peaked 0.00 MiB above current, total RAM usage 6310.03 MiB\n"
     ]
    }
   ],
   "source": [
    "def make_wap(df_book_data, num=1):\n",
    "    \"\"\"Modifies df_book_data\"\"\"\n",
    "    assert num==1 or num==2\n",
    "    wap_numerator = (df_book_data[f'bid_price{num}'] * df_book_data[f'ask_size{num}'] +\n",
    "                                     df_book_data[f'ask_price{num}'] * df_book_data[f'bid_size{num}'])\n",
    "    wap_denominator = df_book_data[f'bid_size{num}'] + df_book_data[f'ask_size{num}']\n",
    "    df_book_data['wap'] = wap_numerator / wap_denominator\n",
    "\n",
    "def make_realized_volatility(df_book_data, log_return_name='log_return', weights=None):\n",
    "    df_book_data[log_return_name] = df_book_data.groupby(['stock_id', 'time_id'])['wap'].apply(log_return)\n",
    "    df_book_data = df_book_data[~df_book_data[log_return_name].isnull()]\n",
    "    df_realized_vol_per_stock =  pd.DataFrame(df_book_data.groupby(['stock_id', 'time_id'])[log_return_name].agg(realized_volatility_weighted, weights))\n",
    "    return df_realized_vol_per_stock"
   ]
  },
  {
   "cell_type": "code",
   "execution_count": 68,
   "id": "9078f53d-d206-4977-8ea6-e450ca8e3e75",
   "metadata": {},
   "outputs": [
    {
     "data": {
      "text/html": [
       "<div>\n",
       "<style scoped>\n",
       "    .dataframe tbody tr th:only-of-type {\n",
       "        vertical-align: middle;\n",
       "    }\n",
       "\n",
       "    .dataframe tbody tr th {\n",
       "        vertical-align: top;\n",
       "    }\n",
       "\n",
       "    .dataframe thead th {\n",
       "        text-align: right;\n",
       "    }\n",
       "</style>\n",
       "<table border=\"1\" class=\"dataframe\">\n",
       "  <thead>\n",
       "    <tr style=\"text-align: right;\">\n",
       "      <th></th>\n",
       "      <th></th>\n",
       "      <th>log_return2</th>\n",
       "    </tr>\n",
       "    <tr>\n",
       "      <th>stock_id</th>\n",
       "      <th>time_id</th>\n",
       "      <th></th>\n",
       "    </tr>\n",
       "  </thead>\n",
       "  <tbody>\n",
       "    <tr>\n",
       "      <th rowspan=\"11\" valign=\"top\">0</th>\n",
       "      <th>5</th>\n",
       "      <td>0.004500</td>\n",
       "    </tr>\n",
       "    <tr>\n",
       "      <th>11</th>\n",
       "      <td>0.001749</td>\n",
       "    </tr>\n",
       "    <tr>\n",
       "      <th>16</th>\n",
       "      <td>0.003284</td>\n",
       "    </tr>\n",
       "    <tr>\n",
       "      <th>31</th>\n",
       "      <td>0.002465</td>\n",
       "    </tr>\n",
       "    <tr>\n",
       "      <th>62</th>\n",
       "      <td>0.001806</td>\n",
       "    </tr>\n",
       "    <tr>\n",
       "      <th>...</th>\n",
       "      <td>...</td>\n",
       "    </tr>\n",
       "    <tr>\n",
       "      <th>32751</th>\n",
       "      <td>0.002343</td>\n",
       "    </tr>\n",
       "    <tr>\n",
       "      <th>32753</th>\n",
       "      <td>0.001905</td>\n",
       "    </tr>\n",
       "    <tr>\n",
       "      <th>32758</th>\n",
       "      <td>0.002118</td>\n",
       "    </tr>\n",
       "    <tr>\n",
       "      <th>32763</th>\n",
       "      <td>0.003160</td>\n",
       "    </tr>\n",
       "    <tr>\n",
       "      <th>32767</th>\n",
       "      <td>0.001316</td>\n",
       "    </tr>\n",
       "  </tbody>\n",
       "</table>\n",
       "<p>3830 rows × 1 columns</p>\n",
       "</div>"
      ],
      "text/plain": [
       "                  log_return2\n",
       "stock_id time_id             \n",
       "0        5           0.004500\n",
       "         11          0.001749\n",
       "         16          0.003284\n",
       "         31          0.002465\n",
       "         62          0.001806\n",
       "...                       ...\n",
       "         32751       0.002343\n",
       "         32753       0.001905\n",
       "         32758       0.002118\n",
       "         32763       0.003160\n",
       "         32767       0.001316\n",
       "\n",
       "[3830 rows x 1 columns]"
      ]
     },
     "metadata": {},
     "output_type": "display_data"
    },
    {
     "name": "stdout",
     "output_type": "stream",
     "text": [
      "In [68] used 29.1602 MiB RAM in 3.65s, peaked 73.44 MiB above current, total RAM usage 6339.19 MiB\n"
     ]
    }
   ],
   "source": [
    "if True: # lightweight tests\n",
    "    df_book_train_stock_XX = pd.read_parquet(os.path.join(ROOT, f\"book_train.parquet/stock_id=0\"))\n",
    "    df_book_train_stock_XX[\"stock_id\"] = 0\n",
    "    df_book_train_stock_XX = df_book_train_stock_XX.set_index(['stock_id', 'time_id'])\n",
    "    make_wap(df_book_train_stock_XX, 2) # adds 'wap' column\n",
    "    df_realized_vol_per_stockXX = make_realized_volatility(df_book_train_stock_XX, log_return_name=\"log_return2\", weights='linear')\n",
    "    display(df_realized_vol_per_stockXX)"
   ]
  },
  {
   "cell_type": "code",
   "execution_count": 42,
   "id": "730f2f79-1acc-4f3e-bb36-c4990ac74cd6",
   "metadata": {},
   "outputs": [
    {
     "name": "stdout",
     "output_type": "stream",
     "text": [
      "Iterating over 112 stocks:\n"
     ]
    },
    {
     "name": "stderr",
     "output_type": "stream",
     "text": [
      "/tmp/ipykernel_721316/1151768668.py:6: FutureWarning: elementwise comparison failed; returning scalar instead, but in the future will perform elementwise comparison\n",
      "  if weights == 'linear':\n"
     ]
    },
    {
     "data": {
      "text/html": [
       "<div>\n",
       "<style scoped>\n",
       "    .dataframe tbody tr th:only-of-type {\n",
       "        vertical-align: middle;\n",
       "    }\n",
       "\n",
       "    .dataframe tbody tr th {\n",
       "        vertical-align: top;\n",
       "    }\n",
       "\n",
       "    .dataframe thead th {\n",
       "        text-align: right;\n",
       "    }\n",
       "</style>\n",
       "<table border=\"1\" class=\"dataframe\">\n",
       "  <thead>\n",
       "    <tr style=\"text-align: right;\">\n",
       "      <th></th>\n",
       "      <th></th>\n",
       "      <th>target</th>\n",
       "      <th>bid_price1_var</th>\n",
       "      <th>ask_price1_var</th>\n",
       "      <th>bid_price2_var</th>\n",
       "      <th>ask_price2_var</th>\n",
       "      <th>bid_size1_var</th>\n",
       "      <th>ask_size1_var</th>\n",
       "      <th>bid_size2_var</th>\n",
       "      <th>ask_size2_var</th>\n",
       "      <th>bid_price1_mean</th>\n",
       "      <th>...</th>\n",
       "      <th>bid_price2_mean</th>\n",
       "      <th>ask_price2_mean</th>\n",
       "      <th>bid_size1_mean</th>\n",
       "      <th>ask_size1_mean</th>\n",
       "      <th>bid_size2_mean</th>\n",
       "      <th>ask_size2_mean</th>\n",
       "      <th>size</th>\n",
       "      <th>log_return1</th>\n",
       "      <th>log_return2</th>\n",
       "      <th>log_return1_linear_weight</th>\n",
       "    </tr>\n",
       "    <tr>\n",
       "      <th>stock_id</th>\n",
       "      <th>time_id</th>\n",
       "      <th></th>\n",
       "      <th></th>\n",
       "      <th></th>\n",
       "      <th></th>\n",
       "      <th></th>\n",
       "      <th></th>\n",
       "      <th></th>\n",
       "      <th></th>\n",
       "      <th></th>\n",
       "      <th></th>\n",
       "      <th></th>\n",
       "      <th></th>\n",
       "      <th></th>\n",
       "      <th></th>\n",
       "      <th></th>\n",
       "      <th></th>\n",
       "      <th></th>\n",
       "      <th></th>\n",
       "      <th></th>\n",
       "      <th></th>\n",
       "      <th></th>\n",
       "    </tr>\n",
       "  </thead>\n",
       "  <tbody>\n",
       "    <tr>\n",
       "      <th rowspan=\"11\" valign=\"top\">0</th>\n",
       "      <th>5</th>\n",
       "      <td>0.004136</td>\n",
       "      <td>3.557702e-07</td>\n",
       "      <td>3.609267e-07</td>\n",
       "      <td>3.278967e-07</td>\n",
       "      <td>3.649655e-07</td>\n",
       "      <td>6592.215309</td>\n",
       "      <td>4338.669743</td>\n",
       "      <td>7348.756507</td>\n",
       "      <td>5184.163572</td>\n",
       "      <td>1.003314</td>\n",
       "      <td>...</td>\n",
       "      <td>1.003139</td>\n",
       "      <td>1.004320</td>\n",
       "      <td>78.264901</td>\n",
       "      <td>74.579470</td>\n",
       "      <td>80.880795</td>\n",
       "      <td>89.771523</td>\n",
       "      <td>302</td>\n",
       "      <td>0.004499</td>\n",
       "      <td>0.006999</td>\n",
       "      <td>0.002517</td>\n",
       "    </tr>\n",
       "    <tr>\n",
       "      <th>11</th>\n",
       "      <td>0.001445</td>\n",
       "      <td>8.048454e-08</td>\n",
       "      <td>4.782809e-08</td>\n",
       "      <td>5.987733e-08</td>\n",
       "      <td>4.715270e-08</td>\n",
       "      <td>15492.325402</td>\n",
       "      <td>9691.320578</td>\n",
       "      <td>8465.001985</td>\n",
       "      <td>7875.531633</td>\n",
       "      <td>1.000011</td>\n",
       "      <td>...</td>\n",
       "      <td>0.999870</td>\n",
       "      <td>1.000541</td>\n",
       "      <td>149.965000</td>\n",
       "      <td>71.145000</td>\n",
       "      <td>95.445000</td>\n",
       "      <td>94.895000</td>\n",
       "      <td>200</td>\n",
       "      <td>0.001204</td>\n",
       "      <td>0.002476</td>\n",
       "      <td>0.000904</td>\n",
       "    </tr>\n",
       "    <tr>\n",
       "      <th>16</th>\n",
       "      <td>0.002168</td>\n",
       "      <td>5.057495e-07</td>\n",
       "      <td>6.204843e-07</td>\n",
       "      <td>5.307066e-07</td>\n",
       "      <td>6.152997e-07</td>\n",
       "      <td>4978.115912</td>\n",
       "      <td>9259.747269</td>\n",
       "      <td>5674.860251</td>\n",
       "      <td>4586.227415</td>\n",
       "      <td>0.999204</td>\n",
       "      <td>...</td>\n",
       "      <td>0.999007</td>\n",
       "      <td>1.000127</td>\n",
       "      <td>96.132979</td>\n",
       "      <td>131.037234</td>\n",
       "      <td>114.526596</td>\n",
       "      <td>74.654255</td>\n",
       "      <td>188</td>\n",
       "      <td>0.002369</td>\n",
       "      <td>0.004801</td>\n",
       "      <td>0.001504</td>\n",
       "    </tr>\n",
       "    <tr>\n",
       "      <th>31</th>\n",
       "      <td>0.002195</td>\n",
       "      <td>4.746649e-07</td>\n",
       "      <td>3.223060e-07</td>\n",
       "      <td>5.349445e-07</td>\n",
       "      <td>3.222207e-07</td>\n",
       "      <td>8093.880602</td>\n",
       "      <td>10996.043697</td>\n",
       "      <td>5778.103922</td>\n",
       "      <td>6483.167437</td>\n",
       "      <td>0.998445</td>\n",
       "      <td>...</td>\n",
       "      <td>0.998255</td>\n",
       "      <td>0.999413</td>\n",
       "      <td>114.458333</td>\n",
       "      <td>120.800000</td>\n",
       "      <td>68.783333</td>\n",
       "      <td>131.225000</td>\n",
       "      <td>120</td>\n",
       "      <td>0.002574</td>\n",
       "      <td>0.003637</td>\n",
       "      <td>0.001665</td>\n",
       "    </tr>\n",
       "    <tr>\n",
       "      <th>62</th>\n",
       "      <td>0.001747</td>\n",
       "      <td>4.740689e-08</td>\n",
       "      <td>3.653909e-08</td>\n",
       "      <td>5.247379e-08</td>\n",
       "      <td>3.838027e-08</td>\n",
       "      <td>9499.414513</td>\n",
       "      <td>9603.210909</td>\n",
       "      <td>7059.243117</td>\n",
       "      <td>4527.422208</td>\n",
       "      <td>0.999407</td>\n",
       "      <td>...</td>\n",
       "      <td>0.999216</td>\n",
       "      <td>0.999913</td>\n",
       "      <td>119.823864</td>\n",
       "      <td>88.477273</td>\n",
       "      <td>87.840909</td>\n",
       "      <td>47.079545</td>\n",
       "      <td>176</td>\n",
       "      <td>0.001894</td>\n",
       "      <td>0.003257</td>\n",
       "      <td>0.001402</td>\n",
       "    </tr>\n",
       "    <tr>\n",
       "      <th>...</th>\n",
       "      <td>...</td>\n",
       "      <td>...</td>\n",
       "      <td>...</td>\n",
       "      <td>...</td>\n",
       "      <td>...</td>\n",
       "      <td>...</td>\n",
       "      <td>...</td>\n",
       "      <td>...</td>\n",
       "      <td>...</td>\n",
       "      <td>...</td>\n",
       "      <td>...</td>\n",
       "      <td>...</td>\n",
       "      <td>...</td>\n",
       "      <td>...</td>\n",
       "      <td>...</td>\n",
       "      <td>...</td>\n",
       "      <td>...</td>\n",
       "      <td>...</td>\n",
       "      <td>...</td>\n",
       "      <td>...</td>\n",
       "      <td>...</td>\n",
       "    </tr>\n",
       "    <tr>\n",
       "      <th>32751</th>\n",
       "      <td>0.002611</td>\n",
       "      <td>3.989057e-07</td>\n",
       "      <td>5.059281e-07</td>\n",
       "      <td>3.846314e-07</td>\n",
       "      <td>4.818288e-07</td>\n",
       "      <td>9490.991605</td>\n",
       "      <td>10394.996610</td>\n",
       "      <td>4828.041246</td>\n",
       "      <td>9333.874374</td>\n",
       "      <td>0.997639</td>\n",
       "      <td>...</td>\n",
       "      <td>0.997556</td>\n",
       "      <td>0.998372</td>\n",
       "      <td>110.929293</td>\n",
       "      <td>87.632997</td>\n",
       "      <td>61.488215</td>\n",
       "      <td>114.185185</td>\n",
       "      <td>297</td>\n",
       "      <td>0.002579</td>\n",
       "      <td>0.003821</td>\n",
       "      <td>0.001525</td>\n",
       "    </tr>\n",
       "    <tr>\n",
       "      <th>32753</th>\n",
       "      <td>0.001190</td>\n",
       "      <td>1.837252e-07</td>\n",
       "      <td>2.433933e-07</td>\n",
       "      <td>2.033434e-07</td>\n",
       "      <td>2.618266e-07</td>\n",
       "      <td>28270.493701</td>\n",
       "      <td>20407.077646</td>\n",
       "      <td>15863.063249</td>\n",
       "      <td>10575.195643</td>\n",
       "      <td>1.000141</td>\n",
       "      <td>...</td>\n",
       "      <td>1.000049</td>\n",
       "      <td>1.000856</td>\n",
       "      <td>113.325243</td>\n",
       "      <td>228.140777</td>\n",
       "      <td>157.121359</td>\n",
       "      <td>122.543689</td>\n",
       "      <td>206</td>\n",
       "      <td>0.002206</td>\n",
       "      <td>0.002847</td>\n",
       "      <td>0.001252</td>\n",
       "    </tr>\n",
       "    <tr>\n",
       "      <th>32758</th>\n",
       "      <td>0.004264</td>\n",
       "      <td>5.668076e-07</td>\n",
       "      <td>4.536424e-07</td>\n",
       "      <td>6.043470e-07</td>\n",
       "      <td>4.448702e-07</td>\n",
       "      <td>6587.428917</td>\n",
       "      <td>7851.263511</td>\n",
       "      <td>2219.748436</td>\n",
       "      <td>5428.886648</td>\n",
       "      <td>0.999334</td>\n",
       "      <td>...</td>\n",
       "      <td>0.999131</td>\n",
       "      <td>0.999941</td>\n",
       "      <td>77.175532</td>\n",
       "      <td>100.904255</td>\n",
       "      <td>61.074468</td>\n",
       "      <td>104.579787</td>\n",
       "      <td>188</td>\n",
       "      <td>0.002913</td>\n",
       "      <td>0.003266</td>\n",
       "      <td>0.001542</td>\n",
       "    </tr>\n",
       "    <tr>\n",
       "      <th>32763</th>\n",
       "      <td>0.004352</td>\n",
       "      <td>1.058614e-07</td>\n",
       "      <td>1.051107e-07</td>\n",
       "      <td>1.070506e-07</td>\n",
       "      <td>1.431541e-07</td>\n",
       "      <td>7244.247983</td>\n",
       "      <td>6607.922889</td>\n",
       "      <td>8062.183603</td>\n",
       "      <td>5552.617083</td>\n",
       "      <td>1.002087</td>\n",
       "      <td>...</td>\n",
       "      <td>1.001974</td>\n",
       "      <td>1.002734</td>\n",
       "      <td>113.019544</td>\n",
       "      <td>83.853420</td>\n",
       "      <td>104.254072</td>\n",
       "      <td>84.302932</td>\n",
       "      <td>307</td>\n",
       "      <td>0.003046</td>\n",
       "      <td>0.005105</td>\n",
       "      <td>0.001840</td>\n",
       "    </tr>\n",
       "    <tr>\n",
       "      <th>32767</th>\n",
       "      <td>0.001084</td>\n",
       "      <td>5.710588e-07</td>\n",
       "      <td>5.752923e-07</td>\n",
       "      <td>6.009845e-07</td>\n",
       "      <td>5.970896e-07</td>\n",
       "      <td>9402.179206</td>\n",
       "      <td>10214.490359</td>\n",
       "      <td>12848.133608</td>\n",
       "      <td>6756.769515</td>\n",
       "      <td>0.998886</td>\n",
       "      <td>...</td>\n",
       "      <td>0.998762</td>\n",
       "      <td>0.999471</td>\n",
       "      <td>155.267544</td>\n",
       "      <td>137.372807</td>\n",
       "      <td>146.171053</td>\n",
       "      <td>94.732456</td>\n",
       "      <td>228</td>\n",
       "      <td>0.001901</td>\n",
       "      <td>0.002541</td>\n",
       "      <td>0.001330</td>\n",
       "    </tr>\n",
       "  </tbody>\n",
       "</table>\n",
       "<p>3830 rows × 21 columns</p>\n",
       "</div>"
      ],
      "text/plain": [
       "                    target  bid_price1_var  ask_price1_var  bid_price2_var  \\\n",
       "stock_id time_id                                                             \n",
       "0        5        0.004136    3.557702e-07    3.609267e-07    3.278967e-07   \n",
       "         11       0.001445    8.048454e-08    4.782809e-08    5.987733e-08   \n",
       "         16       0.002168    5.057495e-07    6.204843e-07    5.307066e-07   \n",
       "         31       0.002195    4.746649e-07    3.223060e-07    5.349445e-07   \n",
       "         62       0.001747    4.740689e-08    3.653909e-08    5.247379e-08   \n",
       "...                    ...             ...             ...             ...   \n",
       "         32751    0.002611    3.989057e-07    5.059281e-07    3.846314e-07   \n",
       "         32753    0.001190    1.837252e-07    2.433933e-07    2.033434e-07   \n",
       "         32758    0.004264    5.668076e-07    4.536424e-07    6.043470e-07   \n",
       "         32763    0.004352    1.058614e-07    1.051107e-07    1.070506e-07   \n",
       "         32767    0.001084    5.710588e-07    5.752923e-07    6.009845e-07   \n",
       "\n",
       "                  ask_price2_var  bid_size1_var  ask_size1_var  bid_size2_var  \\\n",
       "stock_id time_id                                                                \n",
       "0        5          3.649655e-07    6592.215309    4338.669743    7348.756507   \n",
       "         11         4.715270e-08   15492.325402    9691.320578    8465.001985   \n",
       "         16         6.152997e-07    4978.115912    9259.747269    5674.860251   \n",
       "         31         3.222207e-07    8093.880602   10996.043697    5778.103922   \n",
       "         62         3.838027e-08    9499.414513    9603.210909    7059.243117   \n",
       "...                          ...            ...            ...            ...   \n",
       "         32751      4.818288e-07    9490.991605   10394.996610    4828.041246   \n",
       "         32753      2.618266e-07   28270.493701   20407.077646   15863.063249   \n",
       "         32758      4.448702e-07    6587.428917    7851.263511    2219.748436   \n",
       "         32763      1.431541e-07    7244.247983    6607.922889    8062.183603   \n",
       "         32767      5.970896e-07    9402.179206   10214.490359   12848.133608   \n",
       "\n",
       "                  ask_size2_var  bid_price1_mean  ...  bid_price2_mean  \\\n",
       "stock_id time_id                                  ...                    \n",
       "0        5          5184.163572         1.003314  ...         1.003139   \n",
       "         11         7875.531633         1.000011  ...         0.999870   \n",
       "         16         4586.227415         0.999204  ...         0.999007   \n",
       "         31         6483.167437         0.998445  ...         0.998255   \n",
       "         62         4527.422208         0.999407  ...         0.999216   \n",
       "...                         ...              ...  ...              ...   \n",
       "         32751      9333.874374         0.997639  ...         0.997556   \n",
       "         32753     10575.195643         1.000141  ...         1.000049   \n",
       "         32758      5428.886648         0.999334  ...         0.999131   \n",
       "         32763      5552.617083         1.002087  ...         1.001974   \n",
       "         32767      6756.769515         0.998886  ...         0.998762   \n",
       "\n",
       "                  ask_price2_mean  bid_size1_mean  ask_size1_mean  \\\n",
       "stock_id time_id                                                    \n",
       "0        5               1.004320       78.264901       74.579470   \n",
       "         11              1.000541      149.965000       71.145000   \n",
       "         16              1.000127       96.132979      131.037234   \n",
       "         31              0.999413      114.458333      120.800000   \n",
       "         62              0.999913      119.823864       88.477273   \n",
       "...                           ...             ...             ...   \n",
       "         32751           0.998372      110.929293       87.632997   \n",
       "         32753           1.000856      113.325243      228.140777   \n",
       "         32758           0.999941       77.175532      100.904255   \n",
       "         32763           1.002734      113.019544       83.853420   \n",
       "         32767           0.999471      155.267544      137.372807   \n",
       "\n",
       "                  bid_size2_mean  ask_size2_mean  size  log_return1  \\\n",
       "stock_id time_id                                                      \n",
       "0        5             80.880795       89.771523   302     0.004499   \n",
       "         11            95.445000       94.895000   200     0.001204   \n",
       "         16           114.526596       74.654255   188     0.002369   \n",
       "         31            68.783333      131.225000   120     0.002574   \n",
       "         62            87.840909       47.079545   176     0.001894   \n",
       "...                          ...             ...   ...          ...   \n",
       "         32751         61.488215      114.185185   297     0.002579   \n",
       "         32753        157.121359      122.543689   206     0.002206   \n",
       "         32758         61.074468      104.579787   188     0.002913   \n",
       "         32763        104.254072       84.302932   307     0.003046   \n",
       "         32767        146.171053       94.732456   228     0.001901   \n",
       "\n",
       "                  log_return2  log_return1_linear_weight  \n",
       "stock_id time_id                                          \n",
       "0        5           0.006999                   0.002517  \n",
       "         11          0.002476                   0.000904  \n",
       "         16          0.004801                   0.001504  \n",
       "         31          0.003637                   0.001665  \n",
       "         62          0.003257                   0.001402  \n",
       "...                       ...                        ...  \n",
       "         32751       0.003821                   0.001525  \n",
       "         32753       0.002847                   0.001252  \n",
       "         32758       0.003266                   0.001542  \n",
       "         32763       0.005105                   0.001840  \n",
       "         32767       0.002541                   0.001330  \n",
       "\n",
       "[3830 rows x 21 columns]"
      ]
     },
     "metadata": {},
     "output_type": "display_data"
    },
    {
     "name": "stdout",
     "output_type": "stream",
     "text": [
      "In [42] used 2.2578 MiB RAM in 10.75s, peaked 163.29 MiB above current, total RAM usage 3462.87 MiB\n"
     ]
    }
   ],
   "source": [
    "def load_data_build_features(stock_id, ROOT, filename, cols, df_target):\n",
    "    # filename e.g. book_train.parquet\n",
    "    assert isinstance(stock_id, int)\n",
    "    df_book_train_stock_X = pd.read_parquet(\n",
    "        os.path.join(ROOT, f\"{filename}/stock_id={stock_id}\")\n",
    "    )\n",
    "    df_book_train_stock_X[\"stock_id\"] = stock_id\n",
    "    df_book_train_stock_X = df_book_train_stock_X.set_index(['stock_id', 'time_id'])\n",
    "    #assert df_book_train_stock_X.shape[0] > rows_for_stock_id_0, (df_book_train_stock_X.shape[0], rows_for_stock_id_0)\n",
    "    \n",
    "    #df_book_train_stock_X_gt500 = df_book_train_stock_X.query(\"seconds_in_bucket>500\").copy()\n",
    "    #df_realized_vol_per_stock_short500 = add_wap_make_realized_volatility(df_book_train_stock_X_gt500, log_return_name='log_return_gt500sec')\n",
    "    #df_book_train_stock_X_gt300 = df_book_train_stock_X.query(\"seconds_in_bucket>300\").copy()\n",
    "    #df_realized_vol_per_stock_short300 = add_wap_make_realized_volatility(df_book_train_stock_X_gt300, log_return_name='log_return_gt300sec')\n",
    "    make_wap(df_book_train_stock_X, 2) # adds 'wap' column\n",
    "    df_realized_vol_per_stock_num2 = make_realized_volatility(df_book_train_stock_X, log_return_name=\"log_return2\")    \n",
    "    make_wap(df_book_train_stock_X, 1) # adds 'wap' column\n",
    "    df_realized_vol_per_stock_num1 = make_realized_volatility(df_book_train_stock_X, log_return_name=\"log_return1\")\n",
    "    df_realized_vol_per_stock_num1_linear_weight = make_realized_volatility(df_book_train_stock_X, log_return_name=\"log_return1_linear_weight\", weights='linear')\n",
    "    features_var1 = make_features_stats(df_book_train_stock_X, 'var', cols)\n",
    "    #print(f\"{features_var1.memory_usage().sum() / 1_000_000:0.1f} MB\")\n",
    "    features_mean1 = make_features_stats(df_book_train_stock_X, 'mean', cols)\n",
    "    features_size1 = make_features_stats(df_book_train_stock_X, 'size', cols)\n",
    "    \n",
    "    df_train_stock_X = df_target.query('stock_id == @stock_id')\n",
    "    to_merge = [df_train_stock_X, features_var1, features_mean1, features_size1, \n",
    "                df_realized_vol_per_stock_num1, df_realized_vol_per_stock_num2, df_realized_vol_per_stock_num1_linear_weight]\n",
    "                #df_realized_vol_per_stock_short300, df_realized_vol_per_stock_short500, ]\n",
    "    row_lengths = [df.shape[0] for df in to_merge]\n",
    "    assert len(set(row_lengths)) == 1, row_lengths # should all be same length\n",
    "    train_merged = pd.concat(to_merge, axis=1)\n",
    "    return train_merged\n",
    "\n",
    "print(f'Iterating over {len(stock_ids)} stocks:')\n",
    "    \n",
    "cols = ['bid_price1', 'ask_price1', 'bid_price2', 'ask_price2',] \n",
    "cols += ['bid_size1', 'ask_size1', 'bid_size2', 'ask_size2']\n",
    "#cols += ['wap', 'wap_numerator', 'wap_denominator']\n",
    "\n",
    "if True:    \n",
    "    # test...\n",
    "    train_mergedXX = load_data_build_features(0, ROOT, 'book_train.parquet', cols, df_train_all)\n",
    "    display(train_mergedXX)"
   ]
  },
  {
   "cell_type": "code",
   "execution_count": 43,
   "id": "bce31de7-961b-440f-9eee-824c3b4e1aee",
   "metadata": {},
   "outputs": [
    {
     "name": "stderr",
     "output_type": "stream",
     "text": [
      "[Parallel(n_jobs=-1)]: Using backend LokyBackend with 8 concurrent workers.\n",
      "[Parallel(n_jobs=-1)]: Done  25 tasks      | elapsed:  1.6min\n"
     ]
    },
    {
     "name": "stdout",
     "output_type": "stream",
     "text": [
      "In [43] used 75.2188 MiB RAM in 321.75s, peaked 0.00 MiB above current, total RAM usage 3538.09 MiB\n"
     ]
    },
    {
     "name": "stderr",
     "output_type": "stream",
     "text": [
      "[Parallel(n_jobs=-1)]: Done 112 out of 112 | elapsed:  5.4min finished\n"
     ]
    }
   ],
   "source": [
    "from joblib import Parallel, delayed\n",
    "all_train_merged = Parallel(n_jobs=-1, verbose=2)(delayed(load_data_build_features)(stock_id, ROOT, 'book_train.parquet', cols, df_train_all) for stock_id in stock_ids)"
   ]
  },
  {
   "cell_type": "code",
   "execution_count": 44,
   "id": "e41a8bbd-ea61-4121-a0f7-a303cb0940d5",
   "metadata": {},
   "outputs": [
    {
     "name": "stdout",
     "output_type": "stream",
     "text": [
      "[2c] 428,932x21, 0 nulls, is_view True, is_single_block True, is_consolidated True\n",
      "In [44] used -36.0000 MiB RAM in 0.21s, peaked 36.00 MiB above current, total RAM usage 3502.09 MiB\n"
     ]
    }
   ],
   "source": [
    "# join all the partial results back together\n",
    "train_merged = pd.concat(all_train_merged)\n",
    "show_details(train_merged)"
   ]
  },
  {
   "cell_type": "code",
   "execution_count": 45,
   "id": "47e53e2a-2e5f-48e3-9ada-0ab519af8bd3",
   "metadata": {},
   "outputs": [
    {
     "data": {
      "text/html": [
       "<div>\n",
       "<style scoped>\n",
       "    .dataframe tbody tr th:only-of-type {\n",
       "        vertical-align: middle;\n",
       "    }\n",
       "\n",
       "    .dataframe tbody tr th {\n",
       "        vertical-align: top;\n",
       "    }\n",
       "\n",
       "    .dataframe thead th {\n",
       "        text-align: right;\n",
       "    }\n",
       "</style>\n",
       "<table border=\"1\" class=\"dataframe\">\n",
       "  <thead>\n",
       "    <tr style=\"text-align: right;\">\n",
       "      <th></th>\n",
       "      <th></th>\n",
       "      <th>target</th>\n",
       "      <th>bid_price1_var</th>\n",
       "      <th>ask_price1_var</th>\n",
       "      <th>bid_price2_var</th>\n",
       "      <th>ask_price2_var</th>\n",
       "      <th>bid_size1_var</th>\n",
       "      <th>ask_size1_var</th>\n",
       "      <th>bid_size2_var</th>\n",
       "      <th>ask_size2_var</th>\n",
       "      <th>bid_price1_mean</th>\n",
       "      <th>...</th>\n",
       "      <th>bid_price2_mean</th>\n",
       "      <th>ask_price2_mean</th>\n",
       "      <th>bid_size1_mean</th>\n",
       "      <th>ask_size1_mean</th>\n",
       "      <th>bid_size2_mean</th>\n",
       "      <th>ask_size2_mean</th>\n",
       "      <th>size</th>\n",
       "      <th>log_return1</th>\n",
       "      <th>log_return2</th>\n",
       "      <th>log_return1_linear_weight</th>\n",
       "    </tr>\n",
       "    <tr>\n",
       "      <th>stock_id</th>\n",
       "      <th>time_id</th>\n",
       "      <th></th>\n",
       "      <th></th>\n",
       "      <th></th>\n",
       "      <th></th>\n",
       "      <th></th>\n",
       "      <th></th>\n",
       "      <th></th>\n",
       "      <th></th>\n",
       "      <th></th>\n",
       "      <th></th>\n",
       "      <th></th>\n",
       "      <th></th>\n",
       "      <th></th>\n",
       "      <th></th>\n",
       "      <th></th>\n",
       "      <th></th>\n",
       "      <th></th>\n",
       "      <th></th>\n",
       "      <th></th>\n",
       "      <th></th>\n",
       "      <th></th>\n",
       "    </tr>\n",
       "  </thead>\n",
       "  <tbody>\n",
       "    <tr>\n",
       "      <th rowspan=\"5\" valign=\"top\">59</th>\n",
       "      <th>5</th>\n",
       "      <td>0.004072</td>\n",
       "      <td>1.539389e-07</td>\n",
       "      <td>1.544176e-07</td>\n",
       "      <td>1.349132e-07</td>\n",
       "      <td>1.465483e-07</td>\n",
       "      <td>11855.387055</td>\n",
       "      <td>6892.936853</td>\n",
       "      <td>4510.521751</td>\n",
       "      <td>5765.414169</td>\n",
       "      <td>1.000904</td>\n",
       "      <td>...</td>\n",
       "      <td>1.000779</td>\n",
       "      <td>1.001524</td>\n",
       "      <td>127.993569</td>\n",
       "      <td>111.192926</td>\n",
       "      <td>107.504823</td>\n",
       "      <td>75.237942</td>\n",
       "      <td>311</td>\n",
       "      <td>0.002861</td>\n",
       "      <td>0.003991</td>\n",
       "      <td>0.001431</td>\n",
       "    </tr>\n",
       "    <tr>\n",
       "      <th>11</th>\n",
       "      <td>0.001489</td>\n",
       "      <td>3.412355e-07</td>\n",
       "      <td>4.039657e-07</td>\n",
       "      <td>3.298110e-07</td>\n",
       "      <td>4.177058e-07</td>\n",
       "      <td>22438.854139</td>\n",
       "      <td>32757.977261</td>\n",
       "      <td>35927.916710</td>\n",
       "      <td>16786.511136</td>\n",
       "      <td>1.000577</td>\n",
       "      <td>...</td>\n",
       "      <td>1.000439</td>\n",
       "      <td>1.001341</td>\n",
       "      <td>141.639594</td>\n",
       "      <td>199.111675</td>\n",
       "      <td>170.040609</td>\n",
       "      <td>127.426396</td>\n",
       "      <td>197</td>\n",
       "      <td>0.002905</td>\n",
       "      <td>0.004020</td>\n",
       "      <td>0.001629</td>\n",
       "    </tr>\n",
       "    <tr>\n",
       "      <th>16</th>\n",
       "      <td>0.002563</td>\n",
       "      <td>5.515992e-07</td>\n",
       "      <td>5.405377e-07</td>\n",
       "      <td>5.369475e-07</td>\n",
       "      <td>5.369036e-07</td>\n",
       "      <td>10481.927458</td>\n",
       "      <td>12315.572839</td>\n",
       "      <td>6729.414078</td>\n",
       "      <td>6091.421681</td>\n",
       "      <td>0.999024</td>\n",
       "      <td>...</td>\n",
       "      <td>0.998933</td>\n",
       "      <td>0.999480</td>\n",
       "      <td>150.673077</td>\n",
       "      <td>168.711538</td>\n",
       "      <td>123.246154</td>\n",
       "      <td>93.738462</td>\n",
       "      <td>260</td>\n",
       "      <td>0.002423</td>\n",
       "      <td>0.003329</td>\n",
       "      <td>0.001488</td>\n",
       "    </tr>\n",
       "    <tr>\n",
       "      <th>31</th>\n",
       "      <td>0.002323</td>\n",
       "      <td>4.119776e-08</td>\n",
       "      <td>9.782350e-08</td>\n",
       "      <td>5.722407e-08</td>\n",
       "      <td>9.959539e-08</td>\n",
       "      <td>6566.613651</td>\n",
       "      <td>7043.215464</td>\n",
       "      <td>5424.648518</td>\n",
       "      <td>8061.372315</td>\n",
       "      <td>1.000029</td>\n",
       "      <td>...</td>\n",
       "      <td>0.999890</td>\n",
       "      <td>1.000685</td>\n",
       "      <td>104.837500</td>\n",
       "      <td>85.754167</td>\n",
       "      <td>85.004167</td>\n",
       "      <td>114.341667</td>\n",
       "      <td>240</td>\n",
       "      <td>0.002573</td>\n",
       "      <td>0.003381</td>\n",
       "      <td>0.001407</td>\n",
       "    </tr>\n",
       "    <tr>\n",
       "      <th>62</th>\n",
       "      <td>0.002398</td>\n",
       "      <td>2.799989e-07</td>\n",
       "      <td>3.039634e-07</td>\n",
       "      <td>2.906845e-07</td>\n",
       "      <td>2.920635e-07</td>\n",
       "      <td>16026.168376</td>\n",
       "      <td>12337.165290</td>\n",
       "      <td>9310.249809</td>\n",
       "      <td>7555.724324</td>\n",
       "      <td>0.997103</td>\n",
       "      <td>...</td>\n",
       "      <td>0.996995</td>\n",
       "      <td>0.997660</td>\n",
       "      <td>117.227642</td>\n",
       "      <td>164.504065</td>\n",
       "      <td>124.056911</td>\n",
       "      <td>102.101626</td>\n",
       "      <td>246</td>\n",
       "      <td>0.002345</td>\n",
       "      <td>0.003060</td>\n",
       "      <td>0.001263</td>\n",
       "    </tr>\n",
       "  </tbody>\n",
       "</table>\n",
       "<p>5 rows × 21 columns</p>\n",
       "</div>"
      ],
      "text/plain": [
       "                    target  bid_price1_var  ask_price1_var  bid_price2_var  \\\n",
       "stock_id time_id                                                             \n",
       "59       5        0.004072    1.539389e-07    1.544176e-07    1.349132e-07   \n",
       "         11       0.001489    3.412355e-07    4.039657e-07    3.298110e-07   \n",
       "         16       0.002563    5.515992e-07    5.405377e-07    5.369475e-07   \n",
       "         31       0.002323    4.119776e-08    9.782350e-08    5.722407e-08   \n",
       "         62       0.002398    2.799989e-07    3.039634e-07    2.906845e-07   \n",
       "\n",
       "                  ask_price2_var  bid_size1_var  ask_size1_var  bid_size2_var  \\\n",
       "stock_id time_id                                                                \n",
       "59       5          1.465483e-07   11855.387055    6892.936853    4510.521751   \n",
       "         11         4.177058e-07   22438.854139   32757.977261   35927.916710   \n",
       "         16         5.369036e-07   10481.927458   12315.572839    6729.414078   \n",
       "         31         9.959539e-08    6566.613651    7043.215464    5424.648518   \n",
       "         62         2.920635e-07   16026.168376   12337.165290    9310.249809   \n",
       "\n",
       "                  ask_size2_var  bid_price1_mean  ...  bid_price2_mean  \\\n",
       "stock_id time_id                                  ...                    \n",
       "59       5          5765.414169         1.000904  ...         1.000779   \n",
       "         11        16786.511136         1.000577  ...         1.000439   \n",
       "         16         6091.421681         0.999024  ...         0.998933   \n",
       "         31         8061.372315         1.000029  ...         0.999890   \n",
       "         62         7555.724324         0.997103  ...         0.996995   \n",
       "\n",
       "                  ask_price2_mean  bid_size1_mean  ask_size1_mean  \\\n",
       "stock_id time_id                                                    \n",
       "59       5               1.001524      127.993569      111.192926   \n",
       "         11              1.001341      141.639594      199.111675   \n",
       "         16              0.999480      150.673077      168.711538   \n",
       "         31              1.000685      104.837500       85.754167   \n",
       "         62              0.997660      117.227642      164.504065   \n",
       "\n",
       "                  bid_size2_mean  ask_size2_mean  size  log_return1  \\\n",
       "stock_id time_id                                                      \n",
       "59       5            107.504823       75.237942   311     0.002861   \n",
       "         11           170.040609      127.426396   197     0.002905   \n",
       "         16           123.246154       93.738462   260     0.002423   \n",
       "         31            85.004167      114.341667   240     0.002573   \n",
       "         62           124.056911      102.101626   246     0.002345   \n",
       "\n",
       "                  log_return2  log_return1_linear_weight  \n",
       "stock_id time_id                                          \n",
       "59       5           0.003991                   0.001431  \n",
       "         11          0.004020                   0.001629  \n",
       "         16          0.003329                   0.001488  \n",
       "         31          0.003381                   0.001407  \n",
       "         62          0.003060                   0.001263  \n",
       "\n",
       "[5 rows x 21 columns]"
      ]
     },
     "execution_count": 45,
     "metadata": {},
     "output_type": "execute_result"
    },
    {
     "name": "stdout",
     "output_type": "stream",
     "text": [
      "In [45] used 0.0078 MiB RAM in 0.14s, peaked 0.00 MiB above current, total RAM usage 3502.09 MiB\n"
     ]
    }
   ],
   "source": [
    "train_merged.head()"
   ]
  },
  {
   "cell_type": "code",
   "execution_count": 46,
   "id": "0c8c58d2-9e7e-41a7-8ecb-035762d33e83",
   "metadata": {},
   "outputs": [
    {
     "data": {
      "text/plain": [
       "Index(['bid_price1_var', 'ask_price1_var', 'bid_price2_var', 'ask_price2_var',\n",
       "       'bid_size1_var', 'ask_size1_var', 'bid_size2_var', 'ask_size2_var',\n",
       "       'bid_price1_mean', 'ask_price1_mean', 'bid_price2_mean',\n",
       "       'ask_price2_mean', 'bid_size1_mean', 'ask_size1_mean', 'bid_size2_mean',\n",
       "       'ask_size2_mean', 'size', 'log_return1', 'log_return2',\n",
       "       'log_return1_linear_weight'],\n",
       "      dtype='object')"
      ]
     },
     "execution_count": 46,
     "metadata": {},
     "output_type": "execute_result"
    },
    {
     "name": "stdout",
     "output_type": "stream",
     "text": [
      "In [46] used 39.2734 MiB RAM in 0.17s, peaked 0.00 MiB above current, total RAM usage 3541.37 MiB\n"
     ]
    }
   ],
   "source": [
    "features = train_merged.drop(columns='target').columns\n",
    "features"
   ]
  },
  {
   "cell_type": "markdown",
   "id": "fa604e88-0b6f-438a-9143-9bce7289a0a1",
   "metadata": {},
   "source": [
    "# Features"
   ]
  },
  {
   "cell_type": "code",
   "execution_count": 47,
   "id": "38c715f1-d4f9-4eb3-b0f1-6942f11341e6",
   "metadata": {},
   "outputs": [
    {
     "data": {
      "text/plain": [
       "((321646, 21), (107286, 21), (321646,), (107286,))"
      ]
     },
     "execution_count": 47,
     "metadata": {},
     "output_type": "execute_result"
    },
    {
     "name": "stdout",
     "output_type": "stream",
     "text": [
      "In [47] used 128.3047 MiB RAM in 0.31s, peaked 9.75 MiB above current, total RAM usage 3669.67 MiB\n"
     ]
    }
   ],
   "source": [
    "def train_test_split(df, target_col, time_ids_train, time_ids_test):\n",
    "    X_train = df.query('time_id in @time_ids_train').drop(columns=[target_col, 'time_id'])\n",
    "    X_test = df.query('time_id in @time_ids_test').drop(columns=[target_col, 'time_id'])\n",
    "    y_train = df.query('time_id in @time_ids_train')[target_col]\n",
    "    y_test = df.query('time_id in @time_ids_test')[target_col]\n",
    "    return X_train, X_test, y_train, y_test\n",
    "\n",
    "feature_cols = list(features) + ['stock_id']\n",
    "X_train, X_test, y_train, y_test = train_test_split(train_merged.reset_index()[feature_cols+['time_id', 'target']], 'target', time_ids_train, time_ids_test)\n",
    "X_train.shape, X_test.shape, y_train.shape, y_test.shape"
   ]
  },
  {
   "cell_type": "code",
   "execution_count": 48,
   "id": "1eeb0826-a793-495e-9096-2ccd215f32e3",
   "metadata": {},
   "outputs": [
    {
     "data": {
      "text/html": [
       "<div>\n",
       "<style scoped>\n",
       "    .dataframe tbody tr th:only-of-type {\n",
       "        vertical-align: middle;\n",
       "    }\n",
       "\n",
       "    .dataframe tbody tr th {\n",
       "        vertical-align: top;\n",
       "    }\n",
       "\n",
       "    .dataframe thead th {\n",
       "        text-align: right;\n",
       "    }\n",
       "</style>\n",
       "<table border=\"1\" class=\"dataframe\">\n",
       "  <thead>\n",
       "    <tr style=\"text-align: right;\">\n",
       "      <th></th>\n",
       "      <th>bid_price1_var</th>\n",
       "      <th>ask_price1_var</th>\n",
       "      <th>bid_price2_var</th>\n",
       "      <th>ask_price2_var</th>\n",
       "      <th>bid_size1_var</th>\n",
       "      <th>ask_size1_var</th>\n",
       "      <th>bid_size2_var</th>\n",
       "      <th>ask_size2_var</th>\n",
       "      <th>bid_price1_mean</th>\n",
       "      <th>ask_price1_mean</th>\n",
       "      <th>...</th>\n",
       "      <th>ask_price2_mean</th>\n",
       "      <th>bid_size1_mean</th>\n",
       "      <th>ask_size1_mean</th>\n",
       "      <th>bid_size2_mean</th>\n",
       "      <th>ask_size2_mean</th>\n",
       "      <th>size</th>\n",
       "      <th>log_return1</th>\n",
       "      <th>log_return2</th>\n",
       "      <th>log_return1_linear_weight</th>\n",
       "      <th>stock_id</th>\n",
       "    </tr>\n",
       "  </thead>\n",
       "  <tbody>\n",
       "    <tr>\n",
       "      <th>0</th>\n",
       "      <td>1.539389e-07</td>\n",
       "      <td>1.544176e-07</td>\n",
       "      <td>1.349132e-07</td>\n",
       "      <td>1.465483e-07</td>\n",
       "      <td>11855.387055</td>\n",
       "      <td>6892.936853</td>\n",
       "      <td>4510.521751</td>\n",
       "      <td>5765.414169</td>\n",
       "      <td>1.000904</td>\n",
       "      <td>1.001389</td>\n",
       "      <td>...</td>\n",
       "      <td>1.001524</td>\n",
       "      <td>127.993569</td>\n",
       "      <td>111.192926</td>\n",
       "      <td>107.504823</td>\n",
       "      <td>75.237942</td>\n",
       "      <td>311</td>\n",
       "      <td>0.002861</td>\n",
       "      <td>0.003991</td>\n",
       "      <td>0.001431</td>\n",
       "      <td>59</td>\n",
       "    </tr>\n",
       "    <tr>\n",
       "      <th>1</th>\n",
       "      <td>3.412355e-07</td>\n",
       "      <td>4.039657e-07</td>\n",
       "      <td>3.298110e-07</td>\n",
       "      <td>4.177058e-07</td>\n",
       "      <td>22438.854139</td>\n",
       "      <td>32757.977261</td>\n",
       "      <td>35927.916710</td>\n",
       "      <td>16786.511136</td>\n",
       "      <td>1.000577</td>\n",
       "      <td>1.001177</td>\n",
       "      <td>...</td>\n",
       "      <td>1.001341</td>\n",
       "      <td>141.639594</td>\n",
       "      <td>199.111675</td>\n",
       "      <td>170.040609</td>\n",
       "      <td>127.426396</td>\n",
       "      <td>197</td>\n",
       "      <td>0.002905</td>\n",
       "      <td>0.004020</td>\n",
       "      <td>0.001629</td>\n",
       "      <td>59</td>\n",
       "    </tr>\n",
       "    <tr>\n",
       "      <th>2</th>\n",
       "      <td>5.515992e-07</td>\n",
       "      <td>5.405377e-07</td>\n",
       "      <td>5.369475e-07</td>\n",
       "      <td>5.369036e-07</td>\n",
       "      <td>10481.927458</td>\n",
       "      <td>12315.572839</td>\n",
       "      <td>6729.414078</td>\n",
       "      <td>6091.421681</td>\n",
       "      <td>0.999024</td>\n",
       "      <td>0.999396</td>\n",
       "      <td>...</td>\n",
       "      <td>0.999480</td>\n",
       "      <td>150.673077</td>\n",
       "      <td>168.711538</td>\n",
       "      <td>123.246154</td>\n",
       "      <td>93.738462</td>\n",
       "      <td>260</td>\n",
       "      <td>0.002423</td>\n",
       "      <td>0.003329</td>\n",
       "      <td>0.001488</td>\n",
       "      <td>59</td>\n",
       "    </tr>\n",
       "  </tbody>\n",
       "</table>\n",
       "<p>3 rows × 21 columns</p>\n",
       "</div>"
      ],
      "text/plain": [
       "   bid_price1_var  ask_price1_var  bid_price2_var  ask_price2_var  \\\n",
       "0    1.539389e-07    1.544176e-07    1.349132e-07    1.465483e-07   \n",
       "1    3.412355e-07    4.039657e-07    3.298110e-07    4.177058e-07   \n",
       "2    5.515992e-07    5.405377e-07    5.369475e-07    5.369036e-07   \n",
       "\n",
       "   bid_size1_var  ask_size1_var  bid_size2_var  ask_size2_var  \\\n",
       "0   11855.387055    6892.936853    4510.521751    5765.414169   \n",
       "1   22438.854139   32757.977261   35927.916710   16786.511136   \n",
       "2   10481.927458   12315.572839    6729.414078    6091.421681   \n",
       "\n",
       "   bid_price1_mean  ask_price1_mean  ...  ask_price2_mean  bid_size1_mean  \\\n",
       "0         1.000904         1.001389  ...         1.001524      127.993569   \n",
       "1         1.000577         1.001177  ...         1.001341      141.639594   \n",
       "2         0.999024         0.999396  ...         0.999480      150.673077   \n",
       "\n",
       "   ask_size1_mean  bid_size2_mean  ask_size2_mean  size  log_return1  \\\n",
       "0      111.192926      107.504823       75.237942   311     0.002861   \n",
       "1      199.111675      170.040609      127.426396   197     0.002905   \n",
       "2      168.711538      123.246154       93.738462   260     0.002423   \n",
       "\n",
       "   log_return2  log_return1_linear_weight  stock_id  \n",
       "0     0.003991                   0.001431        59  \n",
       "1     0.004020                   0.001629        59  \n",
       "2     0.003329                   0.001488        59  \n",
       "\n",
       "[3 rows x 21 columns]"
      ]
     },
     "execution_count": 48,
     "metadata": {},
     "output_type": "execute_result"
    },
    {
     "name": "stdout",
     "output_type": "stream",
     "text": [
      "In [48] used 0.0000 MiB RAM in 0.14s, peaked 0.00 MiB above current, total RAM usage 3669.67 MiB\n"
     ]
    }
   ],
   "source": [
    "X_train.head(3)"
   ]
  },
  {
   "cell_type": "code",
   "execution_count": 49,
   "id": "d7d9c065-3d86-4708-a9fc-06e7438471cd",
   "metadata": {},
   "outputs": [
    {
     "data": {
      "text/plain": [
       "((321646, 21), (107286, 21), (321646,), (107286,))"
      ]
     },
     "execution_count": 49,
     "metadata": {},
     "output_type": "execute_result"
    },
    {
     "name": "stdout",
     "output_type": "stream",
     "text": [
      "In [49] used 0.0000 MiB RAM in 0.11s, peaked 0.00 MiB above current, total RAM usage 3669.67 MiB\n"
     ]
    }
   ],
   "source": [
    "X_train.shape, X_test.shape, y_train.shape, y_test.shape"
   ]
  },
  {
   "cell_type": "markdown",
   "id": "3e707413-28fc-4963-8281-f5c6a9d49cd7",
   "metadata": {},
   "source": [
    "# ML on a train/test split"
   ]
  },
  {
   "cell_type": "code",
   "execution_count": 50,
   "id": "5fee6800-336e-4e6e-84f9-ff513a424f50",
   "metadata": {},
   "outputs": [
    {
     "name": "stdout",
     "output_type": "stream",
     "text": [
      "In [50] used 0.0000 MiB RAM in 0.11s, peaked 0.00 MiB above current, total RAM usage 3669.67 MiB\n"
     ]
    }
   ],
   "source": [
    "from sklearn.linear_model import LinearRegression\n",
    "from sklearn.ensemble import RandomForestRegressor\n",
    "from sklearn.ensemble import GradientBoostingRegressor"
   ]
  },
  {
   "cell_type": "code",
   "execution_count": 51,
   "id": "847d785c-fb6b-4421-a939-9c88f9a5774c",
   "metadata": {},
   "outputs": [
    {
     "data": {
      "text/plain": [
       "RandomForestRegressor(n_jobs=-1, random_state=2)"
      ]
     },
     "execution_count": 51,
     "metadata": {},
     "output_type": "execute_result"
    },
    {
     "name": "stdout",
     "output_type": "stream",
     "text": [
      "In [51] used 2587.6562 MiB RAM in 207.82s, peaked 0.00 MiB above current, total RAM usage 6257.33 MiB\n"
     ]
    }
   ],
   "source": [
    "#est = LinearRegression()\n",
    "#est = RandomForestRegressor(n_estimators=10, n_jobs=-1, random_state=RANDOM_STATE) # default n_estimators==100\n",
    "est = RandomForestRegressor(n_estimators=100, n_jobs=-1, random_state=RANDOM_STATE) # default n_estimators==100\n",
    "#est = GradientBoostingRegressor(random_state=RANDOM_STATE)\n",
    "est.fit(X_train, y_train)"
   ]
  },
  {
   "cell_type": "code",
   "execution_count": 52,
   "id": "ec071e4e-bc2e-4fc0-95c6-2c81bafed376",
   "metadata": {},
   "outputs": [
    {
     "name": "stdout",
     "output_type": "stream",
     "text": [
      "USE_ALL_STOCK_IDS: True\n",
      "112 unique stock ids, test set is 25.0%\n",
      "Features: ['bid_price1_var', 'ask_price1_var', 'bid_price2_var', 'ask_price2_var', 'bid_size1_var', 'ask_size1_var', 'bid_size2_var', 'ask_size2_var', 'bid_price1_mean', 'ask_price1_mean', 'bid_price2_mean', 'ask_price2_mean', 'bid_size1_mean', 'ask_size1_mean', 'bid_size2_mean', 'ask_size2_mean', 'size', 'log_return1', 'log_return2', 'log_return1_linear_weight', 'stock_id']\n",
      "RandomForestRegressor(n_jobs=-1, random_state=2)\n",
      "r^2 score 0.811 on 107,286 predictions\n",
      "In [52] used 11.4258 MiB RAM in 2.08s, peaked 0.00 MiB above current, total RAM usage 6268.75 MiB\n"
     ]
    }
   ],
   "source": [
    "from sklearn.metrics import r2_score\n",
    "\n",
    "print(f\"USE_ALL_STOCK_IDS: {USE_ALL_STOCK_IDS}\")\n",
    "\n",
    "print(f\"{df_train_all.reset_index().stock_id.unique().shape[0]} unique stock ids, test set is {TEST_SIZE*100:0.1f}%\")\n",
    "print(f\"Features:\", feature_cols)\n",
    "print(est)\n",
    "if X_test.shape[0] > 0:\n",
    "    y_pred = est.predict(X_test)\n",
    "    score = r2_score(y_test, y_pred)\n",
    "    print(f\"r^2 score {score:0.3f} on {y_pred.shape[0]:,} predictions\")\n",
    "else:\n",
    "    print('No testing rows in X_test')"
   ]
  },
  {
   "cell_type": "code",
   "execution_count": 53,
   "id": "299b1c07-a321-4b22-8f69-488df7c99059",
   "metadata": {},
   "outputs": [
    {
     "data": {
      "text/html": [
       "<div>\n",
       "<style scoped>\n",
       "    .dataframe tbody tr th:only-of-type {\n",
       "        vertical-align: middle;\n",
       "    }\n",
       "\n",
       "    .dataframe tbody tr th {\n",
       "        vertical-align: top;\n",
       "    }\n",
       "\n",
       "    .dataframe thead th {\n",
       "        text-align: right;\n",
       "    }\n",
       "</style>\n",
       "<table border=\"1\" class=\"dataframe\">\n",
       "  <thead>\n",
       "    <tr style=\"text-align: right;\">\n",
       "      <th></th>\n",
       "      <th>y_test</th>\n",
       "      <th>y_pred</th>\n",
       "      <th>abs_diff</th>\n",
       "    </tr>\n",
       "  </thead>\n",
       "  <tbody>\n",
       "    <tr>\n",
       "      <th>396331</th>\n",
       "      <td>0.044688</td>\n",
       "      <td>0.010266</td>\n",
       "      <td>3.442209e-02</td>\n",
       "    </tr>\n",
       "    <tr>\n",
       "      <th>142075</th>\n",
       "      <td>0.059256</td>\n",
       "      <td>0.025210</td>\n",
       "      <td>3.404615e-02</td>\n",
       "    </tr>\n",
       "    <tr>\n",
       "      <th>241390</th>\n",
       "      <td>0.041601</td>\n",
       "      <td>0.014162</td>\n",
       "      <td>2.743892e-02</td>\n",
       "    </tr>\n",
       "    <tr>\n",
       "      <th>179203</th>\n",
       "      <td>0.031468</td>\n",
       "      <td>0.004252</td>\n",
       "      <td>2.721523e-02</td>\n",
       "    </tr>\n",
       "    <tr>\n",
       "      <th>288078</th>\n",
       "      <td>0.032008</td>\n",
       "      <td>0.004874</td>\n",
       "      <td>2.713339e-02</td>\n",
       "    </tr>\n",
       "    <tr>\n",
       "      <th>...</th>\n",
       "      <td>...</td>\n",
       "      <td>...</td>\n",
       "      <td>...</td>\n",
       "    </tr>\n",
       "    <tr>\n",
       "      <th>282152</th>\n",
       "      <td>0.002083</td>\n",
       "      <td>0.002083</td>\n",
       "      <td>1.360000e-08</td>\n",
       "    </tr>\n",
       "    <tr>\n",
       "      <th>364857</th>\n",
       "      <td>0.003271</td>\n",
       "      <td>0.003271</td>\n",
       "      <td>1.036000e-08</td>\n",
       "    </tr>\n",
       "    <tr>\n",
       "      <th>205575</th>\n",
       "      <td>0.001946</td>\n",
       "      <td>0.001946</td>\n",
       "      <td>5.230000e-09</td>\n",
       "    </tr>\n",
       "    <tr>\n",
       "      <th>264009</th>\n",
       "      <td>0.004248</td>\n",
       "      <td>0.004248</td>\n",
       "      <td>5.030000e-09</td>\n",
       "    </tr>\n",
       "    <tr>\n",
       "      <th>384201</th>\n",
       "      <td>0.003309</td>\n",
       "      <td>0.003309</td>\n",
       "      <td>1.660000e-09</td>\n",
       "    </tr>\n",
       "  </tbody>\n",
       "</table>\n",
       "<p>107286 rows × 3 columns</p>\n",
       "</div>"
      ],
      "text/plain": [
       "          y_test    y_pred      abs_diff\n",
       "396331  0.044688  0.010266  3.442209e-02\n",
       "142075  0.059256  0.025210  3.404615e-02\n",
       "241390  0.041601  0.014162  2.743892e-02\n",
       "179203  0.031468  0.004252  2.721523e-02\n",
       "288078  0.032008  0.004874  2.713339e-02\n",
       "...          ...       ...           ...\n",
       "282152  0.002083  0.002083  1.360000e-08\n",
       "364857  0.003271  0.003271  1.036000e-08\n",
       "205575  0.001946  0.001946  5.230000e-09\n",
       "264009  0.004248  0.004248  5.030000e-09\n",
       "384201  0.003309  0.003309  1.660000e-09\n",
       "\n",
       "[107286 rows x 3 columns]"
      ]
     },
     "metadata": {},
     "output_type": "display_data"
    },
    {
     "name": "stdout",
     "output_type": "stream",
     "text": [
      "In [53] used -0.0195 MiB RAM in 0.18s, peaked 0.02 MiB above current, total RAM usage 6268.73 MiB\n"
     ]
    }
   ],
   "source": [
    "if X_test.shape[0] > 0:\n",
    "    df_preds = pd.DataFrame({'y_test': y_test, 'y_pred': y_pred})\n",
    "    df_preds['abs_diff'] = (df_preds['y_test'] - df_preds['y_pred']).abs()\n",
    "    display(df_preds.sort_values('abs_diff', ascending=False))"
   ]
  },
  {
   "cell_type": "code",
   "execution_count": 54,
   "id": "04f95a61-dab8-47ec-916d-d82aff1eb5d7",
   "metadata": {},
   "outputs": [
    {
     "name": "stdout",
     "output_type": "stream",
     "text": [
      "In [54] used 0.0000 MiB RAM in 0.11s, peaked 0.00 MiB above current, total RAM usage 6268.73 MiB\n"
     ]
    }
   ],
   "source": [
    "#item_to_debug = 32451\n",
    "#train_merged.reset_index().loc[item_to_debug][['stock_id', 'time_id', 'target']]"
   ]
  },
  {
   "cell_type": "code",
   "execution_count": 55,
   "id": "d8e26169-e238-4292-873e-9f79386466e0",
   "metadata": {},
   "outputs": [
    {
     "data": {
      "image/png": "[encoded data removed]",
      "text/plain": [
       "<Figure size 576x396 with 1 Axes>"
      ]
     },
     "metadata": {},
     "output_type": "display_data"
    },
    {
     "name": "stdout",
     "output_type": "stream",
     "text": [
      "In [55] used 0.0742 MiB RAM in 5.16s, peaked 0.00 MiB above current, total RAM usage 6268.81 MiB\n"
     ]
    }
   ],
   "source": [
    "try:\n",
    "    if X_test.shape[0] > 0:\n",
    "        from yellowbrick.regressor import PredictionError\n",
    "        visualizer = PredictionError(est)\n",
    "        visualizer.fit(X_train, y_train)  # Fit the training data to the visualizer\n",
    "        visualizer.score(X_test, y_test)  # Evaluate the model on the test data\n",
    "        ax_subplot = visualizer.show()        \n",
    "except ModuleNotFoundError:\n",
    "    print('no yellowbrick')"
   ]
  },
  {
   "cell_type": "code",
   "execution_count": 56,
   "id": "0eb6411a-242a-4377-83cc-e1efc0dd12ba",
   "metadata": {},
   "outputs": [
    {
     "data": {
      "text/html": [
       "<div>\n",
       "<style scoped>\n",
       "    .dataframe tbody tr th:only-of-type {\n",
       "        vertical-align: middle;\n",
       "    }\n",
       "\n",
       "    .dataframe tbody tr th {\n",
       "        vertical-align: top;\n",
       "    }\n",
       "\n",
       "    .dataframe thead th {\n",
       "        text-align: right;\n",
       "    }\n",
       "</style>\n",
       "<table border=\"1\" class=\"dataframe\">\n",
       "  <thead>\n",
       "    <tr style=\"text-align: right;\">\n",
       "      <th></th>\n",
       "      <th>feature</th>\n",
       "    </tr>\n",
       "    <tr>\n",
       "      <th>importance</th>\n",
       "      <th></th>\n",
       "    </tr>\n",
       "  </thead>\n",
       "  <tbody>\n",
       "    <tr>\n",
       "      <th>0.679748</th>\n",
       "      <td>log_return1_linear_weight</td>\n",
       "    </tr>\n",
       "    <tr>\n",
       "      <th>0.145496</th>\n",
       "      <td>log_return1</td>\n",
       "    </tr>\n",
       "    <tr>\n",
       "      <th>0.021974</th>\n",
       "      <td>log_return2</td>\n",
       "    </tr>\n",
       "    <tr>\n",
       "      <th>0.015845</th>\n",
       "      <td>size</td>\n",
       "    </tr>\n",
       "    <tr>\n",
       "      <th>0.012172</th>\n",
       "      <td>bid_size1_mean</td>\n",
       "    </tr>\n",
       "    <tr>\n",
       "      <th>0.011502</th>\n",
       "      <td>ask_size1_mean</td>\n",
       "    </tr>\n",
       "    <tr>\n",
       "      <th>0.010955</th>\n",
       "      <td>bid_size2_var</td>\n",
       "    </tr>\n",
       "    <tr>\n",
       "      <th>0.010810</th>\n",
       "      <td>ask_size2_var</td>\n",
       "    </tr>\n",
       "    <tr>\n",
       "      <th>0.010767</th>\n",
       "      <td>bid_size1_var</td>\n",
       "    </tr>\n",
       "    <tr>\n",
       "      <th>0.010582</th>\n",
       "      <td>ask_size1_var</td>\n",
       "    </tr>\n",
       "    <tr>\n",
       "      <th>0.010492</th>\n",
       "      <td>bid_size2_mean</td>\n",
       "    </tr>\n",
       "    <tr>\n",
       "      <th>0.010409</th>\n",
       "      <td>stock_id</td>\n",
       "    </tr>\n",
       "    <tr>\n",
       "      <th>0.009947</th>\n",
       "      <td>ask_size2_mean</td>\n",
       "    </tr>\n",
       "    <tr>\n",
       "      <th>0.005454</th>\n",
       "      <td>bid_price2_mean</td>\n",
       "    </tr>\n",
       "    <tr>\n",
       "      <th>0.005341</th>\n",
       "      <td>ask_price2_mean</td>\n",
       "    </tr>\n",
       "    <tr>\n",
       "      <th>0.005037</th>\n",
       "      <td>bid_price1_mean</td>\n",
       "    </tr>\n",
       "    <tr>\n",
       "      <th>0.004928</th>\n",
       "      <td>ask_price1_mean</td>\n",
       "    </tr>\n",
       "    <tr>\n",
       "      <th>0.004896</th>\n",
       "      <td>bid_price2_var</td>\n",
       "    </tr>\n",
       "    <tr>\n",
       "      <th>0.004892</th>\n",
       "      <td>ask_price2_var</td>\n",
       "    </tr>\n",
       "    <tr>\n",
       "      <th>0.004380</th>\n",
       "      <td>bid_price1_var</td>\n",
       "    </tr>\n",
       "    <tr>\n",
       "      <th>0.004373</th>\n",
       "      <td>ask_price1_var</td>\n",
       "    </tr>\n",
       "  </tbody>\n",
       "</table>\n",
       "</div>"
      ],
      "text/plain": [
       "                              feature\n",
       "importance                           \n",
       "0.679748    log_return1_linear_weight\n",
       "0.145496                  log_return1\n",
       "0.021974                  log_return2\n",
       "0.015845                         size\n",
       "0.012172               bid_size1_mean\n",
       "0.011502               ask_size1_mean\n",
       "0.010955                bid_size2_var\n",
       "0.010810                ask_size2_var\n",
       "0.010767                bid_size1_var\n",
       "0.010582                ask_size1_var\n",
       "0.010492               bid_size2_mean\n",
       "0.010409                     stock_id\n",
       "0.009947               ask_size2_mean\n",
       "0.005454              bid_price2_mean\n",
       "0.005341              ask_price2_mean\n",
       "0.005037              bid_price1_mean\n",
       "0.004928              ask_price1_mean\n",
       "0.004896               bid_price2_var\n",
       "0.004892               ask_price2_var\n",
       "0.004380               bid_price1_var\n",
       "0.004373               ask_price1_var"
      ]
     },
     "execution_count": 56,
     "metadata": {},
     "output_type": "execute_result"
    },
    {
     "name": "stdout",
     "output_type": "stream",
     "text": [
      "In [56] used 0.1016 MiB RAM in 0.29s, peaked 0.00 MiB above current, total RAM usage 6268.91 MiB\n"
     ]
    }
   ],
   "source": [
    "if 'feature_importances_' in dir(est):\n",
    "    feature_col = 'feature_importances_'\n",
    "if 'coef_' in dir(est):\n",
    "    feature_col = 'coef_'\n",
    "df_features = pd.DataFrame(zip(getattr(est, feature_col), feature_cols), columns=['importance', 'feature']).set_index('importance')\n",
    "df_features.sort_index(ascending=False)"
   ]
  },
  {
   "cell_type": "markdown",
   "id": "22d4f4d0-f8ee-41b2-bd0b-4d82359c54a9",
   "metadata": {},
   "source": [
    "# Make predictions"
   ]
  },
  {
   "cell_type": "code",
   "execution_count": 57,
   "id": "7adc3039-b6b6-4891-8366-cc9bdda5099b",
   "metadata": {},
   "outputs": [
    {
     "data": {
      "text/plain": [
       "112"
      ]
     },
     "execution_count": 57,
     "metadata": {},
     "output_type": "execute_result"
    },
    {
     "name": "stdout",
     "output_type": "stream",
     "text": [
      "In [57] used 0.0000 MiB RAM in 0.11s, peaked 0.00 MiB above current, total RAM usage 6268.91 MiB\n"
     ]
    }
   ],
   "source": [
    "len(stock_ids) # expecting 112"
   ]
  },
  {
   "cell_type": "code",
   "execution_count": 58,
   "id": "a9fd51f1-5583-4718-8edc-066c6bf9b74b",
   "metadata": {},
   "outputs": [
    {
     "name": "stdout",
     "output_type": "stream",
     "text": [
      "/home/ian/data/kaggle/optiver_volatility/ book_test_local.parquet\n",
      "[2c] 22,980x2, 0 nulls, is_view True, is_single_block True, is_consolidated True\n",
      "In [58] used 0.6172 MiB RAM in 0.14s, peaked 0.00 MiB above current, total RAM usage 6269.53 MiB\n"
     ]
    }
   ],
   "source": [
    "if USE_TEST_LOCAL_6_ITEMS: # True if debugging\n",
    "    # book train as a substitute\n",
    "    df_test_all = pd.read_csv(os.path.join(ROOT, 'test_local.csv'))\n",
    "    df_test_all = df_test_all.rename(columns={'target': 'train_target'})\n",
    "    TEST_FOLDER = 'book_test_local.parquet'\n",
    "    assert ENV_HOME == True\n",
    "else:\n",
    "    df_test_all = pd.read_csv(TEST_CSV)\n",
    "    if df_test_all.shape[0] == 3: # kaggle test data\n",
    "        df_test_all = df_test_all[:1] # cut out 2 rows so predictions work    \n",
    "    TEST_FOLDER = 'book_test.parquet'\n",
    "print(ROOT, TEST_FOLDER)\n",
    "df_test_all = df_test_all.set_index(['stock_id', 'time_id'])\n",
    "\n",
    "show_details(df_test_all)"
   ]
  },
  {
   "cell_type": "code",
   "execution_count": 59,
   "id": "aceff1e3-860e-4986-bd16-9c467325eb40",
   "metadata": {},
   "outputs": [
    {
     "name": "stderr",
     "output_type": "stream",
     "text": [
      "  0%|                                                                                                                                                                                                                   | 0/6 [00:00<?, ?it/s]/tmp/ipykernel_721316/1151768668.py:6: FutureWarning: elementwise comparison failed; returning scalar instead, but in the future will perform elementwise comparison\n",
      "  if weights == 'linear':\n",
      " 17%|█████████████████████████████████▊                                                                                                                                                                         | 1/6 [00:12<01:02, 12.51s/it]/tmp/ipykernel_721316/1151768668.py:6: FutureWarning: elementwise comparison failed; returning scalar instead, but in the future will perform elementwise comparison\n",
      "  if weights == 'linear':\n",
      " 33%|███████████████████████████████████████████████████████████████████▋                                                                                                                                       | 2/6 [00:23<00:46, 11.51s/it]/tmp/ipykernel_721316/1151768668.py:6: FutureWarning: elementwise comparison failed; returning scalar instead, but in the future will perform elementwise comparison\n",
      "  if weights == 'linear':\n",
      " 50%|█████████████████████████████████████████████████████████████████████████████████████████████████████▌                                                                                                     | 3/6 [00:35<00:35, 11.98s/it]/tmp/ipykernel_721316/1151768668.py:6: FutureWarning: elementwise comparison failed; returning scalar instead, but in the future will perform elementwise comparison\n",
      "  if weights == 'linear':\n",
      " 67%|███████████████████████████████████████████████████████████████████████████████████████████████████████████████████████████████████████▎                                                                   | 4/6 [00:49<00:24, 12.47s/it]/tmp/ipykernel_721316/1151768668.py:6: FutureWarning: elementwise comparison failed; returning scalar instead, but in the future will perform elementwise comparison\n",
      "  if weights == 'linear':\n",
      " 83%|█████████████████████████████████████████████████████████████████████████████████████████████████████████████████████████████████████████████████████████████████████████▏                                 | 5/6 [01:01<00:12, 12.30s/it]/tmp/ipykernel_721316/1151768668.py:6: FutureWarning: elementwise comparison failed; returning scalar instead, but in the future will perform elementwise comparison\n",
      "  if weights == 'linear':\n",
      "100%|███████████████████████████████████████████████████████████████████████████████████████████████████████████████████████████████████████████████████████████████████████████████████████████████████████████| 6/6 [01:13<00:00, 12.29s/it]"
     ]
    },
    {
     "name": "stdout",
     "output_type": "stream",
     "text": [
      "In [59] used 40.0391 MiB RAM in 73.87s, peaked 434.25 MiB above current, total RAM usage 6309.57 MiB\n"
     ]
    },
    {
     "name": "stderr",
     "output_type": "stream",
     "text": [
      "\n"
     ]
    }
   ],
   "source": [
    "test_set_predictions = []\n",
    "stock_ids_test = get_training_stock_ids(TEST_FOLDER) # all stocks by default\n",
    "\n",
    "df_test_predictions = pd.DataFrame() # prediction set to build up\n",
    "for stock_id in tqdm(stock_ids_test):\n",
    "    df_test_all_X = df_test_all.query('stock_id==@stock_id').copy()\n",
    "    test_merged = load_data_build_features(stock_id, ROOT, TEST_FOLDER, cols, df_test_all)\n",
    "    test_set_predictions_X = est.predict(test_merged.reset_index()[list(features) + ['stock_id']])\n",
    "    df_test_all_X['target'] = test_set_predictions_X\n",
    "    df_test_predictions = pd.concat((df_test_predictions, df_test_all_X))\n",
    "    \n",
    "assert df_test_all.shape[0] == df_test_predictions.shape[0], \"Expecting all rows to be predicted\""
   ]
  },
  {
   "cell_type": "code",
   "execution_count": 60,
   "id": "d830622f-77ac-4333-9f75-b244242e4ac8",
   "metadata": {},
   "outputs": [
    {
     "name": "stdout",
     "output_type": "stream",
     "text": [
      "Writing 22980 rows to submission.csv on 2021-08-04 18:49:14.940272\n",
      "[2c] 22,980x3, 0 nulls, is_view True, is_single_block True, is_consolidated True\n",
      "Notebook took 0:55:46.108152 to run\n",
      "In [60] used -0.1836 MiB RAM in 0.19s, peaked 0.18 MiB above current, total RAM usage 6309.38 MiB\n"
     ]
    }
   ],
   "source": [
    "print(f\"Writing {df_test_predictions.shape[0]} rows to submission.csv on {datetime.datetime.utcnow()}\")\n",
    "df_test_predictions.reset_index()[['row_id', 'target']].to_csv('submission.csv', index=False)\n",
    "show_details(df_test_predictions)\n",
    "print(f'Notebook took {datetime.datetime.utcnow()-t1_notebook_start} to run')"
   ]
  },
  {
   "cell_type": "code",
   "execution_count": 61,
   "id": "8602e701-1e85-41a7-9054-3fce950e14a0",
   "metadata": {},
   "outputs": [
    {
     "name": "stdout",
     "output_type": "stream",
     "text": [
      "In [61] used 0.1641 MiB RAM in 0.10s, peaked 0.00 MiB above current, total RAM usage 6309.55 MiB\n"
     ]
    }
   ],
   "source": [
    "if not ENV_HOME:\n",
    "    assert USE_ALL_STOCK_IDS, \"If we're on Kaggle but not using all stock_ids, we're not ready to submit, so fail here to remind me to change USSE_ALL_STOCK_IDS!\""
   ]
  },
  {
   "cell_type": "code",
   "execution_count": null,
   "id": "131d6907-122e-41c2-b3cd-193c513038b3",
   "metadata": {},
   "outputs": [],
   "source": []
  },
  {
   "cell_type": "code",
   "execution_count": null,
   "id": "9584b693-27af-4dd2-94e0-619bc8d99f29",
   "metadata": {},
   "outputs": [],
   "source": []
  },
  {
   "cell_type": "code",
   "execution_count": null,
   "id": "40bb5110-fc67-4a4f-af91-b3e27029ed24",
   "metadata": {},
   "outputs": [],
   "source": []
  },
  {
   "cell_type": "code",
   "execution_count": 62,
   "id": "2bba71cb-2747-4e06-8b75-00ce04fc7c7f",
   "metadata": {},
   "outputs": [
    {
     "name": "stdout",
     "output_type": "stream",
     "text": [
      "In [62] used 0.0000 MiB RAM in 0.10s, peaked 0.00 MiB above current, total RAM usage 6309.55 MiB\n"
     ]
    }
   ],
   "source": [
    "if False:\n",
    "    print(f'Iterating over {len(stock_ids)} stocks:')\n",
    "    all_train_merged = []\n",
    "    for stock_id in tqdm(stock_ids):\n",
    "        assert isinstance(stock_id, int)\n",
    "        df_book_train_stock_X = pd.read_parquet(\n",
    "            os.path.join(ROOT, f\"book_train.parquet/stock_id={stock_id}\")\n",
    "        )\n",
    "        df_book_train_stock_X[\"stock_id\"] = stock_id\n",
    "        df_book_train_stock_X = df_book_train_stock_X.set_index(['stock_id', 'time_id'])\n",
    "        assert df_book_train_stock_X.shape[0] > rows_for_stock_id_0, (df_book_train_stock_X.shape[0], rows_for_stock_id_0)\n",
    "\n",
    "        cols = ['bid_price1', 'ask_price1', 'bid_price2', 'ask_price2', 'bid_size1', 'ask_size1']\n",
    "        features_var1 = make_features_stats(df_book_train_stock_X, 'var', cols)\n",
    "        #print(f\"{features_var1.memory_usage().sum() / 1_000_000:0.1f} MB\")\n",
    "        features_mean1 = make_features_stats(df_book_train_stock_X, 'mean', cols)\n",
    "\n",
    "        # inner join, so we just get the subset\n",
    "        df_train_stock_X = df_train_all.query('stock_id == @stock_id')\n",
    "        to_merge = [df_train_stock_X, features_var1, features_mean1]\n",
    "        row_lengths = [df.shape[0] for df in to_merge]\n",
    "        assert len(set(row_lengths)) == 1, row_lengths # should all be same length\n",
    "        train_merged = pd.concat(to_merge, axis=1)\n",
    "        all_train_merged.append(train_merged)"
   ]
  },
  {
   "cell_type": "code",
   "execution_count": 63,
   "id": "774afa82-9c9c-4a2b-8a44-bf815ff7e07c",
   "metadata": {},
   "outputs": [
    {
     "name": "stdout",
     "output_type": "stream",
     "text": [
      "In [63] used -0.0195 MiB RAM in 0.11s, peaked 0.02 MiB above current, total RAM usage 6309.53 MiB\n"
     ]
    }
   ],
   "source": [
    "if False:\n",
    "    #for stock_id in tqdm(stock_ids_test):\n",
    "    if False:\n",
    "        parquet_filename = os.path.join(ROOT, f'{TEST_FOLDER}/stock_id={stock_id}')\n",
    "        #print(f\"reading {parquet_filename}\")\n",
    "        df_book_test_stock_X = pd.read_parquet(parquet_filename)\n",
    "        df_book_test_stock_X['stock_id'] = stock_id\n",
    "        features_var1_test = make_features_stats(df_book_test_stock_X, 'var', cols)\n",
    "        features_mean1_test = make_features_stats(df_book_test_stock_X, 'mean', cols)\n",
    "\n",
    "        df_test_all_X = df_test_all.query('stock_id==@stock_id').copy()\n",
    "        test_merged = pd.merge(df_test_all_X, features_var1_test, left_index=True, right_index=True)\n",
    "        test_merged = pd.merge(test_merged, features_mean1_test, left_index=True, right_index=True)\n",
    "        #test_merged = pd.merge(df_test_all_X, features_var1_test, left_index=True, right_index=True)\n",
    "        test_set_predictions_X = est.predict(test_merged.reset_index()[list(features) + ['stock_id']])\n",
    "        df_test_all_X['target'] = test_set_predictions_X\n",
    "        df_test_predictions = pd.concat((df_test_predictions, df_test_all_X))\n"
   ]
  },
  {
   "cell_type": "code",
   "execution_count": null,
   "id": "efc0b85b-1635-41ed-bad1-f257cb851204",
   "metadata": {},
   "outputs": [],
   "source": []
  }
 ],
 "metadata": {
  "kernelspec": {
   "display_name": "Python 3 (ipykernel)",
   "language": "python",
   "name": "python3"
  },
  "language_info": {
   "codemirror_mode": {
    "name": "ipython",
    "version": 3
   },
   "file_extension": ".py",
   "mimetype": "text/x-python",
   "name": "python",
   "nbconvert_exporter": "python",
   "pygments_lexer": "ipython3",
   "version": "3.8.10"
  }
 },
 "nbformat": 4,
 "nbformat_minor": 5
}
